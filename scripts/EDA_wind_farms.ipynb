{
 "cells": [
  {
   "cell_type": "code",
   "execution_count": 61,
   "metadata": {},
   "outputs": [],
   "source": [
    "import numpy as np\n",
    "import pandas as pd\n",
    "import datetime"
   ]
  },
  {
   "cell_type": "code",
   "execution_count": 62,
   "metadata": {},
   "outputs": [
    {
     "name": "stdout",
     "output_type": "stream",
     "text": [
      "<class 'pandas.core.frame.DataFrame'>\n",
      "RangeIndex: 1200 entries, 0 to 1199\n",
      "Data columns (total 6 columns):\n",
      " #   Column     Non-Null Count  Dtype  \n",
      "---  ------     --------------  -----  \n",
      " 0   farm_name  1200 non-null   object \n",
      " 1   zone       1200 non-null   object \n",
      " 2   city       1144 non-null   object \n",
      " 3   turbines   1200 non-null   int64  \n",
      " 4   latitude   1200 non-null   float64\n",
      " 5   longitude  1200 non-null   float64\n",
      "dtypes: float64(2), int64(1), object(3)\n",
      "memory usage: 56.4+ KB\n",
      "None\n"
     ]
    }
   ],
   "source": [
    "wind_farms = pd.read_csv(\"../data/wind_farms_data.csv\")\n",
    "print(wind_farms.info())\n"
   ]
  },
  {
   "cell_type": "markdown",
   "metadata": {},
   "source": [
    "Drop stations outside the Iberian Peninsula as they are not relevant for power generation forecasting."
   ]
  },
  {
   "cell_type": "code",
   "execution_count": 63,
   "metadata": {},
   "outputs": [],
   "source": [
    "wind_farms = wind_farms[wind_farms.latitude > 30]\n",
    "wind_farms = wind_farms[wind_farms.turbines > 0]"
   ]
  },
  {
   "cell_type": "code",
   "execution_count": 64,
   "metadata": {},
   "outputs": [
    {
     "data": {
      "application/vnd.plotly.v1+json": {
       "config": {
        "plotlyServerURL": "https://plot.ly"
       },
       "data": [
        {
         "customdata": [
          [
           "La Coruna (Galicia)",
           "Cariño, Cedeira, Ortigueira"
          ],
          [
           "La Coruna (Galicia)",
           "Cariño, Cedeira, Ortigueira"
          ],
          [
           "Lugo (Galicia)",
           "A Pastoriza, Mondoñedo, Riotorto"
          ],
          [
           "La Coruna (Galicia)",
           "Muros, Mazaricos"
          ],
          [
           "Albacete (Castilla-La Mancha)",
           "Pozo Llorente "
          ],
          [
           "Albacete (Castilla-La Mancha)",
           "Pozo Llorente"
          ],
          [
           "Zaragoza (Aragon)",
           "Zaragoza "
          ],
          [
           "Zaragoza (Aragon)",
           "Zaragoza"
          ],
          [
           "Zaragoza (Aragon)",
           "Zaragoza"
          ],
          [
           "La Coruna (Galicia)",
           "Carnota, Mazaricos"
          ],
          [
           "Zamora (Castilla y Leon)",
           "Lubián "
          ],
          [
           "Zamora (Castilla y Leon)",
           "Lubián"
          ],
          [
           "Zamora (Castilla y Leon)",
           "Pías"
          ],
          [
           "Soria (Castilla y Leon)",
           "Ágreda"
          ],
          [
           "Zamora (Castilla y Leon)",
           "Lubián, Pias"
          ],
          [
           "Zamora (Castilla y Leon)",
           "Lubián, Pias"
          ],
          [
           "Navarra",
           "Lumbier, Aibar, Urraúl"
          ],
          [
           "Navarra",
           "Cendea de Galar"
          ],
          [
           "Navarra",
           "Olóriz,Unzué"
          ],
          [
           "Salamanca (Castilla y Leon)",
           null
          ],
          [
           "Logroño (La Rioja)",
           "Cervera del Río Alhama"
          ],
          [
           "Logroño (La Rioja)",
           "Cervera del Río Alhama"
          ],
          [
           "Palencia (Castilla y Leon)",
           "Ampudia"
          ],
          [
           "Avila (Castilla y Leon)",
           "Sta, Maria del Cubillo"
          ],
          [
           "Soria (Castilla y Leon)",
           "Alentisque"
          ],
          [
           "Ciudad Real (Castilla-La Mancha)",
           "Alhambra, La Solana, Membrilla"
          ],
          [
           "Cadiz (Andalucía)",
           "Jeréz de la Frontera"
          ],
          [
           "Cadiz (Andalucía)",
           "Jeréz de la Frontera"
          ],
          [
           "Teruel (Aragon)",
           "Allueva, Fonfría, Adanón"
          ],
          [
           "Zaragoza (Aragon)",
           "Sestrica"
          ],
          [
           "Cadiz (Andalucía)",
           "Tarifa"
          ],
          [
           "Murcia",
           "Jumilla"
          ],
          [
           "Murcia",
           "Jumilla"
          ],
          [
           "Cadiz (Andalucía)",
           "Medina, Sidonia"
          ],
          [
           "Tarragona (Cataluna)",
           "Pujalt, Veciana, Prats de Rei, Calonge de Segarra "
          ],
          [
           "Málaga (Andalucía)",
           "Teba, Almargen (Málaga)"
          ],
          [
           "Castellon (Comunidad Valenciana)",
           "Barracas, Viver"
          ],
          [
           "Castellon (Comunidad Valenciana)",
           "Pina de Montalgrao "
          ],
          [
           "La Coruna (Galicia)",
           null
          ],
          [
           "La Coruna (Galicia)",
           null
          ],
          [
           "Burgos (Castilla y Leon)",
           "Castrojériz "
          ],
          [
           "Palencia (Castilla y Leon)",
           "Monzón de Campos"
          ],
          [
           "Lugo (Galicia)",
           "Abadín, A Pastoriza (Lugo)"
          ],
          [
           "Asturias",
           "El Franco, Coaña"
          ],
          [
           "Castellon (Comunidad Valenciana)",
           "Barracas, Viver"
          ],
          [
           "Castellon (Comunidad Valenciana)",
           "Barracas, Viver"
          ],
          [
           "Castellon (Comunidad Valenciana)",
           "Barracas, Viver "
          ],
          [
           "Avila (Castilla y Leon)",
           "Las Navas del Marqués"
          ],
          [
           "Ourense (Galicia)",
           "Forcarei, Lalín (Pontevedra), O Irixo (Ourense)"
          ],
          [
           "Pontevedra (Galicia)",
           "Dumbria, Cee"
          ],
          [
           "Burgos (Castilla y Leon)",
           "Valle de Valdebezana"
          ],
          [
           "Zaragoza (Aragon)",
           "La Muela"
          ],
          [
           "Pontevedra (Galicia)",
           "Arbo"
          ],
          [
           "Leon (Castilla y Leon)",
           "Santa Colomba de Samoza, Torre del Bierzo"
          ],
          [
           "Castellon (Comunidad Valenciana)",
           "Castellfort, Villafranca del Cid, Ares del Maestre"
          ],
          [
           "Burgos (Castilla y Leon)",
           "Alfoz de Quintanadueñas "
          ],
          [
           "La Coruna (Galicia)",
           "Arteixo "
          ],
          [
           "Zaragoza (Aragon)",
           "Ejea de los Caballeros"
          ],
          [
           "Pontevedra (Galicia)",
           "As Neves "
          ],
          [
           "Murcia",
           "Cieza"
          ],
          [
           "Murcia",
           "Cieza"
          ],
          [
           "Albacete (Castilla-La Mancha)",
           "Peñas de San Pedro"
          ],
          [
           "Zaragoza (Aragon)",
           "Pedrola, Luceni"
          ],
          [
           "Zaragoza (Aragon)",
           "Pedrola, Luceni"
          ],
          [
           "Burgos (Castilla y Leon)",
           "Ausines"
          ],
          [
           "Cadiz (Andalucía)",
           "Tarifa"
          ],
          [
           "Avila (Castilla y Leon)",
           "Avila, Tornadizos"
          ],
          [
           "Alava (Euskadi)",
           "Kuartango, Ribera Alta e Iruña Oka"
          ],
          [
           "Ciudad Real (Castilla-La Mancha)",
           "Alhambra, Membrilla"
          ],
          [
           "Burgos (Castilla y Leon)",
           "Castrojeriz, Vallejera"
          ],
          [
           "Salamanca (Castilla y Leon)",
           "Palacios del Arzobispo, Zamayón"
          ],
          [
           "Asturias",
           "Salas, Valdes, Cudillero"
          ],
          [
           "Asturias",
           "Salas, Valdes, Cudillero "
          ],
          [
           "Navarra",
           "Barasoain"
          ],
          [
           "La Coruna (Galicia)",
           "Porto do Son, Pobra do Caramiñal"
          ],
          [
           "La Coruna (Galicia)",
           "Porto do Son, Pobra do Caramiñal"
          ],
          [
           "Tarragona (Cataluna)",
           "Ascó"
          ],
          [
           "Cuenca (Castilla-La Mancha)",
           "Barchin del Hoyo"
          ],
          [
           "Albacete (Castilla-La Mancha)",
           "Barrax"
          ],
          [
           "Albacete (Castilla-La Mancha)",
           "Barrax"
          ],
          [
           "Palencia (Castilla y Leon)",
           "Becerril de Campos "
          ],
          [
           "Zaragoza (Aragon)",
           "Belchite"
          ],
          [
           "Asturias",
           "Belmonte de Miranda"
          ],
          [
           "Valencia (Comunidad Valenciana)",
           "Enguera"
          ],
          [
           "Valencia (Comunidad Valenciana)",
           "Enguera"
          ],
          [
           "Pontevedra (Galicia)",
           "Fornelos de Montes, Covelo (Pontevedra), Avión (Ourense),"
          ],
          [
           "Valencia (Comunidad Valenciana)",
           "Jarafuel"
          ],
          [
           "Cadiz (Andalucía)",
           "Jeréz de la Frontera"
          ],
          [
           "Albacete (Castilla-La Mancha)",
           "Villa de Ves, Casas del Ves"
          ],
          [
           "Zaragoza (Aragon)",
           "Borja"
          ],
          [
           "Zaragoza (Aragon)",
           "Borja"
          ],
          [
           "Zaragoza (Aragon)",
           "Borja"
          ],
          [
           "Soria (Castilla y Leon)",
           "Bordecorex"
          ],
          [
           "Zaragoza (Aragon)",
           "Borja"
          ],
          [
           "Zaragoza (Aragon)",
           "Borja"
          ],
          [
           "Zaragoza (Aragon)",
           "María de Huerva"
          ],
          [
           "Zaragoza (Aragon)",
           "Borja"
          ],
          [
           "Zaragoza (Aragon)",
           "Borja"
          ],
          [
           "Zaragoza (Aragon)",
           "Mallén"
          ],
          [
           "Albacete (Castilla-La Mancha)",
           "Pinilla"
          ],
          [
           "Burgos (Castilla y Leon)",
           "Villadiego"
          ],
          [
           "Cadiz (Andalucía)",
           "Barbate"
          ],
          [
           "La Coruna (Galicia)",
           "Concello de Valadouro"
          ],
          [
           "Soria (Castilla y Leon)",
           "Arcos de Jalón, Almaluez, Medinaceli "
          ],
          [
           "Burgos (Castilla y Leon)",
           "Monasterio de Rodilla, Galbarros, Briviesca, Santa Olalla de Bureba, Reinoso, Quintanavides"
          ],
          [
           "Asturias",
           null
          ],
          [
           "La Coruna (Galicia)",
           "As Pontes, Muras"
          ],
          [
           "Toledo (Castilla-La Mancha)",
           "Madridejos"
          ],
          [
           "Avila (Castilla y Leon)",
           "San Juan del Olmo, Vadillo de la Sierra "
          ],
          [
           "Albacete (Castilla-La Mancha)",
           "El Bonillo"
          ],
          [
           "Zaragoza (Aragon)",
           "Muel"
          ],
          [
           "Zaragoza (Aragon)",
           "Jaullín "
          ],
          [
           "Albacete (Castilla-La Mancha)",
           "Maranchón"
          ],
          [
           "Logroño (La Rioja)",
           "Robles del Arnedillo"
          ],
          [
           "La Coruna (Galicia)",
           "Camariñas "
          ],
          [
           "La Coruna (Galicia)",
           "Camariñas"
          ],
          [
           "La Coruna (Galicia)",
           "Camariñas"
          ],
          [
           "Castellon (Comunidad Valenciana)",
           "Portell de Morella"
          ],
          [
           "Lugo (Galicia)",
           "Trabada, Riotorto, A Pontenova, Lourenza"
          ],
          [
           "Guadalajara (Castilla-La Mancha)",
           "Hombrados, Pobo de Dueñas"
          ],
          [
           "Cuenca (Castilla-La Mancha)",
           "Olmedilla"
          ],
          [
           "Navarra",
           "Peralta, Funés"
          ],
          [
           "Cuenca (Castilla-La Mancha)",
           "Graja, Campalbo"
          ],
          [
           "Burgos (Castilla y Leon)",
           "Carcedo de Burgos, Revillarruz "
          ],
          [
           "Guadalajara (Castilla-La Mancha)",
           "Campisabalos"
          ],
          [
           "Pontevedra (Galicia)",
           "Forcarei"
          ],
          [
           "Zaragoza (Aragon)",
           "Borja"
          ],
          [
           "Zaragoza (Aragon)",
           "Alfajarín, Villamayor de Gállego"
          ],
          [
           "Soria (Castilla y Leon)",
           "Montejo Tiermes, Retortillo"
          ],
          [
           "Cantabria",
           "Ramales de la Victoria"
          ],
          [
           "Cantabria",
           "Soba "
          ],
          [
           "Guadalajara (Castilla-La Mancha)",
           "Canredondo, Torrecuadradilla"
          ],
          [
           "Sevilla (Andalucía)",
           "Osuna "
          ],
          [
           "Guadalajara (Castilla-La Mancha)",
           "Cantalojas"
          ],
          [
           "Guadalajara (Castilla-La Mancha)",
           "Cantalojas"
          ],
          [
           "Burgos (Castilla y Leon)",
           "Valle de Senado"
          ],
          [
           "Navarra",
           "Caparroso "
          ],
          [
           "Albacete (Castilla-La Mancha)",
           "Albacete, Peñas de San Pedro"
          ],
          [
           "Albacete (Castilla-La Mancha)",
           "Peñas de San Pedro"
          ],
          [
           "Soria (Castilla y Leon)",
           "Medinaceli "
          ],
          [
           "Lugo (Galicia)",
           "Muras, Villalba"
          ],
          [
           "Lugo (Galicia)",
           "As Pontes de García Rodríguez (A Coruña), Xermade (Lugo)"
          ],
          [
           "Albacete (Castilla-La Mancha)",
           "Carcelén"
          ],
          [
           "La Coruna (Galicia)",
           "Melide, Toques"
          ],
          [
           "Asturias",
           "Allande, Villayón"
          ],
          [
           "Lugo (Galicia)",
           "A Pastoriza, Mondonedo"
          ],
          [
           "Soria (Castilla y Leon)",
           "Medinaceli "
          ],
          [
           "Cuenca (Castilla-La Mancha)",
           "Campos del Paraíso"
          ],
          [
           "Palencia (Castilla y Leon)",
           "Astudillo, Pedrosa del Príncipe"
          ],
          [
           "Valladolid (Castilla y Leon)",
           "Tordesillas, Velliza"
          ],
          [
           "Lugo (Galicia)",
           "Guitiriz, Villalba"
          ],
          [
           "Albacete (Castilla-La Mancha)",
           "Bonillo"
          ],
          [
           "Albacete (Castilla-La Mancha)",
           "Romica"
          ],
          [
           "La Coruna (Galicia)",
           "Coristanco, Tordoia"
          ],
          [
           "Soria (Castilla y Leon)",
           "Tejado"
          ],
          [
           "Soria (Castilla y Leon)",
           "Castilfrio"
          ],
          [
           "Cuenca (Castilla-La Mancha)",
           "Pinarejo, Castillo de Garcimuñoz"
          ],
          [
           "La Coruna (Galicia)",
           "As Pontes, Mañón"
          ],
          [
           "Palencia (Castilla y Leon)",
           "Valle de Cerrato,"
          ],
          [
           "Palencia (Castilla y Leon)",
           "Hornillos de Cerrato, Torquemada, Herrera de Valdecañas "
          ],
          [
           "Palencia (Castilla y Leon)",
           "Herrera de Valdecañas, Villahán "
          ],
          [
           "Leon (Castilla y Leon)",
           "Lucillo,Sta,Coloma de Somoza"
          ],
          [
           "Albacete (Castilla-La Mancha)",
           "Pinilla"
          ],
          [
           "Burgos (Castilla y Leon)",
           "Galbarros, Briviesca, Reinoso, Salinillas del Bureba"
          ],
          [
           "Cuenca (Castilla-La Mancha)",
           "Paredes, Alcazar del Rey"
          ],
          [
           "Cadiz (Andalucía)",
           "Vejer de la Frontera"
          ],
          [
           "Zaragoza (Aragon)",
           "Cadrete "
          ],
          [
           "Málaga (Andalucía)",
           "Ardales, Teba "
          ],
          [
           "Valencia (Comunidad Valenciana)",
           "La Yesa, Chelva, Andilla "
          ],
          [
           "Toledo (Castilla-La Mancha)",
           "Almonacid, Nambroca, Villaminaya"
          ],
          [
           "Albacete (Castilla-La Mancha)",
           "Higueruela"
          ],
          [
           "Albacete (Castilla-La Mancha)",
           "Almansa"
          ],
          [
           "Cuenca (Castilla-La Mancha)",
           "Tébar, Atalaya Cañavete"
          ],
          [
           "Sevilla (Andalucía)",
           "Los Corrales, El Saucejo, Almargen "
          ],
          [
           "Málaga (Andalucía)",
           "Campillos, Sierra de Yeguas "
          ],
          [
           "Toledo (Castilla-La Mancha)",
           "Nambroca, Almonacid"
          ],
          [
           "Valencia (Comunidad Valenciana)",
           "Aras de los Olmos"
          ],
          [
           "Albacete (Castilla-La Mancha)",
           "Caudete"
          ],
          [
           "Toledo (Castilla-La Mancha)",
           "Lillo"
          ],
          [
           "Albacete (Castilla-La Mancha)",
           "Pozocañada, Chinchilla del Monte Aragón"
          ],
          [
           "Albacete (Castilla-La Mancha)",
           "Pozocañada, Chinchilla del Monte Aragón"
          ],
          [
           "Soria (Castilla y Leon)",
           "Alcubilla de las Peñas, Medinaceli "
          ],
          [
           "Palencia (Castilla y Leon)",
           "Astudillo"
          ],
          [
           "Palencia (Castilla y Leon)",
           "Astudillo"
          ],
          [
           "Lugo (Galicia)",
           "O Vicedo"
          ],
          [
           "Lugo (Galicia)",
           "Chantada (Lugo), Rodeiro (La Coruña)"
          ],
          [
           "Asturias",
           "Villanueva de Oscos"
          ],
          [
           "Albacete (Castilla-La Mancha)",
           null
          ],
          [
           "Cadiz (Andalucía)",
           "San José del Valle, Jeréz de la Frontera"
          ],
          [
           "Cadiz (Andalucía)",
           "Jeréz de la Frontera"
          ],
          [
           "Cuenca (Castilla-La Mancha)",
           "Olmedilla"
          ],
          [
           "Zaragoza (Aragon)",
           "Grisel"
          ],
          [
           "Zamora (Castilla y Leon)",
           "Lubián"
          ],
          [
           "Guadalajara (Castilla-La Mancha)",
           "Maranchón, Luzón"
          ],
          [
           "Valencia (Comunidad Valenciana)",
           null
          ],
          [
           "Burgos (Castilla y Leon)",
           "Cogollos "
          ],
          [
           "Burgos (Castilla y Leon)",
           "Cogollos "
          ],
          [
           "Tarragona (Cataluna)",
           "El Molar, Torre del Español, La Figuera"
          ],
          [
           "Tarragona (Cataluna)",
           "Batea, Gandesa, Bot, Vilalba dels Arcs"
          ],
          [
           "Lleida (Cataluna)",
           "Almatret"
          ],
          [
           "Avila (Castilla y Leon)",
           "Valdecasa, Narrillos del Rebollar, Balbarda "
          ],
          [
           "Tarragona (Cataluna)",
           "Duesaigües"
          ],
          [
           "Tarragona (Cataluna)",
           "Conesa "
          ],
          [
           "Tarragona (Cataluna)",
           "Conesa, Forés "
          ],
          [
           "Tarragona (Cataluna)",
           "Corbera D´Ebre "
          ],
          [
           "La Coruna (Galicia)",
           "Aranga, Guitiriz"
          ],
          [
           "La Coruna (Galicia)",
           "Mañón, Ortigueira"
          ],
          [
           "La Coruna (Galicia)",
           "Ponteceso"
          ],
          [
           "Burgos (Castilla y Leon)",
           "Ayoluengo"
          ],
          [
           "Cadiz (Andalucía)",
           "Puerto Real"
          ],
          [
           "Cadiz (Andalucía)",
           "Puerto Real"
          ],
          [
           "Cadiz (Andalucía)",
           "Tarifa"
          ],
          [
           "Málaga (Andalucía)",
           "Campillos, Teba "
          ],
          [
           "Lugo (Galicia)",
           "Muras"
          ],
          [
           "La Coruna (Galicia)",
           "Negreira"
          ],
          [
           "La Coruna (Galicia)",
           "Boimorto, Melida, Sobrado, Toques"
          ],
          [
           "La Coruna (Galicia)",
           "Sobrado, Boimorto "
          ],
          [
           "Lugo (Galicia)",
           "As Pontes, Mañón"
          ],
          [
           "La Coruna (Galicia)",
           "Cedeira, Ortigueira"
          ],
          [
           "Lugo (Galicia)",
           "Ourol "
          ],
          [
           "Pontevedra (Galicia)",
           "Concellos de Estrada"
          ],
          [
           "Lugo (Galicia)",
           "Friol, Guitiriz "
          ],
          [
           "Lugo (Galicia)",
           "Friol, Guitiriz"
          ],
          [
           "Ciudad Real (Castilla-La Mancha)",
           "Membrilla, Valdepeñas, San Carlos del Valle, Alhambra"
          ],
          [
           "Palencia (Castilla y Leon)",
           "Cardeñosa de Volpejera, Villamuera de la Cueza, Villanueva de Rebollar "
          ],
          [
           "Avila (Castilla y Leon)",
           "Sta, Maria del Cubillo"
          ],
          [
           "Avila (Castilla y Leon)",
           "Sta, Maria del Cubillo"
          ],
          [
           "Cuenca (Castilla-La Mancha)",
           "San Martín de Boniches"
          ],
          [
           "Cuenca (Castilla-La Mancha)",
           "San Martín de Boniches"
          ],
          [
           "Lugo (Galicia)",
           "Alfoz, Abadin"
          ],
          [
           "Cuenca (Castilla-La Mancha)",
           "Tébar, Atalaya Cañavete"
          ],
          [
           "Palencia (Castilla y Leon)",
           "Ampudia"
          ],
          [
           "Granada (Andalucía)",
           "Loja"
          ],
          [
           "Cuenca (Castilla-La Mancha)",
           "Torrejoncillo del Rey, Huerta de la Obispalía"
          ],
          [
           "Asturias",
           "Salas, Valdes"
          ],
          [
           "Asturias",
           "Salas, Valdes "
          ],
          [
           "La Coruna (Galicia)",
           "Currasy Mazaricos"
          ],
          [
           "Palencia (Castilla y Leon)",
           "Puebla de Valdivia "
          ],
          [
           "Zaragoza (Aragon)",
           "Plasencia de Jalón"
          ],
          [
           "Albacete (Castilla-La Mancha)",
           "Alatoz"
          ],
          [
           "Offshore",
           null
          ],
          [
           "Pontevedra (Galicia)",
           "Melón (Ourense), Covelo, A Cañiza (Pontevedra)"
          ],
          [
           "La Coruna (Galicia)",
           "Camariñas"
          ],
          [
           "Granada (Andalucía)",
           "Huenéja, Dólar"
          ],
          [
           "Granada (Andalucía)",
           "Dólar, Ferreira"
          ],
          [
           "Granada (Andalucía)",
           "Dólar, Ferreira"
          ],
          [
           "Cadiz (Andalucía)",
           "Jeréz de la Frontera"
          ],
          [
           "Palencia (Castilla y Leon)",
           "Magaz de Pisuerga"
          ],
          [
           "Guadalajara (Castilla-La Mancha)",
           "Miedes de Atienza, Bañuelos"
          ],
          [
           "Palencia (Castilla y Leon)",
           "Costrarroleña"
          ],
          [
           "Navarra",
           "Oloriz, Unzué"
          ],
          [
           "Tarragona (Cataluna)",
           "Tortosa"
          ],
          [
           "Cadiz (Andalucía)",
           "Tarifa"
          ],
          [
           "Asturias",
           "Grandas de Salime"
          ],
          [
           "Zaragoza (Aragon)",
           "Pedrola"
          ],
          [
           "Zaragoza (Aragon)",
           "Pedrola, Aragón"
          ],
          [
           "Málaga (Andalucía)",
           "Campillos "
          ],
          [
           "Huesca (Aragon)",
           "Gurrea de Gállego"
          ],
          [
           "Cadiz (Andalucía)",
           "Tarifa"
          ],
          [
           "Zaragoza (Aragon)",
           "Pedrola, Luceni"
          ],
          [
           "Cadiz (Andalucía)",
           "Tarifa"
          ],
          [
           "Cadiz (Andalucía)",
           "Tarifa"
          ],
          [
           "Zaragoza (Aragon)",
           "Mallén, Fréscano"
          ],
          [
           "Asturias",
           "Boal, Castropol"
          ],
          [
           "Burgos (Castilla y Leon)",
           "Valle de Manzanedo"
          ],
          [
           "Almeria (Andalucía)",
           "Serón, Tíjola"
          ],
          [
           "Almeria (Andalucía)",
           "Serón, Tíjola"
          ],
          [
           "Burgos (Castilla y Leon)",
           "Castrojeriz, Pedrosa del Príncipe"
          ],
          [
           "Burgos (Castilla y Leon)",
           "Castrojeriz, Pedrosa del Príncipe "
          ],
          [
           "Palencia (Castilla y Leon)",
           "Pedraza de Campos, Torremormojón "
          ],
          [
           "Soria (Castilla y Leon)",
           "Oncala,Huérteles,S,Pedro Manrique"
          ],
          [
           "Huelva (Andalucía)",
           "Puebla de Guzmán "
          ],
          [
           "Burgos (Castilla y Leon)",
           "Valle de Sedano, los Alto de Dobro"
          ],
          [
           "Burgos (Castilla y Leon)",
           "Valle de Sedano, Los Altos"
          ],
          [
           "Guadalajara (Castilla-La Mancha)",
           "Villaverde del Ducado"
          ],
          [
           "Almeria (Andalucía)",
           "Abrucena, Fiñana "
          ],
          [
           "Granada (Andalucía)",
           "Motril-Gualchos"
          ],
          [
           "Zaragoza (Aragon)",
           "Plasencia de Jalón, Pedrola"
          ],
          [
           "Burgos (Castilla y Leon)",
           "Merindad de Valdeporres "
          ],
          [
           "Burgos (Castilla y Leon)",
           "Merindad de Vadeporres, Valle de Valdebezana "
          ],
          [
           "Palencia (Castilla y Leon)",
           "Hornillos de Cerrato, Torquemada"
          ],
          [
           "Lleida (Cataluna)",
           "Almatret"
          ],
          [
           "Cuenca (Castilla-La Mancha)",
           "Villalba del Rey"
          ],
          [
           "Cuenca (Castilla-La Mancha)",
           "Villalba del Rey"
          ],
          [
           "Zaragoza (Aragon)",
           "Zaragoza"
          ],
          [
           "Cadiz (Andalucía)",
           "Tarifa"
          ],
          [
           "Burgos (Castilla y Leon)",
           "Villaquirán de los Infantes, Villaldemiro, Tamarón, Los Balbases"
          ],
          [
           "Albacete (Castilla-La Mancha)",
           "Romica (El Bonillo, El Ballestero)"
          ],
          [
           "Huelva (Andalucía)",
           "El Granado"
          ],
          [
           "Zamora (Castilla y Leon)",
           "Losacio, Losacino, Carbajales de Alba, Olmillos de Castro"
          ],
          [
           "Avila (Castilla y Leon)",
           "San Juan de la Nava"
          ],
          [
           "Leon (Castilla y Leon)",
           "Brazuelo"
          ],
          [
           "Cadiz (Andalucía)",
           "Puerto Real"
          ],
          [
           "Ciudad Real (Castilla-La Mancha)",
           "Moral de Calatrava"
          ],
          [
           "Albacete (Castilla-La Mancha)",
           "Romica"
          ],
          [
           "Albacete (Castilla-La Mancha)",
           "Alpera "
          ],
          [
           "Tarragona (Cataluna)",
           "Vandellòs i L´Hospitalet de L´Intant"
          ],
          [
           "Valencia (Comunidad Valenciana)",
           "Ayora"
          ],
          [
           "Burgos (Castilla y Leon)",
           "Pedrosa del Príncipe"
          ],
          [
           "Burgos (Castilla y Leon)",
           "Pedrosa del Príncipe, Castrojeriz Astudillo"
          ],
          [
           "Burgos (Castilla y Leon)",
           "Merindad de Río Ubierna "
          ],
          [
           "Burgos (Castilla y Leon)",
           "Carcedo de Burgos, Cardeñadijo "
          ],
          [
           "Cadiz (Andalucía)",
           "Jeréz de la Frontera "
          ],
          [
           "Cadiz (Andalucía)",
           "Tarifa"
          ],
          [
           "Burgos (Castilla y Leon)",
           "Alfoz de Quintanadueñas "
          ],
          [
           "Leon (Castilla y Leon)",
           "Santa Coloma de Somoza"
          ],
          [
           "Cuenca (Castilla-La Mancha)",
           "Villalba del Rey, Tinajas"
          ],
          [
           "Navarra",
           "Zariquiegui, Astráin"
          ],
          [
           "Burgos (Castilla y Leon)",
           "Valladiego, Urbel del Castillo"
          ],
          [
           "Palencia (Castilla y Leon)",
           "Barruelo de Santillán"
          ],
          [
           "Zaragoza (Aragon)",
           "La Muela"
          ],
          [
           "Cadiz (Andalucía)",
           "Los Barrios"
          ],
          [
           "Valladolid (Castilla y Leon)",
           "Castromonte"
          ],
          [
           "Teruel (Aragon)",
           "Cuevas de Almadén"
          ],
          [
           "Soria (Castilla y Leon)",
           "Hinojosa del Campo, Ólvega, Pozalmuro"
          ],
          [
           "Málaga (Andalucía)",
           "Sierra de Yeguas "
          ],
          [
           "Palencia (Castilla y Leon)",
           "Fuentes de Valdepero"
          ],
          [
           "Palencia (Castilla y Leon)",
           "Hontoria de Cerrato"
          ],
          [
           "Leon (Castilla y Leon)",
           "Castropodame, Turienzo Castañero"
          ],
          [
           "Leon (Castilla y Leon)",
           "Castropodame, Turienzo Castañero"
          ],
          [
           "Albacete (Castilla-La Mancha)",
           "Alpera "
          ],
          [
           "Avila (Castilla y Leon)",
           "San Juan del Olmo, Balbarda "
          ],
          [
           "Albacete (Castilla-La Mancha)",
           "Chinchilla de Montearagón "
          ],
          [
           "Cadiz (Andalucía)",
           "Tarifa"
          ],
          [
           "Huelva (Andalucía)",
           "El granado"
          ],
          [
           "Zaragoza (Aragon)",
           "Aguilón"
          ],
          [
           "Huelva (Andalucía)",
           "El Almendro "
          ],
          [
           "Asturias",
           "Villayón"
          ],
          [
           "Zaragoza (Aragon)",
           "Lumpiaque, Rueda de Jalón, Plasencia de Jalón"
          ],
          [
           "Soria (Castilla y Leon)",
           "Borobia, Beratón"
          ],
          [
           "Palencia (Castilla y Leon)",
           "Melgar de Yuso, Villodré, Astudillo"
          ],
          [
           "Cadiz (Andalucía)",
           "Jimena de la Frontera"
          ],
          [
           "Soria (Castilla y Leon)",
           "Cueva de Agreda-Borobia"
          ],
          [
           "Soria (Castilla y Leon)",
           "Olvega Borobia"
          ],
          [
           "Cadiz (Andalucía)",
           "Medina, Sidonia"
          ],
          [
           "Valencia (Comunidad Valenciana)",
           "La Yesa"
          ],
          [
           "Valencia (Comunidad Valenciana)",
           "La Yesa"
          ],
          [
           "Alava (Euskadi)",
           "Onati, Aretxabaleta"
          ],
          [
           "Guipuzkoa (Euskadi)",
           "Onati, Aretxabaleta"
          ],
          [
           "Alava (Euskadi)",
           "Barundia, Donemiliaga"
          ],
          [
           "Palencia (Castilla y Leon)",
           "Hornillos de Cerrato, Baltanás"
          ],
          [
           "Almeria (Andalucía)",
           "Enix"
          ],
          [
           "Zaragoza (Aragon)",
           "Fuendetodos"
          ],
          [
           "Leon (Castilla y Leon)",
           "Mallonseca, Castropodame, T,Bierzo"
          ],
          [
           "Baleares",
           "Menorca "
          ],
          [
           "Guadalajara (Castilla-La Mancha)",
           "Maranchón, Luzón"
          ],
          [
           "Teruel (Aragon)",
           "Escucha"
          ],
          [
           "Logroño (La Rioja)",
           "Villaroya, Quel, Autol"
          ],
          [
           "Leon (Castilla y Leon)",
           "La Espina "
          ],
          [
           "Palencia (Castilla y Leon)",
           "Ampudia "
          ],
          [
           "Navarra",
           null
          ],
          [
           "Navarra",
           "Falces"
          ],
          [
           "La Coruna (Galicia)",
           "Mañón, Ortigueira "
          ],
          [
           "Pontevedra (Galicia)",
           "Rodeiro, Agolada (Pontevedra), Antas de Ulla (Lugo)"
          ],
          [
           "Teruel (Aragon)",
           "Muniesa"
          ],
          [
           "Lugo (Galicia)",
           "Abadín, Mondoñedo, Pastoriza "
          ],
          [
           "Tarragona (Cataluna)",
           "La Fatarella"
          ],
          [
           "Granada (Andalucía)",
           "Ferreira, La Calahorra"
          ],
          [
           "Lugo (Galicia)",
           "Abadín"
          ],
          [
           "Castellon (Comunidad Valenciana)",
           "Castellfort"
          ],
          [
           "Castellon (Comunidad Valenciana)",
           "Castellfort"
          ],
          [
           "Lugo (Galicia)",
           "A Fonsagrada, Castroverde, Baleira, Ribeira de Piquín, Pol"
          ],
          [
           "Pontevedra (Galicia)",
           "A Lama, Fomelos, Covelo"
          ],
          [
           "Pontevedra (Galicia)",
           "A Lama, Fomelos, Covelo"
          ],
          [
           "La Coruna (Galicia)",
           "Santa Comba, Coristanco "
          ],
          [
           "La Coruna (Galicia)",
           "Capelo, San Sadurniño"
          ],
          [
           "Zaragoza (Aragon)",
           "Fréscano"
          ],
          [
           "Zaragoza (Aragon)",
           "Fuendetodos, Villanueva de Huer"
          ],
          [
           "Zaragoza (Aragon)",
           "Fuendetodos, Villanueva de Huer"
          ],
          [
           "Albacete (Castilla-La Mancha)",
           "Romica"
          ],
          [
           "Burgos (Castilla y Leon)",
           "Castellanos de Castro, Sasamón"
          ],
          [
           "Burgos (Castilla y Leon)",
           "Carcedo de Burgos "
          ],
          [
           "Lugo (Galicia)",
           "Cervo,O Valadouro, Foz"
          ],
          [
           "Logroño (La Rioja)",
           "Arnedillo, Robres del Castillo, Ocón"
          ],
          [
           "Logroño (La Rioja)",
           "Arnedillo, Robres del Castillo, Ocón"
          ],
          [
           "Murcia",
           "Yecla, Jumilla"
          ],
          [
           "Lugo (Galicia)",
           "Muras, Xermade, Vilalba"
          ],
          [
           "Sevilla (Andalucía)",
           "Osuna"
          ],
          [
           "Zaragoza (Aragon)",
           "Aguilón, Azuara, Herrera de los Navarros"
          ],
          [
           "Soria (Castilla y Leon)",
           "Ayllón, Montejo de Tiermes"
          ],
          [
           "La Coruna (Galicia)",
           "Porto do Son "
          ],
          [
           "Palencia (Castilla y Leon)",
           "Monzón de Campos"
          ],
          [
           "Zaragoza (Aragon)",
           "Grisel"
          ],
          [
           "Guadalajara (Castilla-La Mancha)",
           "Anquela del Ducado, Selas, Mazarete "
          ],
          [
           "Guadalajara (Castilla-La Mancha)",
           "Anquela del Ducado, Selas, Mazarete "
          ],
          [
           "Zamora (Castilla y Leon)",
           "Lubián"
          ],
          [
           "Zamora (Castilla y Leon)",
           "Lubián "
          ],
          [
           "Albacete (Castilla-La Mancha)",
           "Higueruela"
          ],
          [
           "Guadalajara (Castilla-La Mancha)",
           "Hijes"
          ],
          [
           "Cadiz (Andalucía)",
           "Tarifa"
          ],
          [
           "Cadiz (Andalucía)",
           "Tarifa"
          ],
          [
           "Soria (Castilla y Leon)",
           "Suellacabras"
          ],
          [
           "Soria (Castilla y Leon)",
           "Frechilla Almazán, Baraona, Villasayas"
          ],
          [
           "Soria (Castilla y Leon)",
           "Adradas, Baraona"
          ],
          [
           "Palencia (Castilla y Leon)",
           "Hornillos de Cerrato, Baltanás"
          ],
          [
           "Albacete (Castilla-La Mancha)",
           "Romica"
          ],
          [
           "Granada (Andalucía)",
           "Huenéja"
          ],
          [
           "Navarra",
           "Ibargoiti, Leoz, Ezprogui"
          ],
          [
           "Logroño (La Rioja)",
           "Igea"
          ],
          [
           "Málaga (Andalucía)",
           "Casares"
          ],
          [
           "Ourense (Galicia)",
           "Irixo, Piñor de Cea, Carballiño"
          ],
          [
           "Albacete (Castilla-La Mancha)",
           "Casas de Lázaro"
          ],
          [
           "Navarra",
           "Lumbier, Albar, Ezprogui"
          ],
          [
           "Granada (Andalucía)",
           "Zujar "
          ],
          [
           "Zaragoza (Aragon)",
           "Zaragoza"
          ],
          [
           "Cadiz (Andalucía)",
           "Jeréz de la Frontera "
          ],
          [
           "Soria (Castilla y Leon)",
           "Aldehuelas, Villar del Rio, Suellacabras, Magaña"
          ],
          [
           "Navarra",
           "Fustiñana, Cabanillas, Bardenas Reales"
          ],
          [
           "Navarra",
           "Fustiñana, Cabanillas, Bardenas Reales"
          ],
          [
           "Asturias",
           "Villanueva de Oscos"
          ],
          [
           "Burgos (Castilla y Leon)",
           "Monasterio de Rodilla, Valle de las Navas"
          ],
          [
           "Albacete (Castilla-La Mancha)",
           "Romica"
          ],
          [
           "Valencia (Comunidad Valenciana)",
           "Buñol"
          ],
          [
           "Valencia (Comunidad Valenciana)",
           "Buñol"
          ],
          [
           "Valencia (Comunidad Valenciana)",
           "Buñol"
          ],
          [
           "Burgos (Castilla y Leon)",
           "Huérmeces, Villadiego "
          ],
          [
           "Navarra",
           "Enériz"
          ],
          [
           "Burgos (Castilla y Leon)",
           "Montorio "
          ],
          [
           "Málaga (Andalucía)",
           "Ardales, Teba"
          ],
          [
           "Navarra",
           "Pueyo"
          ],
          [
           "Zaragoza (Aragon)",
           "La Muela"
          ],
          [
           "Cadiz (Andalucía)",
           "Puerto Real"
          ],
          [
           "Navarra",
           "Olite "
          ],
          [
           "Lugo (Galicia)",
           "Abadín, Vilalba"
          ],
          [
           "Almeria (Andalucía)",
           "Serón, Tíjola"
          ],
          [
           "Almeria (Andalucía)",
           "Serón"
          ],
          [
           "Tarragona (Cataluna)",
           "El Perelló "
          ],
          [
           "Burgos (Castilla y Leon)",
           "Merindad de Valdeporres, Valle de Valdebezana "
          ],
          [
           "Palencia (Castilla y Leon)",
           "Merindad de Valdeporres, Valle de Valdebezana "
          ],
          [
           "Albacete (Castilla-La Mancha)",
           "Petrola, Chinchilla de MonteAragón"
          ],
          [
           "Málaga (Andalucía)",
           "Campillos "
          ],
          [
           "Leon (Castilla y Leon)",
           "Sahagún "
          ],
          [
           "Albacete (Castilla-La Mancha)",
           "La Roda"
          ],
          [
           "Palencia (Castilla y Leon)",
           "Ampudia "
          ],
          [
           "Palencia (Castilla y Leon)",
           "Ampudia "
          ],
          [
           "Málaga (Andalucía)",
           "Cañete la Real "
          ],
          [
           "Guadalajara (Castilla-La Mancha)",
           "Cantalojas"
          ],
          [
           "Zaragoza (Aragon)",
           "Mallén, Fréscano"
          ],
          [
           "Cadiz (Andalucía)",
           "Vejer de la Frontera"
          ],
          [
           "Navarra",
           "Olite"
          ],
          [
           "Albacete (Castilla-La Mancha)",
           "Alcadozo, Peñas de San Pedro"
          ],
          [
           "Zamora (Castilla y Leon)",
           "Lubián, Hermisende"
          ],
          [
           "Cadiz (Andalucía)",
           "Tarifa"
          ],
          [
           "Cadiz (Andalucía)",
           "Tarifa"
          ],
          [
           "Burgos (Castilla y Leon)",
           "Huérmeces"
          ],
          [
           "Barcelona (Cataluna)",
           null
          ],
          [
           "Teruel (Aragon)",
           "Aliaga"
          ],
          [
           "Burgos (Castilla y Leon)",
           "La Riba de Valdelucio"
          ],
          [
           "Burgos (Castilla y Leon)",
           "La Riba de Valdelucio "
          ],
          [
           "Burgos (Castilla y Leon)",
           "La Riba de Valdelucio "
          ],
          [
           "Albacete (Castilla-La Mancha)",
           "Romica"
          ],
          [
           "Burgos (Castilla y Leon)",
           "Merindad, Valdeporres, Valle Valdebezana"
          ],
          [
           "Leon (Castilla y Leon)",
           "Lucillo"
          ],
          [
           "Cadiz (Andalucía)",
           "Tarifa"
          ],
          [
           "Burgos (Castilla y Leon)",
           "Los Altos"
          ],
          [
           "Zaragoza (Aragon)",
           "La Muela"
          ],
          [
           "Zaragoza (Aragon)",
           "La Muela"
          ],
          [
           "Zaragoza (Aragon)",
           "La Muela"
          ],
          [
           "Palencia (Castilla y Leon)",
           "Ampudia"
          ],
          [
           "Málaga (Andalucía)",
           "Cañete la Real "
          ],
          [
           "Albacete (Castilla-La Mancha)",
           "La Roda"
          ],
          [
           "Almeria (Andalucía)",
           "Turrillas, Lucainena de las Torres "
          ],
          [
           "Burgos (Castilla y Leon)",
           "Merindad Valdeporres, Merindad Sotoscueva"
          ],
          [
           "Zaragoza (Aragon)",
           "La Muela"
          ],
          [
           "Zaragoza (Aragon)",
           "La Muela"
          ],
          [
           "Zaragoza (Aragon)",
           "La Muela"
          ],
          [
           "Zaragoza (Aragon)",
           "La Muela"
          ],
          [
           "Zaragoza (Aragon)",
           "La Muela"
          ],
          [
           "Toledo (Castilla-La Mancha)",
           "Villarubia de Santiago"
          ],
          [
           "Toledo (Castilla-La Mancha)",
           "Villarubia de Santiago"
          ],
          [
           "Cadiz (Andalucía)",
           "Jeréz de la Frontera "
          ],
          [
           "Huelva (Andalucía)",
           "El Almendro "
          ],
          [
           "Cadiz (Andalucía)",
           "Tarifa"
          ],
          [
           "Palencia (Castilla y Leon)",
           "Aguilar del Campoo"
          ],
          [
           "Albacete (Castilla-La Mancha)",
           "Villavaliente"
          ],
          [
           "Zaragoza (Aragon)",
           "Rueda de Jalón"
          ],
          [
           "Burgos (Castilla y Leon)",
           "Espinosa de los Monteros"
          ],
          [
           "Valencia (Comunidad Valenciana)",
           "Ayora"
          ],
          [
           "Navarra",
           "Tafalla, Artajona "
          ],
          [
           "Huesca (Aragon)",
           "Gurrea de Gallego, Alcalá de Gurrea"
          ],
          [
           "Cadiz (Andalucía)",
           "Tarifa"
          ],
          [
           "Murcia",
           "Jumilla"
          ],
          [
           "Burgos (Castilla y Leon)",
           "Merindad de Valdivieso"
          ],
          [
           "Burgos (Castilla y Leon)",
           "Merindad de Valdivieso"
          ],
          [
           "Cadiz (Andalucía)",
           "Tarifa"
          ],
          [
           "Teruel (Aragon)",
           "Utrillas, Pancrudo, Martín del Río"
          ],
          [
           "Teruel (Aragon)",
           "Utrillas, Pancrudo, Martín del Río"
          ],
          [
           "Murcia",
           "La Unión"
          ],
          [
           "Sevilla (Andalucía)",
           "Osuna"
          ],
          [
           "Zamora (Castilla y Leon)",
           "Monfarracinos "
          ],
          [
           "Zamora (Castilla y Leon)",
           "Monfarracinos "
          ],
          [
           "Cadiz (Andalucía)",
           "Chiclana de la Frontera "
          ],
          [
           "Burgos (Castilla y Leon)",
           "Los Balbases, Castrojeriz, Vallegera"
          ],
          [
           "Lugo (Galicia)",
           "Abadín"
          ],
          [
           "Zamora (Castilla y Leon)",
           "Villaferrueña, Arrabalde"
          ],
          [
           "Zamora (Castilla y Leon)",
           "Villaferrueña, Arrabalde, Villagería, Alcubilla"
          ],
          [
           "Albacete (Castilla-La Mancha)",
           "Bonillo, Villa Robledo"
          ],
          [
           "Logroño (La Rioja)",
           "Munilla, Hornillos de Cameros, Ajamil"
          ],
          [
           "Soria (Castilla y Leon)",
           "Aldehuelas, Vizmanos, Arévalo de la Sierra, La Poveda, Sta, Cruz Yanguas"
          ],
          [
           "Málaga (Andalucía)",
           "Campillos, Tella"
          ],
          [
           "Valencia (Comunidad Valenciana)",
           "Ayora"
          ],
          [
           "Huelva (Andalucía)",
           "Puebla de Guzmán "
          ],
          [
           "Palencia (Castilla y Leon)",
           "Monzón de Campos"
          ],
          [
           "Burgos (Castilla y Leon)",
           "Carcedo de Burgos "
          ],
          [
           "Zaragoza (Aragon)",
           "Gurrea de Gallego, Alcalá de Gurrea"
          ],
          [
           "Albacete (Castilla-La Mancha)",
           "Pinilla"
          ],
          [
           "Navarra",
           "Azuelo"
          ],
          [
           "Granada (Andalucía)",
           "Lanjarón, El pinar"
          ],
          [
           "Almeria (Andalucía)",
           "Abrucena "
          ],
          [
           "Cadiz (Andalucía)",
           "Medina, Sidonia "
          ],
          [
           "Cadiz (Andalucía)",
           "Medina, Sidonia"
          ],
          [
           "Valladolid (Castilla y Leon)",
           "Castromonte"
          ],
          [
           "Burgos (Castilla y Leon)",
           "Valle de Sedano"
          ],
          [
           "Almeria (Andalucía)",
           "Nacimiento "
          ],
          [
           "Palencia (Castilla y Leon)",
           "Cardeñosa de Volpejera, Paredes de Nava"
          ],
          [
           "Valladolid (Castilla y Leon)",
           "Medina del Campo"
          ],
          [
           "Cadiz (Andalucía)",
           "Medina-Sidonia "
          ],
          [
           "Burgos (Castilla y Leon)",
           "Valle de Santibáñez, Merindad de Río Ubierna "
          ],
          [
           "Burgos (Castilla y Leon)",
           "Valle de Santibáñez, Merindad de Río Ubierna "
          ],
          [
           "Soria (Castilla y Leon)",
           "Arcos de Jalón"
          ],
          [
           "Lugo (Galicia)",
           "Muras"
          ],
          [
           "Granada (Andalucía)",
           "Lecrín "
          ],
          [
           "Navarra",
           "Beruete, Leitza"
          ],
          [
           "Navarra",
           "Leoz"
          ],
          [
           "Navarra",
           "Lerga "
          ],
          [
           "Tarragona (Cataluna)",
           "El Perelló"
          ],
          [
           "Tarragona (Cataluna)",
           "El Perelló"
          ],
          [
           "Tarragona (Cataluna)",
           "Vilalba dels Arcs"
          ],
          [
           "Tarragona (Cataluna)",
           "Passanant, Vallbora de Les Mongues, Espuga de Francoli"
          ],
          [
           "Tarragona (Cataluna)",
           "Passanat"
          ],
          [
           "Lleida (Cataluna)",
           "La Granadella, Bellaguarda"
          ],
          [
           "Lugo (Galicia)",
           "Ourol, O Valadouro"
          ],
          [
           "Cadiz (Andalucía)",
           "Tarifa"
          ],
          [
           "Albacete (Castilla-La Mancha)",
           "Lezuza "
          ],
          [
           "Burgos (Castilla y Leon)",
           "Quintanavides, Castil de Peones"
          ],
          [
           "Málaga (Andalucía)",
           "Almargen, Teba "
          ],
          [
           "Burgos (Castilla y Leon)",
           "Pedrosa del Río Urbel "
          ],
          [
           "Cadiz (Andalucía)",
           "Tarifa"
          ],
          [
           "Almeria (Andalucía)",
           "Nacimiento, Las Tres Villas "
          ],
          [
           "Cadiz (Andalucía)",
           "Alcalá de los Gazules"
          ],
          [
           "Granada (Andalucía)",
           "Albuñuelas"
          ],
          [
           "Cadiz (Andalucía)",
           "Vejer de la Frontera"
          ],
          [
           "Cadiz (Andalucía)",
           "Vejer de la Frontera"
          ],
          [
           "Guadalajara (Castilla-La Mancha)",
           "Tartanedo"
          ],
          [
           "Albacete (Castilla-La Mancha)",
           "Albacete"
          ],
          [
           "Albacete (Castilla-La Mancha)",
           "Albacete "
          ],
          [
           "Cadiz (Andalucía)",
           "Vejer de la frontera"
          ],
          [
           "Granada (Andalucía)",
           "Lecrín "
          ],
          [
           "Granada (Andalucía)",
           "Lecrín "
          ],
          [
           "Lugo (Galicia)",
           "Xermade, Vilalba, Muras"
          ],
          [
           "Navarra",
           "Lodosa"
          ],
          [
           "Cuenca (Castilla-La Mancha)",
           "Tébar"
          ],
          [
           "Cadiz (Andalucía)",
           "Medina, Sidonia"
          ],
          [
           "Palencia (Castilla y Leon)",
           "Hornillos de Cerrato, Baltanás"
          ],
          [
           "Málaga (Andalucía)",
           "Campillos "
          ],
          [
           "Soria (Castilla y Leon)",
           "Almazán, Barca, Velamazán"
          ],
          [
           "Zaragoza (Aragon)",
           "Rueda de Jalón"
          ],
          [
           "Burgos (Castilla y Leon)",
           "Espinosa de los Monteros"
          ],
          [
           "Navarra",
           "Unzué"
          ],
          [
           "Burgos (Castilla y Leon)",
           "Castrojeriz, Villasandino, Sasamon "
          ],
          [
           "Salamanca (Castilla y Leon)",
           "Sorihuela "
          ],
          [
           "Cadiz (Andalucía)",
           "Vejer de la Frontera"
          ],
          [
           "Cadiz (Andalucía)",
           "San José del Valle, Jeréz de la Frontera "
          ],
          [
           "Almeria (Andalucía)",
           "Abla "
          ],
          [
           "Zaragoza (Aragon)",
           "Zaragoza, Cadrete"
          ],
          [
           "Cadiz (Andalucía)",
           "Tarifa"
          ],
          [
           "Huelva (Andalucía)",
           "San Silvestre de Gúzman "
          ],
          [
           "Burgos (Castilla y Leon)",
           "Cogollos, Hontoria de la Cantera, Revillarruz"
          ],
          [
           "Málaga (Andalucía)",
           "Casares"
          ],
          [
           "Málaga (Andalucía)",
           "Almargen, El Saucejo"
          ],
          [
           "Granada (Andalucía)",
           "Baza, Zújar"
          ],
          [
           "Albacete (Castilla-La Mancha)",
           "Fuente Alamo"
          ],
          [
           "Cadiz (Andalucía)",
           "Tarifa"
          ],
          [
           "Granada (Andalucía)",
           "Loja"
          ],
          [
           "Zaragoza (Aragon)",
           "Rueda de Jalón"
          ],
          [
           "Burgos (Castilla y Leon)",
           "Los Balbases, Castrojeriz"
          ],
          [
           "Valencia (Comunidad Valenciana)",
           "Ayora "
          ],
          [
           "Zamora (Castilla y Leon)",
           "Lubián"
          ],
          [
           "Zamora (Castilla y Leon)",
           "Lubián"
          ],
          [
           "Leon (Castilla y Leon)",
           "Lucillo"
          ],
          [
           "Soria (Castilla y Leon)",
           "Trévago, Fuentestrún, Valdegeña, Matalebreras, Villar del Campo"
          ],
          [
           "Guadalajara (Castilla-La Mancha)",
           "Maranchón, Luzón"
          ],
          [
           "Zaragoza (Aragon)",
           "Magallón"
          ],
          [
           "Soria (Castilla y Leon)",
           "Oncala"
          ],
          [
           "Palencia (Castilla y Leon)",
           "Palencia, Magaz"
          ],
          [
           "Huelva (Andalucía)",
           "Puebla de Guzmán, El Almendro "
          ],
          [
           "Albacete (Castilla-La Mancha)",
           "Masegoso"
          ],
          [
           "Albacete (Castilla-La Mancha)",
           "Penascosa, Masegoso"
          ],
          [
           "Albacete (Castilla-La Mancha)",
           "Penascosa, Masegoso"
          ],
          [
           "Ciudad Real (Castilla-La Mancha)",
           "Fuente del Fresno, Los Cortijos"
          ],
          [
           "Ciudad Real (Castilla-La Mancha)",
           "Fuente del Fresno, Los Cortijos"
          ],
          [
           "Albacete (Castilla-La Mancha)",
           "Higueruela"
          ],
          [
           "Zaragoza (Aragon)",
           "Mallén"
          ],
          [
           "La Coruna (Galicia)",
           "Malpica de Bergantiños"
          ],
          [
           "La Coruna (Galicia)",
           "Malpica de Bergantiños"
          ],
          [
           "Granada (Andalucía)",
           "Padul"
          ],
          [
           "Castellon (Comunidad Valenciana)",
           "Olocau del Rey"
          ],
          [
           "Guadalajara (Castilla-La Mancha)",
           "Maranchón"
          ],
          [
           "Guadalajara (Castilla-La Mancha)",
           "Maranchón"
          ],
          [
           "Guadalajara (Castilla-La Mancha)",
           "Maranchón, Luzón"
          ],
          [
           "Lugo (Galicia)",
           "Ourol"
          ],
          [
           "Burgos (Castilla y Leon)",
           "Pedrosa del Río Urbel "
          ],
          [
           "Tarragona (Cataluna)",
           "Duesaigües i Pradell de la Teixeta"
          ],
          [
           "Pontevedra (Galicia)",
           "Forcarei, Silleda"
          ],
          [
           "Salamanca (Castilla y Leon)",
           "Garcihernández "
          ],
          [
           "Cuenca (Castilla-La Mancha)",
           "Olmedilla"
          ],
          [
           "Castellon (Comunidad Valenciana)",
           "Barracas, El Toro"
          ],
          [
           "Málaga (Andalucía)",
           "Campillos "
          ],
          [
           "Cáceres (Extremadura)",
           "Plasencia"
          ],
          [
           "Albacete (Castilla-La Mancha)",
           "Lezuza "
          ],
          [
           "Lugo (Galicia)",
           "Vimianzo"
          ],
          [
           "Albacete (Castilla-La Mancha)",
           "Peñas de San Pedro"
          ],
          [
           "Zaragoza (Aragon)",
           "Borja"
          ],
          [
           "Zaragoza (Aragon)",
           "Borja"
          ],
          [
           "Burgos (Castilla y Leon)",
           "Monasterio de Rodilla"
          ],
          [
           "Navarra",
           "Falces"
          ],
          [
           "Lugo (Galicia)",
           "A Fonsagrada, Castroverde, Baleira, Ribeira de Piquín, Pol"
          ],
          [
           "Lleida (Cataluna)",
           "La Granadella "
          ],
          [
           "Lugo (Galicia)",
           "Mondoñedo "
          ],
          [
           "Teruel (Aragon)",
           "Monforte de Moyuela, Loscos"
          ],
          [
           "Zaragoza (Aragon)",
           "Luna, Sierra de Luna, Castejón de Valdejasa"
          ],
          [
           "Zaragoza (Aragon)",
           "Luna, Sierra de Luna"
          ],
          [
           "Zaragoza (Aragon)",
           "Luna"
          ],
          [
           "Zaragoza (Aragon)",
           "Las Pedrosas"
          ],
          [
           "Lugo (Galicia)",
           "Abadín,Vilalba"
          ],
          [
           "Zamora (Castilla y Leon)",
           "Montamarta, Palacios del Pan, Andavías "
          ],
          [
           "Lleida (Cataluna)",
           "Talavera (Lleida), Llorat (Tarragona) "
          ],
          [
           "Lleida (Cataluna)",
           "Talavera (Lleida), Llorat, Santa Coloma de Queralt (Tarragona) "
          ],
          [
           "Pontevedra (Galicia)",
           "Cuntis, A Estrada "
          ],
          [
           "Pontevedra (Galicia)",
           "Rodeiro"
          ],
          [
           "Pontevedra (Galicia)",
           "Lalín, Vila de Cruces"
          ],
          [
           "La Coruna (Galicia)",
           "Ponteceso"
          ],
          [
           "La Coruna (Galicia)",
           "As Somozas"
          ],
          [
           "Palencia (Castilla y Leon)",
           "Monzón de Campos"
          ],
          [
           "Pontevedra (Galicia)",
           "A Lama"
          ],
          [
           "Huelva (Andalucía)",
           "Ayamonte, Villablanca"
          ],
          [
           "Cuenca (Castilla-La Mancha)",
           "Mira, Aliaguilla"
          ],
          [
           "La Coruna (Galicia)",
           "Ortigueira "
          ],
          [
           "La Coruna (Galicia)",
           "Vimianzo"
          ],
          [
           "Pontevedra (Galicia)",
           "A Lama, Forcarei, Cotobade"
          ],
          [
           "Pontevedra (Galicia)",
           "A Lama, Forcarei, Cotobade"
          ],
          [
           "La Coruna (Galicia)",
           "Vimianzo"
          ],
          [
           "La Coruna (Galicia)",
           "Lousame, Rois, Dodro, Rianxo"
          ],
          [
           "Cadiz (Andalucía)",
           "Tarifa"
          ],
          [
           "Burgos (Castilla y Leon)",
           "Alfoz de Bricia"
          ],
          [
           "Lugo (Galicia)",
           "Alfoz, Abadin"
          ],
          [
           "Lugo (Galicia)",
           "Abadín"
          ],
          [
           "Zaragoza (Aragon)",
           "Pedrola"
          ],
          [
           "Lugo (Galicia)",
           "Láncara"
          ],
          [
           "Navarra",
           "Tudela"
          ],
          [
           "Navarra",
           "Tudela"
          ],
          [
           "Burgos (Castilla y Leon)",
           "Merindad de Montija"
          ],
          [
           "Lugo (Galicia)",
           "Abadín"
          ],
          [
           "Pontevedra (Galicia)",
           "A Cañiza, Arbo, As Neves"
          ],
          [
           "Soria (Castilla y Leon)",
           "Morón de Almazán, Adradas"
          ],
          [
           "Albacete (Castilla-La Mancha)",
           "Hoya Gonzalo"
          ],
          [
           "Cadiz (Andalucía)",
           "Vejer de la Frontera "
          ],
          [
           "Cuenca (Castilla-La Mancha)",
           "Motilla Del Palancar"
          ],
          [
           "Cuenca (Castilla-La Mancha)",
           null
          ],
          [
           "Tarragona (Cataluna)",
           "Caseres "
          ],
          [
           "Tarragona (Cataluna)",
           "Vall de la Conilla "
          ],
          [
           "Zaragoza (Aragon)",
           "Muel"
          ],
          [
           "Albacete (Castilla-La Mancha)",
           "Corralrubio, Chinchilla de Montearagón"
          ],
          [
           "Cuenca (Castilla-La Mancha)",
           "Alcalá de la Vega, Algarra, Fuentelespino de Moya"
          ],
          [
           "Valencia (Comunidad Valenciana)",
           "Aras de los Olmos"
          ],
          [
           "Castellon (Comunidad Valenciana)",
           "Olocau del Rey, Todolella"
          ],
          [
           "Albacete (Castilla-La Mancha)",
           "Alpera"
          ],
          [
           "Cuenca (Castilla-La Mancha)",
           "Sisante, Vara del Rey, Atalaya"
          ],
          [
           "Albacete (Castilla-La Mancha)",
           "Munera"
          ],
          [
           "Albacete (Castilla-La Mancha)",
           "Munera"
          ],
          [
           "Teruel (Aragon)",
           "Muniesa"
          ],
          [
           "Logroño (La Rioja)",
           "Munilla, Zarzosa, Robres del Castillo, Hornillos de Cameros, Arnedillo"
          ],
          [
           "Logroño (La Rioja)",
           "Hornillos, Munilla, Zarzosa"
          ],
          [
           "Lugo (Galicia)",
           "Muras, Ourol"
          ],
          [
           "Lugo (Galicia)",
           "Muras, Ourol"
          ],
          [
           "La Coruna (Galicia)",
           "Muxía"
          ],
          [
           "La Coruna (Galicia)",
           "Muxía"
          ],
          [
           "Almeria (Andalucía)",
           "Nacimiento"
          ],
          [
           "Avila (Castilla y Leon)",
           "Las Navas del Marqués"
          ],
          [
           "Avila (Castilla y Leon)",
           "Las Navas del Marqués"
          ],
          [
           "Lugo (Galicia)",
           "Abadin, A Pastoriza"
          ],
          [
           "Zamora (Castilla y Leon)",
           "Requejo, Pedralba de la Pradería"
          ],
          [
           "Ourense (Galicia)",
           "Bande, Verea "
          ],
          [
           "Lugo (Galicia)",
           "Muros, Valadouro"
          ],
          [
           "La Coruna (Galicia)",
           "Valdoviño, Narón"
          ],
          [
           "La Coruna (Galicia)",
           "Vimianzo"
          ],
          [
           "Lugo (Galicia)",
           "Ourol, Muras"
          ],
          [
           "Vizcaya (Euskadi)",
           "Mallabia, Berriz"
          ],
          [
           "Avila (Castilla y Leon)",
           "Ojos Albos"
          ],
          [
           "Soria (Castilla y Leon)",
           "Oncala"
          ],
          [
           "La Coruna (Galicia)",
           "Cedeira"
          ],
          [
           "Burgos (Castilla y Leon)",
           "Los Altos"
          ],
          [
           "Lugo (Galicia)",
           "Ourol"
          ],
          [
           "La Coruna (Galicia)",
           "Sierra de Outes"
          ],
          [
           "Zamora (Castilla y Leon)",
           "Padornelo, Aciberos"
          ],
          [
           "Zamora (Castilla y Leon)",
           "Lubián "
          ],
          [
           "La Coruna (Galicia)",
           "Padrón"
          ],
          [
           "Granada (Andalucía)",
           "Padul "
          ],
          [
           "Sevilla (Andalucía)",
           "Écija"
          ],
          [
           "Burgos (Castilla y Leon)",
           "Poza de la Sal"
          ],
          [
           "Burgos (Castilla y Leon)",
           "Poza de la Sal "
          ],
          [
           "Burgos (Castilla y Leon)",
           "Poza de la Sal"
          ],
          [
           "Burgos (Castilla y Leon)",
           "Valle de Santibáñez, Huérmeces "
          ],
          [
           "Palencia (Castilla y Leon)",
           "Hornillos de Cerrato, Baltanás"
          ],
          [
           "Lleida (Cataluna)",
           "Almatret "
          ],
          [
           "Soria (Castilla y Leon)",
           "Beltejar, Medinaceli"
          ],
          [
           "Granada (Andalucía)",
           "Padul"
          ],
          [
           "Granada (Andalucía)",
           "Huéneja"
          ],
          [
           "Cantabria",
           "Reinosa"
          ],
          [
           "Cadiz (Andalucía)",
           "Tarifa"
          ],
          [
           "Lugo (Galicia)",
           "Arteixo"
          ],
          [
           "La Coruna (Galicia)",
           "Mazaricos, Muros"
          ],
          [
           "La Coruna (Galicia)",
           "Muros, Carnota"
          ],
          [
           "Tarragona (Cataluna)",
           "Tortosa"
          ],
          [
           "Lugo (Galicia)",
           "Muras, Ourol"
          ],
          [
           "La Coruna (Galicia)",
           "Muros"
          ],
          [
           "La Coruna (Galicia)",
           "Muros"
          ],
          [
           "Cadiz (Andalucía)",
           "Tarifa"
          ],
          [
           "Cadiz (Andalucía)",
           "Tarifa"
          ],
          [
           "Cadiz (Andalucía)",
           "Tarifa"
          ],
          [
           "Burgos (Castilla y Leon)",
           "Merindad de Valdivieso "
          ],
          [
           "Burgos (Castilla y Leon)",
           "Los Altos"
          ],
          [
           "Lugo (Galicia)",
           "Friol, Palas de Rei"
          ],
          [
           "Navarra",
           "Tafalla "
          ],
          [
           "Navarra",
           "Leoz"
          ],
          [
           "Navarra",
           "Leoz, Tafalla "
          ],
          [
           "Ourense (Galicia)",
           "Chandrexa de Queixa"
          ],
          [
           "Ourense (Galicia)",
           "Chandrexa de Queixa"
          ],
          [
           "La Coruna (Galicia)",
           "As Pontes, Mañón"
          ],
          [
           "Asturias",
           "Las Regueras, Candamo e Illas"
          ],
          [
           "Leon (Castilla y Leon)",
           "Torre del Bierzo, Villagatón e Igüeña "
          ],
          [
           "Palencia (Castilla y Leon)",
           "Aguilar de Campo"
          ],
          [
           "La Coruna (Galicia)",
           "Camariñas"
          ],
          [
           "La Coruna (Galicia)",
           "Laxe"
          ],
          [
           "La Coruna (Galicia)",
           "Laracha"
          ],
          [
           "Lugo (Galicia)",
           "Muras, Ourol"
          ],
          [
           "Guadalajara (Castilla-La Mancha)",
           "Tartanedo "
          ],
          [
           "Guadalajara (Castilla-La Mancha)",
           "Tartanedo, Fuente Elsaz "
          ],
          [
           "Lugo (Galicia)",
           "Muras, Ourol"
          ],
          [
           "Palencia (Castilla y Leon)",
           "Aguilar del Campoo"
          ],
          [
           "Zamora (Castilla y Leon)",
           "Ferreruela"
          ],
          [
           "Zamora (Castilla y Leon)",
           "Santa Eufemia del Barco "
          ],
          [
           "Lugo (Galicia)",
           "Viveiro, O Vicedo, Ourol"
          ],
          [
           "Lugo (Galicia)",
           "O Vicedo"
          ],
          [
           "Valladolid (Castilla y Leon)",
           "La Mudarra, Castromonte, Peñaflor de Hornija"
          ],
          [
           "Valladolid (Castilla y Leon)",
           "Peñaflor de Hornija"
          ],
          [
           "Valencia (Comunidad Valenciana)",
           "Andilla"
          ],
          [
           "Valencia (Comunidad Valenciana)",
           "Andilla, Chelva, Calles"
          ],
          [
           "Lugo (Galicia)",
           "Carballedo (Lugo), Rodeiro (Pontevedra)"
          ],
          [
           "Asturias",
           "Boal"
          ],
          [
           "La Coruna (Galicia)",
           "Cerceda"
          ],
          [
           "Cadiz (Andalucía)",
           "Tarifa"
          ],
          [
           "Guadalajara (Castilla-La Mancha)",
           "Milmarcos, Fuente Elsaz "
          ],
          [
           "Cuenca (Castilla-La Mancha)",
           "Villar del Humo, Henarejos"
          ],
          [
           "Asturias",
           "Tineo"
          ],
          [
           "Segovia (Castilla y Leon)",
           "Aldeanueva de la Serrezuela, Navares de Enmedio, Navares de las Cuevas, Pradales"
          ],
          [
           "Castellon (Comunidad Valenciana)",
           "Portell de Morella"
          ],
          [
           "Zaragoza (Aragon)",
           "La Muela"
          ],
          [
           "Zaragoza (Aragon)",
           "Cadrete, María"
          ],
          [
           "Zaragoza (Aragon)",
           "María de Huerva"
          ],
          [
           "Zaragoza (Aragon)",
           "La Muela"
          ],
          [
           "Zaragoza (Aragon)",
           "Tauste, Pradilla de Ebro"
          ],
          [
           "Palencia (Castilla y Leon)",
           "Cerrato"
          ],
          [
           "La Coruna (Galicia)",
           "Pobra do Caramiñal"
          ],
          [
           "La Coruna (Galicia)",
           "Arteixo"
          ],
          [
           "La Coruna (Galicia)",
           "Dumbría"
          ],
          [
           "Albacete (Castilla-La Mancha)",
           "Romica"
          ],
          [
           "Soria (Castilla y Leon)",
           "Fuentelsaz de Soria, Almarza"
          ],
          [
           "La Coruna (Galicia)",
           "Porto do Son"
          ],
          [
           "Lugo (Galicia)",
           "Pontenova, A Pastoriza, Riotorto "
          ],
          [
           "Soria (Castilla y Leon)",
           "Pozalmuro"
          ],
          [
           "Albacete (Castilla-La Mancha)",
           "Pozocañada"
          ],
          [
           "Logroño (La Rioja)",
           "Préjano, Enciso"
          ],
          [
           "Zaragoza (Aragon)",
           "Alfajarín, Villamayor de Gállego"
          ],
          [
           "Lugo (Galicia)",
           "Villalba"
          ],
          [
           "Avila (Castilla y Leon)",
           "San Juan de la Nava"
          ],
          [
           "Málaga (Andalucía)",
           "Ardales, Carratraca "
          ],
          [
           "Teruel (Aragon)",
           "Puerto de Escandón"
          ],
          [
           "Cadiz (Andalucía)",
           "Tarifa"
          ],
          [
           "Tarragona (Cataluna)",
           "Pujalt, Calonge de Segarra "
          ],
          [
           "Lugo (Galicia)",
           "A Fonsagrada, Castroverde, Baleira, Ribeira de Piquín, Pol"
          ],
          [
           "Vizcaya (Euskadi)",
           "Puerto de Bilbao, Zierbena"
          ],
          [
           "Zaragoza (Aragon)",
           "Remolinos"
          ],
          [
           "Zaragoza (Aragon)",
           "Borja, Mallén"
          ],
          [
           "Burgos (Castilla y Leon)",
           "Merindad de Río Ubierna "
          ],
          [
           "Soria (Castilla y Leon)",
           "Merindad de Río Ubierna"
          ],
          [
           "Burgos (Castilla y Leon)",
           "Merindad de rio Ubierna"
          ],
          [
           "Huesca (Aragon)",
           "Sierra de Luna"
          ],
          [
           "Soria (Castilla y Leon)",
           "Adrada, Alcubilla de las Peñas "
          ],
          [
           "Soria (Castilla y Leon)",
           "Adrada, Alcubilla de las Peñas "
          ],
          [
           "Cadiz (Andalucía)",
           "Medina, Sidonia"
          ],
          [
           "Logroño (La Rioja)",
           "Pradejón, Calahorra"
          ],
          [
           "Lugo (Galicia)",
           "Abadín"
          ],
          [
           "Castellon (Comunidad Valenciana)",
           "Forcall, Todolella"
          ],
          [
           "La Coruna (Galicia)",
           "As Somozas"
          ],
          [
           "Murcia",
           "Jumilla"
          ],
          [
           "Valencia (Comunidad Valenciana)",
           "Ayora"
          ],
          [
           "Cadiz (Andalucía)",
           "Tarifa"
          ],
          [
           "Huesca (Aragon)",
           "Gurrea de Gállego"
          ],
          [
           "Lugo (Galicia)",
           "Concello de Xove, Concello de Viveiro"
          ],
          [
           "Cadiz (Andalucía)",
           "Jeréz de la Frontera "
          ],
          [
           "Huesca (Aragon)",
           "Robres"
          ],
          [
           "Palencia (Castilla y Leon)",
           "Fuentes de Valdepero"
          ],
          [
           "Salamanca (Castilla y Leon)",
           "Santiz, Valdelosa, Zamayón"
          ],
          [
           "Albacete (Castilla-La Mancha)",
           "Pozohondo, Hellín, Liétor "
          ],
          [
           "Navarra",
           "Aibar, Lumbier"
          ],
          [
           "Valencia (Comunidad Valenciana)",
           "Enguera"
          ],
          [
           "Palencia (Castilla y Leon)",
           "Fuentes de Valdepero"
          ],
          [
           "Zamora (Castilla y Leon)",
           "Lubián, Hermisende"
          ],
          [
           "Zaragoza (Aragon)",
           "Aguilón"
          ],
          [
           "Navarra",
           "Anorbe, Tirapu"
          ],
          [
           "Navarra",
           "Artajona"
          ],
          [
           "Navarra",
           "Anorbe, Tirapu"
          ],
          [
           "Navarra",
           "Biurrun-olcoz, Unzué"
          ],
          [
           "Navarra",
           "Barásoaian del Añorbe, Artajona"
          ],
          [
           "Guadalajara (Castilla-La Mancha)",
           "Tartanedo, Torrubia, Fuentelsaz "
          ],
          [
           "Navarra",
           "Cabanillas"
          ],
          [
           "Navarra",
           "Cabanillas"
          ],
          [
           "Zaragoza (Aragon)",
           "Bureta, Magallón, Alberite de San Juan "
          ],
          [
           "Teruel (Aragon)",
           "Escucha"
          ],
          [
           "Valladolid (Castilla y Leon)",
           "Castromonte"
          ],
          [
           "Valladolid (Castilla y Leon)",
           "Castromonte"
          ],
          [
           "Valladolid (Castilla y Leon)",
           "Castromonte, Peñaflor de Hornija, Torrelobatón "
          ],
          [
           "Valladolid (Castilla y Leon)",
           "Peñaflor de Hornija "
          ],
          [
           "Navarra",
           "San Martín de Unx"
          ],
          [
           "Leon (Castilla y Leon)",
           "Castropodame, Torre"
          ],
          [
           "Teruel (Aragon)",
           "Alacón"
          ],
          [
           "La Coruna (Galicia)",
           "Muras, As Pontes"
          ],
          [
           "Zaragoza (Aragon)",
           "Tauste "
          ],
          [
           "Lleida (Cataluna)",
           "La Granadella "
          ],
          [
           "Almeria (Andalucía)",
           null
          ],
          [
           "Huesca (Aragon)",
           "Almudévar, Tardienta"
          ],
          [
           "Zaragoza (Aragon)",
           "Magallón"
          ],
          [
           "Burgos (Castilla y Leon)",
           "Sargentes de la Lora, Basconcillos del Tozo "
          ],
          [
           "Lugo (Galicia)",
           "Mondonedo"
          ],
          [
           "Lugo (Galicia)",
           "Mondonedo, Abadin"
          ],
          [
           "Huesca (Aragon)",
           "Almudévar"
          ],
          [
           "Tarragona (Cataluna)",
           "Savallá del Comtat "
          ],
          [
           "Almeria (Andalucía)",
           "Serón "
          ],
          [
           "Almeria (Andalucía)",
           "Serón "
          ],
          [
           "Lugo (Galicia)",
           "Aranga, Guitiriz"
          ],
          [
           "Lugo (Galicia)",
           "Monfero, Aranga"
          ],
          [
           "La Coruna (Galicia)",
           "Mañón, Ortigueira"
          ],
          [
           "Lugo (Galicia)",
           "Meira, Ribeira de Piquín"
          ],
          [
           "Barcelona (Cataluna)",
           "Serra de Rubió, Castellfollit del Boix"
          ],
          [
           "Barcelona (Cataluna)",
           "Serra de Rubió, Castellfollit del Boix"
          ],
          [
           "Lleida (Cataluna)",
           "Tarrés, Fulleda"
          ],
          [
           "Lleida (Cataluna)",
           "Tarrés, Fulleda"
          ],
          [
           "Lleida (Cataluna)",
           "Vallbona de les Monges, Passanat"
          ],
          [
           "Ourense (Galicia)",
           "Chandrexa de Quixa, Castro Caldelas"
          ],
          [
           "Ourense (Galicia)",
           "Chandreixa de Queixa "
          ],
          [
           "Pontevedra (Galicia)",
           "A Lama, Cotobade, Forcarei"
          ],
          [
           "Ourense (Galicia)",
           "Baltar, Xinzo de Limia"
          ],
          [
           "Lugo (Galicia)",
           "O Paramo, Parandela "
          ],
          [
           "Tarragona (Cataluna)",
           "Cabra del Camp, Barberà de la Conca, Montblanc, Pira "
          ],
          [
           "Navarra",
           "Cabanillas"
          ],
          [
           "Navarra",
           "Cabanillas "
          ],
          [
           "Teruel (Aragon)",
           "Rillo, Cañada Vellida, Fuentes Calientes, Mezquita de Jarque"
          ],
          [
           "Teruel (Aragon)",
           "Cañada Velilla, Cuevas de Almudén, Mexquita de Jarque, Galve"
          ],
          [
           "Málaga (Andalucía)",
           "Casarabonela, Alora"
          ],
          [
           "Málaga (Andalucía)",
           "Casarabonela, Alora "
          ],
          [
           "Málaga (Andalucía)",
           "Villanueva de Algaidas"
          ],
          [
           "Asturias",
           "Salas"
          ],
          [
           "Salamanca (Castilla y Leon)",
           "Las Veguillas, Membibre de la Sierra, Frades de la Sierra, Pedrosillo de los Aires"
          ],
          [
           "Asturias",
           "Grandas de Salime"
          ],
          [
           "Albacete (Castilla-La Mancha)",
           "Caudete, Almansa"
          ],
          [
           "Albacete (Castilla-La Mancha)",
           "Almansa, Caudete"
          ],
          [
           "Zaragoza (Aragon)",
           "Sestrica, Calatayud"
          ],
          [
           "Murcia",
           "Jumilla"
          ],
          [
           "Zamora (Castilla y Leon)",
           "Ferreruela "
          ],
          [
           "Asturias",
           "Allande"
          ],
          [
           "Cuenca (Castilla-La Mancha)",
           "Mira, Aliaguilla"
          ],
          [
           "Albacete (Castilla-La Mancha)",
           "Chinchilla de MonteAragón"
          ],
          [
           "Asturias",
           "Tineo "
          ],
          [
           "Murcia",
           "Jumilla"
          ],
          [
           "Soria (Castilla y Leon)",
           "Tajahuerce, Almenar de Soria"
          ],
          [
           "Soria (Castilla y Leon)",
           "Tajahuerce, Almenar, Pinilla del Campo"
          ],
          [
           "Soria (Castilla y Leon)",
           "Olvega, Noviercas"
          ],
          [
           "Soria (Castilla y Leon)",
           "Olvega, Noviercas"
          ],
          [
           "Toledo (Castilla-La Mancha)",
           "Villacañas"
          ],
          [
           "Toledo (Castilla-La Mancha)",
           "Villacañas"
          ],
          [
           "Jaén (Andalucía)",
           "Noalejo"
          ],
          [
           "Murcia",
           "Yecla "
          ],
          [
           "Guadalajara (Castilla-La Mancha)",
           "Setiles, Tordesilos"
          ],
          [
           "Soria (Castilla y Leon)",
           "Medinaceli "
          ],
          [
           "Teruel (Aragon)",
           "Torrecilla de Fonfría, Allueva"
          ],
          [
           "Albacete (Castilla-La Mancha)",
           "Pozohondo"
          ],
          [
           "Navarra",
           "Petilla de Aragón"
          ],
          [
           "Zamora (Castilla y Leon)",
           "Riofrío de Aliste, Ferreruela"
          ],
          [
           "Soria (Castilla y Leon)",
           "Retortillo de Soria"
          ],
          [
           "Ourense (Galicia)",
           "Esgos, Mogueira, Montederramo"
          ],
          [
           "Ourense (Galicia)",
           "Nogueira de Ramuín"
          ],
          [
           "Ourense (Galicia)",
           "Nogueira de Ramuín "
          ],
          [
           "Lugo (Galicia)",
           "Muras"
          ],
          [
           "La Coruna (Galicia)",
           "Cabana de Bergantiños"
          ],
          [
           "Zamora (Castilla y Leon)",
           "Pías, Porto"
          ],
          [
           "Lugo (Galicia)",
           "Muras, Valadouro"
          ],
          [
           "Lugo (Galicia)",
           "Muras, Valadouro"
          ],
          [
           "Soria (Castilla y Leon)",
           "Soliedra"
          ],
          [
           "Burgos (Castilla y Leon)",
           "Huermeces, Merindad de Río"
          ],
          [
           "Guadalajara (Castilla-La Mancha)",
           "Somolinos, Hijes"
          ],
          [
           "La Coruna (Galicia)",
           "As Somozas"
          ],
          [
           "La Coruna (Galicia)",
           "As Somozas"
          ],
          [
           "Zaragoza (Aragon)",
           "Sos del Rey Católico"
          ],
          [
           "Zaragoza (Aragon)",
           "Sos del Rey Católico"
          ],
          [
           "La Coruna (Galicia)",
           "Monfero (A Coruña), Xermade (Lugo)"
          ],
          [
           "Almeria (Andalucía)",
           "Abla, Las tres Villas"
          ],
          [
           "Cadiz (Andalucía)",
           "Tarifa"
          ],
          [
           "Huelva (Andalucía)",
           "El Almendro "
          ],
          [
           "Soria (Castilla y Leon)",
           "Alentisque, Morón de Almazán, Momblona, Soliedra"
          ],
          [
           "Zaragoza (Aragon)",
           "Tarazona"
          ],
          [
           "Huesca (Aragon)",
           "Tardienta"
          ],
          [
           "Huesca (Aragon)",
           "Tardienta, Torralba"
          ],
          [
           "Cadiz (Andalucía)",
           "Tarifa"
          ],
          [
           "Ourense (Galicia)",
           "Tea Covelo, Melón, Avión"
          ],
          [
           "Cadiz (Andalucía)",
           "Vejer de la Frontera "
          ],
          [
           "Lugo (Galicia)",
           "Abadín"
          ],
          [
           "Salamanca (Castilla y Leon)",
           "Palacios del Arzobispo, Santiz"
          ],
          [
           "Huelva (Andalucía)",
           "Alosno"
          ],
          [
           "Zaragoza (Aragon)",
           "Villar de los Navarros"
          ],
          [
           "Almeria (Andalucía)",
           "Tíjola "
          ],
          [
           "Tarragona (Cataluna)",
           "Batea, Gandesa"
          ],
          [
           "Castellon (Comunidad Valenciana)",
           "Morella"
          ],
          [
           "Castellon (Comunidad Valenciana)",
           "Morella"
          ],
          [
           "Tarragona (Cataluna)",
           "Tortosa"
          ],
          [
           "Albacete (Castilla-La Mancha)",
           "Masegoso"
          ],
          [
           "La Coruna (Galicia)",
           "Monfero, Irixoa, Aranga"
          ],
          [
           "Palencia (Castilla y Leon)",
           "Magaz de Pisuegra"
          ],
          [
           "Almeria (Andalucía)",
           "Las Tres Villas "
          ],
          [
           "Tarragona (Cataluna)",
           "Pradell de la Teixeta, L´Argentera, La Torre de Fontaubella, Colldejou"
          ],
          [
           "Barcelona (Cataluna)",
           "Pujalt, Veciana, Argencola (Barcelona ), Sant Guim de Freixenet (Lleida) "
          ],
          [
           "Navarra",
           "Ujue"
          ],
          [
           "Soria (Castilla y Leon)",
           "Aldehuelas, Villar del Rio"
          ],
          [
           "Burgos (Castilla y Leon)",
           "Huérmeneces, Montorio, Urbel del Castillo"
          ],
          [
           "Navarra",
           "Leóz"
          ],
          [
           "Burgos (Castilla y Leon)",
           "Castrojeriz"
          ],
          [
           "Burgos (Castilla y Leon)",
           "Castrojeriz"
          ],
          [
           "Burgos (Castilla y Leon)",
           "Villafranca Montes de Oca, Cerratón de Juarros "
          ],
          [
           "Granada (Andalucía)",
           "Padul"
          ],
          [
           "Leon (Castilla y Leon)",
           "Sahagún "
          ],
          [
           "Teruel (Aragon)",
           "Escucha, Utrillas"
          ],
          [
           "Zaragoza (Aragon)",
           "La Muela"
          ],
          [
           "Huelva (Andalucía)",
           "El Almendro "
          ],
          [
           "Palencia (Castilla y Leon)",
           "Magaz de Pisuerga"
          ],
          [
           "Leon (Castilla y Leon)",
           "Quintana del Castillo, Villagatón-Branuelas "
          ],
          [
           "Leon (Castilla y Leon)",
           "Folgoso de la Ribera "
          ],
          [
           "Leon (Castilla y Leon)",
           "Folgoso de la Ribera, Igüeña, Torre del Bierzo "
          ],
          [
           "Zamora (Castilla y Leon)",
           "Muelas del Pan"
          ],
          [
           "Palencia (Castilla y Leon)",
           "Fuentes de Valdepero"
          ],
          [
           "Leon (Castilla y Leon)",
           "Cea, Sahagún "
          ],
          [
           "Burgos (Castilla y Leon)",
           "Valdeporres, Valdebezana "
          ],
          [
           "Leon (Castilla y Leon)",
           "Riello, Valdesamario, Villagatón "
          ],
          [
           "Avila (Castilla y Leon)",
           "Navalperal del Pinares, Ávila"
          ],
          [
           "Huesca (Aragon)",
           "Gurrea de Gallego"
          ],
          [
           "Zamora (Castilla y Leon)",
           "Tábara, Faramontanos"
          ],
          [
           "Avila (Castilla y Leon)",
           "Navalperal del Pinares"
          ],
          [
           "La Coruna (Galicia)",
           "Dumbría"
          ],
          [
           "Barcelona (Cataluna)",
           "Veciana "
          ],
          [
           "Navarra",
           "Falces"
          ],
          [
           "Burgos (Castilla y Leon)",
           "Monasterio de Rodilla, Fresno de Rodilla, Santa María del Invierno"
          ],
          [
           "Lugo (Galicia)",
           "Muras"
          ],
          [
           "Soria (Castilla y Leon)",
           "Medinaceli, Yelo, Miño de Medinaceli "
          ],
          [
           "Soria (Castilla y Leon)",
           "Medinaceli, Yelo, Miño de Medinaceli "
          ],
          [
           "Lugo (Galicia)",
           "O Vicedo"
          ],
          [
           "Ourense (Galicia)",
           "Bande, Verea "
          ],
          [
           "Cadiz (Andalucía)",
           "Alcala de los Gazules"
          ],
          [
           "Lugo (Galicia)",
           "Ourol, Muras "
          ],
          [
           "Lugo (Galicia)",
           "Vilalba"
          ],
          [
           "Tarragona (Cataluna)",
           "Vilalba del Arcs "
          ],
          [
           "Segovia (Castilla y Leon)",
           "Villacastín, Santa María el Cubillo"
          ],
          [
           "Zamora (Castilla y Leon)",
           "Toro"
          ],
          [
           "Cuenca (Castilla-La Mancha)",
           "Puebla de Almenara, Villamayor de Santiago, Hontanaya "
          ],
          [
           "Burgos (Castilla y Leon)",
           "Villamiel de la Sierra"
          ],
          [
           "Navarra",
           "Puente la Reina, Arraiza"
          ],
          [
           "Cuenca (Castilla-La Mancha)",
           "Villanueva de la Jara"
          ],
          [
           "Cuenca (Castilla-La Mancha)",
           "Villanueva de la Jara"
          ],
          [
           "Cuenca (Castilla-La Mancha)",
           "Villanueva de la Jara"
          ],
          [
           "Valencia (Comunidad Valenciana)",
           "Jarafuel "
          ],
          [
           "Valencia (Comunidad Valenciana)",
           "Jarafuel "
          ],
          [
           "Burgos (Castilla y Leon)",
           "Villoruebo"
          ],
          [
           "La Coruna (Galicia)",
           "Camariñas"
          ],
          [
           "Albacete (Castilla-La Mancha)",
           "Bonete"
          ],
          [
           "Albacete (Castilla-La Mancha)",
           "Bonete"
          ],
          [
           "Albacete (Castilla-La Mancha)",
           "Bonete"
          ],
          [
           "Zaragoza (Aragon)",
           "Sierra de Luna"
          ],
          [
           "Albacete (Castilla-La Mancha)",
           "Higueruela, Hoya"
          ],
          [
           "Albacete (Castilla-La Mancha)",
           "Higueruela"
          ],
          [
           "La Coruna (Galicia)",
           "Mazaricos, Muros, Carnota"
          ],
          [
           "Barcelona (Cataluna)",
           null
          ],
          [
           "Lugo (Galicia)",
           "Viveiro, Xove"
          ],
          [
           "Pontevedra (Galicia)",
           "Vilagarcía, Catoira, Caldas de Reis "
          ],
          [
           "Pontevedra (Galicia)",
           "Vilagarcía, Catoira, Caldas de Reis"
          ],
          [
           "Pontevedra (Galicia)",
           "Vilagarcía, Catoira, Caldas de Reis"
          ],
          [
           "Asturias",
           "San Tirso de Abres, Taramundi"
          ],
          [
           "Logroño (La Rioja)",
           "Alfaro, Autol"
          ],
          [
           "Logroño (La Rioja)",
           "Alfaro, Autol"
          ],
          [
           "Cadiz (Andalucía)",
           "Tarifa"
          ],
          [
           "La Coruna (Galicia)",
           "Zas, Santa Comba"
          ],
          [
           "Soria (Castilla y Leon)",
           "Gomyo, Villaciervos"
          ],
          [
           "Cadiz (Andalucía)",
           "Medina, Sidonia"
          ]
         ],
         "geo": "geo",
         "hovertemplate": "<b>%{hovertext}</b><br><br>turbines=%{marker.size}<br>latitude=%{lat}<br>longitude=%{lon}<br>zone=%{customdata[0]}<br>city=%{customdata[1]}<extra></extra>",
         "hovertext": [
          "A Capelada I",
          "A Capelada II",
          "A Pastoriza",
          "A Ruña",
          "Abuela Santa Ana",
          "Abuela Santa Ana Modificación",
          "Acampo Arias",
          "Acampo Armijo",
          "Acampo Hospital",
          "Adraño",
          "Aerogenerador Experimental G87 (Lubián)",
          "Aerogenerador Experimental G90",
          "Aerogenerador I+D Gamesa",
          "Ágreda",
          "Aguallal",
          "Aguallal Ampliación",
          "Aibar",
          "Aizkibel",
          "Alaiz",
          "Alba de Tormes",
          "Alcarama I",
          "Alcarama II",
          "Alconada",
          "Aldeavieja",
          "Alentisque",
          "Alhambra",
          "Alijar",
          "Alijar II",
          "Allueva",
          "Almaren",
          "Almendarache",
          "Almendros I",
          "Almendros II",
          "Almeriques",
          "Alta Anoia",
          "Altamira",
          "Alto Casillas I",
          "Alto Casillas II",
          "Alto de Croa I",
          "Alto de Croa II",
          "Alto de la Degollada",
          "Alto de Pocillo",
          "Alto de Seixal",
          "Alto d´Abara",
          "Alto Palancia I",
          "Alto Palancia II",
          "Alto Palancia III",
          "Altos de Cartagena",
          "Ameixeiras -Testeiros",
          "Ameixenda-Filgueira",
          "Ampliación Montejo",
          "Aragón",
          "Arbo",
          "Argañoso",
          "Arriello",
          "Arroyal",
          "Arteixo",
          "Arza I+D",
          "As Neves",
          "Ascoy I",
          "Ascoy II",
          "Atalaya de la Solana",
          "Atalaya I",
          "Atalaya II",
          "Ausines",
          "Aviadores",
          "Ávila",
          "Badaia",
          "Bailones",
          "Ballestas et Casetona",
          "Bandeleras",
          "Baos y Pumar Fase I",
          "Baos y Pumar Fase II",
          "Barasoain",
          "Barbanza I",
          "Barbanza II",
          "Barbers",
          "Barchín",
          "Barrax",
          "Barrax Norte Sur",
          "Becerril",
          "Belchite",
          "Belmonte",
          "Benalaz I",
          "Benalaz II",
          "Bidueiros Fase I",
          "Boira",
          "Bolaños",
          "Boquerón",
          "Boquerón I",
          "Boquerón II",
          "Boquerón III",
          "Bordecorex Norte",
          "Borja I",
          "Borja II (Arbolitas)",
          "Bosque Alto",
          "Boyal I",
          "Boyal II",
          "Boyal III",
          "Breña",
          "Brulles",
          "Buenavista",
          "Buio",
          "Bullana",
          "Bureba",
          "Buseco",
          "Bustelo",
          "Cabeza del Conde",
          "Cabeza Mesá",
          "Cabeza Morena Dueñas",
          "Cabezo de San Roque",
          "Cabezo Negro I+D",
          "Cabezuelo",
          "Cabimonteros",
          "Cabo Vilano I",
          "Cabo Vilano II A.I.E.",
          "Cabo Vilano II Repowering.",
          "Cabrillas",
          "Cadeira",
          "Caldereros",
          "Callejas",
          "Caluengo",
          "Campalbo",
          "Campanario",
          "Campisábalos",
          "Campo das Cruces",
          "Campo de Borja",
          "Campoliva II",
          "Canalejas",
          "Cañoneras",
          "Cañoneras II",
          "Canredondo I",
          "Cantalejos",
          "Cantalojas",
          "Cantalojas Ampliación",
          "Cantiruela",
          "Caparroso",
          "Capiruza I",
          "Capiruza II",
          "Caramonte",
          "Carba",
          "Carballeira",
          "Carcelén",
          "Careón",
          "Carondio y Muriellos",
          "Carracedo",
          "Carrascalejo y Monte Alto",
          "Carrascosa",
          "Carrasquillo",
          "Carrecastro",
          "Casa",
          "Casa del Aire I",
          "Casa del Aire II",
          "Castelo",
          "Castil de Tierra",
          "Castilfrío",
          "Castillo Garcimuñoz",
          "Caxado",
          "Celada Fusión",
          "Celada I",
          "Celada V",
          "Cerro Becerril",
          "Cerro Blanco (Albacete)",
          "Cerro Blanco (Burgos)",
          "Cerro Calderón",
          "Cerro Conilete",
          "Cerro de Atalaya ",
          "Cerro de la Higuera",
          "Cerro de la Nevera",
          "Cerro de la Oliva",
          "Cerro de la Punta",
          "Cerro de la Silla",
          "Cerro del Palo",
          "Cerro Durán",
          "Cerro Gavira",
          "Cerro Moreno",
          "Cerro Negro",
          "Cerro Revolcado",
          "Cerro San Antón",
          "Cerro Vicente",
          "Cerro Vicente II",
          "Cerros de Radona",
          "Chambón Fase 1",
          "Chambón Fase 2",
          "Chan do Tenón",
          "Chantada",
          "Chao das Grallas",
          "Chinchilla",
          "Chorreaderos Altos",
          "Chorreaderos Bajos",
          "Chumillas",
          "Ciesma de Grisel",
          "Cinseiro",
          "Clares",
          "Cofrentes",
          "Cogollos II (Fase A)",
          "Cogollos II (Fase B)",
          "Coll de la garganta",
          "Coll de Moro I y II",
          "Coll del Panissot",
          "Colladillo",
          "Collet deis Feixos",
          "Conesa I",
          "Conesa II",
          "Corbera",
          "Cordal de Montouto",
          "Coriscada",
          "Corme",
          "Corral Nuevo",
          "Cortijo de Guerra I",
          "Cortijo de Guerra II",
          "Cortijo de Iruelas",
          "Cortijo La Linera",
          "Coruxeiras",
          "Corzán",
          "Coto de Codesas",
          "Coto de Codesas II",
          "Coto Teixido",
          "Coucepenido",
          "Couteiro",
          "Couto de San Sebastian",
          "Cova da Serpe",
          "Cova da Serpe Ampliación",
          "Cristobailones",
          "Cruz de Carrutero ",
          "Cruz de Hierro",
          "Cruz de Hierro Ampliación",
          "Cruz I",
          "Cruz II",
          "Cuadramón",
          "Cuesta Colorada",
          "Cuesta Mañera",
          "Cueva Dorada",
          "Cuevas de Velasco",
          "Curiscao Fase I",
          "Curiscao Fase II",
          "Currás",
          "Dehesa de Tablares",
          "Dehesa del Coscojar",
          "Dehesa Virginia",
          "DemoSATH",
          "Deva",
          "Do Vilán",
          "Dólar I",
          "Dólar II",
          "Dólar III",
          "Doña Benita Cuellar",
          "Dos Picos",
          "Dos Pueblos",
          "Dueñas",
          "Echagüe",
          "Ecovent CAT II y III",
          "EEE (Repotenciado)",
          "El Acebo",
          "El Águila",
          "El Aguila II-Aguila III",
          "El Álamo",
          "El Balsón",
          "El Bancal",
          "El Bayo",
          "El Cabrito",
          "El Cabrito-La Locustura (Laese)",
          "El Campo (ES)",
          "El Candal",
          "El Canto",
          "El Carrascal II",
          "El Carrascal I ",
          "El Carril",
          "El Carril II",
          "El Castre",
          "El Cayo",
          "El Centenar",
          "El Cerro",
          "El Cerro Ampliación",
          "El Chaparro",
          "El Colmenar II",
          "El Conjuro",
          "El Coscojar II",
          "El Coterejón I",
          "El Coterejón II",
          "El Cuadrón",
          "El Escambrons",
          "El Escepar",
          "El Escepar Ampliación",
          "El Espartal",
          "El Gallego",
          "El Gallo",
          "El Gramal",
          "El Granado",
          "El Hierro",
          "El Lanchal",
          "El Manzanal",
          "El Marquesado",
          "El Moral",
          "El Moralejo I",
          "El Moralejo II",
          "El Motarro",
          "El Mulatón",
          "El Navazo Fase I",
          "El Navazo Fase II",
          "El Negredo",
          "El Nogal",
          "El Olivillo",
          "El Pandero",
          "El Páramo",
          "El Pedrón",
          "El Peralejo",
          "El Perdón",
          "El Perul",
          "El Pical",
          "El Pilar",
          "El Pino",
          "El Poleo",
          "El Puerto (Unificado)",
          "El Pulpal",
          "El Puntal",
          "El Raso",
          "El Rebollar",
          "El Redondal Fase 1",
          "El Redondal Fase 2",
          "El Relumbrar",
          "El Rincón",
          "El Romeral",
          "El Ruedo",
          "El Sardón",
          "El Saso",
          "El Saucito",
          "El Segredal",
          "El Sotillo-Tablares",
          "El Tablado",
          "El Teruelo",
          "El Tesorillo",
          "El Toranzo",
          "El Toranzo Ampliación",
          "El Venzo",
          "El Viudo I",
          "El Viudo II",
          "Elgea",
          "Elgea Ampliación",
          "Elgea-Urkilla",
          "Encinedo",
          "Enix",
          "Entredicho",
          "Era del Pico",
          "Es Milá",
          "Escalón",
          "Escucha (Unificado)",
          "Escurrillo",
          "Espina",
          "Esquileo I",
          "Experimental Barasoain",
          "Experimental Vedadillo",
          "Faladoira I",
          "Farelo",
          "Farlan",
          "Farrapa",
          "Fatarella",
          "Ferreira II",
          "Fiouco",
          "Folch I",
          "Folch II",
          "Fonsagrada",
          "Fonteavia I",
          "Fonteavia II",
          "Fontesilva",
          "Forgoselo",
          "Fréscano",
          "Fuendetodos I",
          "Fuendetodos II",
          "Fuente de la Arena",
          "Fuente Salada",
          "Fuente Vaín",
          "Gamoide",
          "Gatún I",
          "Gatún II (1F)",
          "Gavilanes",
          "Goia Peñote",
          "Gomera (Fase A)",
          "Goya",
          "Grado",
          "Graiade",
          "Grijota",
          "Grisel II",
          "Guijo I",
          "Guijo II",
          "Hedroso-Aciberos",
          "Hedroso-Aciberos Ampliacion ",
          "Higueruela",
          "Hijes",
          "Hinojal I",
          "Hinojal II",
          "Hiperión II",
          "Hontalbilla I",
          "Hontalbilla II",
          "Hornillos",
          "Hoya Gonzalo",
          "Huéneja III",
          "Ibargoiti",
          "Igea",
          "Ignacio Molina",
          "Irixo",
          "Isabela",
          "Izco",
          "Jaufil",
          "Jaulin",
          "Jerez",
          "Juno",
          "La Bandera",
          "La Bandera Ampliación",
          "La Bobia - San Isidro",
          "La Brújula",
          "La Cabaña",
          "La Cabrera Ampliación",
          "La Cabrera I",
          "La Cabrera II",
          "La Caldera",
          "La Calera",
          "La Calzada",
          "La Cámara",
          "La Campaña",
          "La Carracha",
          "La Castellana (Spain)",
          "La Caya",
          "La Celaya",
          "La Cerradilla",
          "La Cerradilla II",
          "La Collada",
          "La Cotera",
          "La Cotorra",
          "La Cuerda",
          "La Cuesta",
          "La Cueza",
          "La Dehesica",
          "La Dehesilla I",
          "La Dehesilla II",
          "La Escalereta",
          "La Esperanza",
          "La Estanca",
          "La Estancia",
          "La Fraila",
          "La Fuensanta",
          "La Gamoneda",
          "La Herrería",
          "La Joya (PEESA)",
          "La Lastra",
          "La Llacuna",
          "La Loma",
          "La Lora",
          "La Lora II ",
          "La Lora I ",
          "La Losilla",
          "La Magdalena",
          "La Mallada",
          "La Manga",
          "La Mesa (ES)",
          "La Muela II",
          "La Muela III",
          "La Muela Norte",
          "La Muñeca",
          "La Nava (Málaga)",
          "La Navica",
          "La Noguera",
          "La Peñuca",
          "La Plana I",
          "La Plana I+D",
          "La Plana I+D Ampliación",
          "La Plana II",
          "La Plana III",
          "La Plata",
          "La Plata Ampliación",
          "La Rabia",
          "La Retuerta (Fase B)",
          "La Risa",
          "La Ruya I+D",
          "La Sarguilla",
          "La Serreta + ampliación",
          "La Sía",
          "La Solana",
          "La Sorda",
          "La Sotonera",
          "La Tahuna",
          "La Tella",
          "La Torada",
          "La Torada Ampliación",
          "La Torre I",
          "La Torrecilla (Fase I)",
          "La Torrecilla (Fase II)",
          "La Unión",
          "La Valdivia",
          "La Vega I",
          "La Vega II",
          "La Victoria",
          "La Zarzuela",
          "Labrada",
          "Labradas I",
          "Labradas I Ampliación",
          "Lanternoso",
          "Larriba",
          "Las Aldehuelas",
          "Las Angosturas",
          "Las Bodeguillas",
          "Las Cabezas ",
          "Las Canteras",
          "Las Fuentes",
          "Las Gorgas",
          "Las Hoyuelas",
          "Las Llanas de Codés",
          "Las Lomas (ES)",
          "Las Lomillas",
          "Las Monjas",
          "Las Monjas Fase II",
          "Las Panaderas",
          "Las Pardas",
          "Las Perdices",
          "Las Tadeas",
          "Las Traperas",
          "Las Vegas",
          "Las Viñas (Fase A)",
          "Las Viñas (Fase B)",
          "Layna",
          "Leboreiro",
          "Lecrín",
          "Leitza-Beruete",
          "Leoz",
          "Lerga",
          "Les Calobres",
          "Les Colladetes",
          "Les Comes",
          "Les Forques",
          "Les Forques II",
          "Les Rotes",
          "Leste",
          "Levantera",
          "Lezuza",
          "Llanos de San Martín",
          "Llanos del Espino",
          "Lodoso",
          "Loma de Almendarache",
          "Loma de Ayala",
          "Loma de Lázaro",
          "Loma del Capón",
          "Loma del Suyal (Fase A)",
          "Loma del Suyal (Fase B)",
          "Loma Gorda (Guadalajara)",
          "Loma Viso",
          "Loma Viso II ",
          "Lomas de las Peñuelas",
          "Lomas de Lecrín",
          "Lomas de Manteca",
          "Lomba (Lugo)",
          "Lomba (Navarra)",
          "Lomillas",
          "Los Alburejos",
          "Los Angostillos",
          "Los Barrancos",
          "Los Campillos",
          "Los Cantales",
          "Los Castríos",
          "Los Cerros (Unzué)",
          "Los Collados",
          "Los Concejiles",
          "Los Granujales",
          "Los Isletes",
          "Los Jarales",
          "Los Labrados",
          "Los Lances",
          "Los Lirios",
          "Los Llanos (Burgos)",
          "Los Llanos (Málaga)",
          "Los Madroñales",
          "Los Morrones",
          "Los Pedreros",
          "Los Siglos",
          "Los Sillones",
          "Los Visos",
          "Los Zapateros",
          "Losilla",
          "Lubián",
          "Lubián Ampliación",
          "Lucillo",
          "Luna",
          "Luzón Norte",
          "Magallón 26",
          "Magaña",
          "Magaz",
          "Majal Alto",
          "Majales",
          "Majogazas",
          "Majogazas II",
          "Malagón I",
          "Malagón II",
          "Malefatón",
          "Mallén",
          "Malpica",
          "Malpica Ampliación",
          "Mamut",
          "Manzanera",
          "Maranchon I",
          "Maranchon IV",
          "Maranchon Sur",
          "Mareiro",
          "Marmellar",
          "Mas de la Potra",
          "Masgalán-Campo Do Coco",
          "Matabuey",
          "Maza",
          "Mazorral y Rajola",
          "Menaute",
          "Merengue",
          "Mingorrubio I",
          "Miñon",
          "Molar del Molinar",
          "Molino de Arbolitas",
          "Molino de Carragüeyes",
          "Monasterio de Rodilla",
          "Moncayuelo",
          "Monciro",
          "Monclues",
          "Mondoñedo",
          "Monforte I",
          "Monlora I",
          "Monlora II",
          "Monlora III",
          "Monlora V",
          "Monseivane",
          "Montamarta",
          "Montargull",
          "Montargull Ampliacion",
          "Monte Arca ",
          "Monte Cabezas",
          "Monte Carrio",
          "Monte da Barda",
          "Monte das Aguas",
          "Monte de Villajimena",
          "Monte do Ceo",
          "Monte Gordo",
          "Monte Molón",
          "Monte Rande",
          "Monte Redondo",
          "Monte Seixo",
          "Monte Seixo Ampliación",
          "Monte Tourado - Eixe",
          "Monte Treito",
          "Monteahumada I",
          "Montejo de Bricia",
          "Montemayor Norte",
          "Montemayor Sur",
          "Montero",
          "Montes de Abella",
          "Montes de Cierzo I",
          "Montes de Cierzo II",
          "Montija",
          "Montouto",
          "Montouto 2000",
          "Morón de Almazán",
          "Morrablancar",
          "Mostaza",
          "Motilla",
          "Motilla del Palancar",
          "Mudéfer",
          "Mudéfer II",
          "Muel",
          "Muela",
          "Muela Cubillo",
          "Muela de Santa Catalina - Cerro Negro",
          "Muela de Todolella",
          "Muela de Tortosilla",
          "Muela I",
          "Munera I",
          "Munera II",
          "Muniesa",
          "Munilla Ampliación",
          "Munilla La-Santa",
          "Muras I",
          "Muras II",
          "Muxía I",
          "Muxía II",
          "Nacimiento",
          "Navas del Marqués",
          "Navazuelo",
          "Neda",
          "Nerea",
          "Nogueira",
          "Nordés",
          "Novo",
          "O Barrigoso",
          "O Chao",
          "Oiz",
          "Ojos Albos",
          "Oncala",
          "Os Corvos",
          "Otero y Peña la Cuesta",
          "Ourol",
          "Outes",
          "Padornelo",
          "Padornelo Ampliación",
          "Padrón",
          "Padul",
          "Palomarejo",
          "Páramo de Poza I",
          "Páramo de Poza I Ampliación",
          "Páramo de Poza II",
          "Páramo de Vega",
          "Páramo los Angostillos",
          "Parc Eolic Almatret",
          "Parideras",
          "Parque Eólico Experimental Cerros Pelaos",
          "Parque Eólico Experimental San José",
          "Parque Eólico Experimental Vestas Cantabria",
          "Pasada de Tejeda",
          "Pastoriza-Rodeiro",
          "Paxareiras I (Paxareiras-Montevós)",
          "Paxareiras II (Paxareiras-Montevós)",
          "Pebesa (Baix Ebre)",
          "Pedra Chantada",
          "Pedregal Tremuzo I",
          "Pedregal Tremuzo II",
          "Pedregoso A",
          "Pedregoso B",
          "Pedregoso D",
          "Peña Alta",
          "Peña Alta Ampliación",
          "Pena Armada",
          "Peña Blanca Area Experimental",
          "Peña Blanca I",
          "Peña Blanca II",
          "Pena da Cruz",
          "Pena da Cruz Ampliación",
          "Pena da Loba",
          "Peña del Cuervo",
          "Peña del Gato",
          "Peña el Santo",
          "Pena Forcada",
          "Pena Forcada-Catasol II",
          "Peña Galluda",
          "Pena Grande",
          "Peña I",
          "Peña II",
          "Pena Luisa",
          "Peña Miján",
          "Peña Nebina",
          "Peña Roldana",
          "Pena Ventosa",
          "Pena Ventosa Reformado",
          "Peñaflor III",
          "Peñaflor IV",
          "Peñas de Dios I",
          "Peñas de Dios II",
          "Penas Grandes",
          "Penouta",
          "PES Cerceda",
          "PESUR (Repotenciado)",
          "Picazo",
          "Pico Collalbas",
          "Pico Gallo",
          "Piedras del Alto",
          "Plá d´Embalagué",
          "Plana de Jarreta",
          "Plana de la Balsa",
          "Plana de María",
          "Plana de Zaragoza",
          "Planas de Pola (Tauste)",
          "Poblacion de Carrato-Fase I",
          "Pobra do Caramiñal",
          "Polígono Sabón (Inditex)",
          "Ponte Rebordelo",
          "Portachuelo",
          "Portelrubio",
          "Porto do Son",
          "Pousadoiro ",
          "Pozalmuro I+D",
          "Pozocañada",
          "Préjano",
          "Primoral",
          "Prototipo experimental NED100",
          "Pucheruelo",
          "Puerto de Málaga Ampliacion",
          "Puerto Escandón",
          "Puerto Facinas",
          "Pujalt",
          "Punago",
          "Punta Lucero",
          "Puntaza de Remolinos",
          "Puylobo",
          "Quintanilla",
          "Quintanilla Sobresierra",
          "Rabinaldo",
          "Rabosera",
          "Radona I",
          "Radona II",
          "Rancho Viejo",
          "Raposeras",
          "Refachón",
          "Refoyas",
          "Requeixo",
          "Reventones",
          "Rincón del Cabello",
          "Río Almodóvar",
          "Río Gallego",
          "Rioboo",
          "Roalabota",
          "Robres",
          "Rodal",
          "Rodera Alta",
          "Sabina",
          "Salajones",
          "Salomón",
          "San Adrián",
          "San Ciprián",
          "San Cristóbal de Aguilón",
          "San Esteban I A",
          "San Esteban I B - Egastiaga",
          "San Esteban II A - Añorbe",
          "San Esteban II B - Olcoz",
          "San Esteban II C - Caraquidoya",
          "San Gil",
          "San Gregorio",
          "San Gregorio",
          "San Juan de Bargas",
          "San Just",
          "San Lorenzo A",
          "San Lorenzo B",
          "San Lorenzo C",
          "San Lorenzo D",
          "San Martín de Unx",
          "San Pedro (ES)",
          "San Pedro Alacón",
          "San Xoan",
          "Sancho Abarca",
          "Sant Antoni",
          "Santa Maria de Nieva",
          "Santa Quiteria",
          "Santo Cristo de Magallón",
          "Sargentes",
          "Sasdónigas Fase I",
          "Sasdónigas Fase II",
          "Sasoplano",
          "Savallá",
          "Serón I",
          "Serón II",
          "Serra da Loba",
          "Serra da Loba Ampliación",
          "Serra da Panda",
          "Serra de Meira",
          "Serra de Rubió I",
          "Serra de Rubió II",
          "Serra de Vilobí",
          "Serra de Vilobí II",
          "Serra del Tallat",
          "Serra do Burgo",
          "Serra do Burgo Ampliación",
          "Serra do Cando",
          "Serra do Larouco",
          "Serra do Páramo",
          "Serra Voltorera",
          "Serralta",
          "Serralta Ampliación",
          "Sierra Costera I",
          "Sierra Costera II",
          "Sierra de Aguas",
          "Sierra de Aguas Ampliación",
          "Sierra de Arcas",
          "Sierra de Bodenaya",
          "Sierra de Dueña",
          "Sierra de la Cuesta",
          "Sierra de la Oliva",
          "Sierra de la Oliva II",
          "Sierra de la Virgen",
          "Sierra de las Cabras",
          "Sierra de las Carbas",
          "Sierra de los Lagos",
          "Sierra de Mira",
          "Sierra de Pinilla",
          "Sierra de Tineo",
          "Sierra del Buey",
          "Sierra del Cortado",
          "Sierra del Cortado Ampliación",
          "Sierra del Madero I",
          "Sierra del Madero II",
          "Sierra del Romeral",
          "Sierra del Romeral II",
          "Sierra del Trigo (Fase I y II)",
          "Sierra Lácera",
          "Sierra Menera I",
          "Sierra Ministra",
          "Sierra Pelarda",
          "Sierra Quemada",
          "Sierra Selva I",
          "Sierra Sesnández",
          "Sierro",
          "Sil",
          "Sil Ampliación (1ª Fase)",
          "Sil Ampliación (2ª Fase)",
          "Silán",
          "Silvarredonda",
          "Sistral",
          "Soán",
          "Soán Ampliación",
          "Soliedra",
          "Sombrío",
          "Somolinos",
          "Somozas",
          "Somozas II",
          "Sos del Rey Católico",
          "Sos del Rey Católico II",
          "Sotavento",
          "Tacica de Plata",
          "Tahivilla",
          "Tallisca",
          "Tarayuela",
          "Tarazona Sur",
          "Tardienta I",
          "Tardienta II",
          "Tarifa (Alstom-Ecotècnia) ",
          "Tea",
          "Tejonero",
          "Terral (ES)",
          "Teso Santo",
          "Tharsis",
          "Tico",
          "Tíjola",
          "Torre Madrina",
          "Torre Miró I",
          "Torre Miró II",
          "Tortosa",
          "Torviscal",
          "Touriñán (Serra do Moncoso)",
          "Tres Picos",
          "Tres Villas",
          "Trucafort",
          "Turó del Magre",
          "Txutxu",
          "Urano",
          "Urbel del Castillo II",
          "Uzkita",
          "Valbonilla Fase I",
          "Valbonilla Fase II",
          "Valbuena",
          "Valcaire",
          "Valdecarrión",
          "Valdeconejos",
          "Valdecuadros (I+D)",
          "Valdefuentes",
          "Valdehorno",
          "Valdelacasa ",
          "Valdelón",
          "Valdelón Ampliación",
          "Valdelónave",
          "Valdepero",
          "Valdeperondo",
          "Valdeporres",
          "Valdesamario",
          "Valdihuelo",
          "Valiente",
          "Valmediano",
          "Valpardo",
          "Valsagueiro",
          "Veciana",
          "Vedadillo",
          "Veleta",
          "Ventoada",
          "Ventosa del Ducado A",
          "Ventosa del Ducado B",
          "Vicedo",
          "Vieiro",
          "Viento de Alcalá",
          "Vilachá",
          "Vilalba",
          "Vilalba dels Arcs",
          "Villacastín",
          "Villalazán",
          "Villamayor",
          "Villamiel",
          "Villanueva",
          "Villanueva de Jara I",
          "Villanueva de Jara II",
          "Villanueva de Jara III",
          "Villanueva I",
          "Villanueva II",
          "Villoruebo",
          "Viravento",
          "Virgen de Belén I",
          "Virgen de Belén I Ampliación",
          "Virgen de Belén II",
          "Virgen de la Peña de Alfajarín",
          "Virgen de los Llanos I",
          "Virgen de los Llanos II",
          "Virxe do Monte",
          "Viure de l’aire del cel",
          "Viveiro",
          "Xiabre Ampliación",
          "Xiabre I",
          "Xiabre II",
          "Xunqueira",
          "Yerga I",
          "Yerga II",
          "Zarzuela II",
          "Zas",
          "Zorraquín",
          "Zorreras"
         ],
         "lat": [
          43.717,
          43.687,
          43.374,
          42.94,
          39.053,
          39.053,
          41.554,
          41.66,
          41.649,
          42.91,
          42.035,
          42.04,
          42.08,
          41.853,
          42.05,
          42.05,
          42.64,
          42.72,
          42.68,
          40.826,
          42.004,
          42.004,
          41.91,
          40.72,
          41.403,
          38.868,
          36.737,
          36.747,
          40.999,
          41.467,
          36.01,
          38.658,
          38.664,
          36.463,
          41.717,
          37.029,
          39.999,
          39.999,
          43.014,
          43.014,
          42.288,
          42.119,
          43.377,
          43.521,
          40.02,
          40.02,
          40.016,
          40.63,
          42.52,
          42.57,
          42.9,
          41.58,
          42.141,
          42.534,
          40.466,
          42.416,
          43.298,
          42.123,
          42.088,
          38.273,
          38.271,
          38.76,
          41.767,
          41.786,
          42.227,
          36.01,
          40.631,
          42.85,
          38.93,
          42.202,
          41.156,
          43.502,
          43.502,
          42.605,
          42.669,
          42.64,
          41.133,
          39.676,
          39.09,
          39.045,
          42.128,
          41.302,
          43.305,
          38.958,
          38.958,
          42.34,
          39.159,
          36.68,
          39.171,
          41.83,
          41.83,
          41.83,
          41.38,
          41.83,
          41.875,
          41.54,
          41.83,
          41.83,
          41.885,
          38.689,
          42.517,
          36.19,
          43.48,
          41.26,
          42.541,
          43.441,
          43.46,
          39.531,
          40.653,
          38.98,
          41.46,
          41.453,
          41.024,
          42.248,
          43.129,
          43.154,
          43.13,
          40.53,
          43.425,
          40.807,
          39.633,
          42.32,
          39.888,
          42.253,
          41.296,
          42.725,
          41.83,
          41.645,
          41.37,
          43.145,
          43.145,
          40.811,
          37.237,
          41.23,
          41.23,
          42.72,
          42.302,
          38.785,
          38.785,
          41.125,
          43.42,
          43.39,
          39.092,
          42.91,
          43.334,
          43.384,
          41.173,
          40.009,
          42.229,
          41.591,
          43.231,
          38.95,
          39.06,
          43.09,
          41.566,
          41.948,
          39.659,
          43.58,
          41.88,
          42.027,
          42.049,
          42.41,
          38.731,
          42.538,
          39.454,
          36.254,
          41.556,
          36.926,
          39.892,
          39.751,
          38.986,
          38.806,
          39.451,
          37.077,
          37.101,
          39.687,
          39.924,
          38.729,
          39.744,
          38.83,
          38.83,
          41.268,
          42.17,
          42.17,
          43.73,
          42.649,
          43.354,
          38.92,
          36.69,
          36.68,
          39.755,
          41.861,
          42.03,
          41.03,
          39.238,
          42.201,
          42.201,
          41.163,
          41.12,
          41.283,
          40.654,
          41.182,
          41.506,
          41.506,
          41.126,
          43.228,
          43.67,
          43.284,
          42.743,
          36.499,
          36.53,
          36.01,
          37.045,
          43.489,
          42.923,
          42.989,
          42.989,
          43.52,
          43.72,
          43.557,
          42.69,
          43.092,
          43.094,
          38.828,
          42.251,
          40.72,
          40.72,
          39.858,
          39.858,
          43.44,
          39.466,
          41.91,
          37.17,
          40,
          43.471,
          43.471,
          42.94,
          42.675,
          41.711,
          39.068,
          43.47,
          42.266,
          43.149,
          37.18,
          37.18,
          37.18,
          36.589,
          41.989,
          41.28,
          41.88,
          42.67,
          40.81,
          36.019,
          43.148,
          41.728,
          41.789,
          37.045,
          42.013,
          36.01,
          41.788,
          36.044,
          36.01,
          41.885,
          43.398,
          42.9,
          37.34,
          37.34,
          42.27,
          42.249,
          41.973,
          41.99,
          37.611,
          42.87,
          42.72,
          41.014,
          37.137,
          36.811,
          41.733,
          43.021,
          43.021,
          41.96,
          41.287,
          40.379,
          40.379,
          41.649,
          36.01,
          42.227,
          39.06,
          37.54,
          41.688,
          40.479,
          42.5,
          36.576,
          38.84,
          39.005,
          39.005,
          41.02,
          39.031,
          42.25,
          42.26,
          42.587,
          42.303,
          36.687,
          36.01,
          42.392,
          42.445,
          40.351,
          42.73,
          42.578,
          42.91,
          41.58,
          36.19,
          41.773,
          40.766,
          41.77,
          37.17,
          42.064,
          41.918,
          42.544,
          42.544,
          38.959,
          40.637,
          38.919,
          36.01,
          37.54,
          41.294,
          37.58,
          43.421,
          41.66,
          41.693,
          42.22,
          36.435,
          41.718,
          41.718,
          36.463,
          39.941,
          39.93,
          42.963,
          42.961,
          42.958,
          41.96,
          36.88,
          41.326,
          42.57,
          39.918,
          41.03,
          40.77,
          42.259,
          42.79,
          41.914,
          42.606,
          42.399,
          43.58,
          42.745,
          41.032,
          43.383,
          41.175,
          37.18,
          43.428,
          40.479,
          40.491,
          43.13,
          42.22,
          42.21,
          43.11,
          43.54,
          41.874,
          41.353,
          41.375,
          38.993,
          42.329,
          42.275,
          43.581,
          42.151,
          42.151,
          38.602,
          43.423,
          37.237,
          41.259,
          41.4,
          42.689,
          42.101,
          41.861,
          40.967,
          40.967,
          42.03,
          42.035,
          38.977,
          41.279,
          36.01,
          36.01,
          41.852,
          41.33,
          41.33,
          41.96,
          39.06,
          37.18,
          42.65,
          42.014,
          36.42,
          42.52,
          38.711,
          42.642,
          37.502,
          41.45,
          36.583,
          41.84,
          42.074,
          42.074,
          43.342,
          42.46,
          39.06,
          39.42,
          39.42,
          39.42,
          42.522,
          42.653,
          42.598,
          36.935,
          42.566,
          41.58,
          36.536,
          42.449,
          43.33,
          37.34,
          37.34,
          41.176,
          42.971,
          43.01,
          38.797,
          37.045,
          42.393,
          39.157,
          41.914,
          41.914,
          36.951,
          41.295,
          41.885,
          36.252,
          42.441,
          38.686,
          41.996,
          36.16,
          36.01,
          42.559,
          41.474,
          40.672,
          42.754,
          42.754,
          42.754,
          38.896,
          43.044,
          42.41,
          36.01,
          42.78,
          41.58,
          41.58,
          41.592,
          41.91,
          36.911,
          39.149,
          37.023,
          43.02,
          41.557,
          41.557,
          41.557,
          41.542,
          41.545,
          39.999,
          39.999,
          36.687,
          37.507,
          36.01,
          42.79,
          39.111,
          41.69,
          43.15,
          39.031,
          42.543,
          42.085,
          36.01,
          38.479,
          42.874,
          42.874,
          36.01,
          40.794,
          40.794,
          37.61,
          37.14,
          41.576,
          41.576,
          36.419,
          42.183,
          43.36,
          42.117,
          42.117,
          39.066,
          42.194,
          41.997,
          37.055,
          39.031,
          37.61,
          42.119,
          42.287,
          42.054,
          38.817,
          42.59,
          36.91,
          37.182,
          36.463,
          36.462,
          41.789,
          42.72,
          37.128,
          42.232,
          41.31,
          36.508,
          42.474,
          42.474,
          41.101,
          42.89,
          36.959,
          43.068,
          42.547,
          42.58,
          40.883,
          40.909,
          41.12,
          41.5,
          41.5,
          41.357,
          43.56,
          36.01,
          38.9,
          42.454,
          36.992,
          42.427,
          36.01,
          37.154,
          36.405,
          36.956,
          36.254,
          36.254,
          41.009,
          39.044,
          39.044,
          36.254,
          36.958,
          36.96,
          43.36,
          42.442,
          39.469,
          36.459,
          41.975,
          37.045,
          41.386,
          41.701,
          43.08,
          42.65,
          42.336,
          40.451,
          36.321,
          36.564,
          37.18,
          41.56,
          36.082,
          37.374,
          42.2,
          36.389,
          37.002,
          37.503,
          38.701,
          36.01,
          37.17,
          41.694,
          42.214,
          39.058,
          42.03,
          42.07,
          42.41,
          41.85,
          41.051,
          41.789,
          41.97,
          41.992,
          37.611,
          38.703,
          38.7,
          38.7,
          39.286,
          39.286,
          38.96,
          41.883,
          43.3,
          43.308,
          37.024,
          40.64,
          41.05,
          41.05,
          41.03,
          43.56,
          42.405,
          41.175,
          42.6,
          40.86,
          39.636,
          39.999,
          37.047,
          40.037,
          38.939,
          43.108,
          38.73,
          41.83,
          41.83,
          42.466,
          42.442,
          43.08,
          41.357,
          43.452,
          41.069,
          42.166,
          42.166,
          42.166,
          42.038,
          43.33,
          41.644,
          41.554,
          41.554,
          42.633,
          42.723,
          42.73,
          43.243,
          43.53,
          42.119,
          42.39,
          37.304,
          39.705,
          43.686,
          43.12,
          42.461,
          42.461,
          43.108,
          42.75,
          36.01,
          42.9,
          43.44,
          43.36,
          41.786,
          42.811,
          42.067,
          42.067,
          43.09,
          43.36,
          42.148,
          41.389,
          38.97,
          36.337,
          39.562,
          39.562,
          41.037,
          41.037,
          41.46,
          38.764,
          40.025,
          39.924,
          40.641,
          38.96,
          39.458,
          39.084,
          39.084,
          41.032,
          42.206,
          42.206,
          43.563,
          43.563,
          43.078,
          43.078,
          37.125,
          40.64,
          40.63,
          43.359,
          41.983,
          42.413,
          43.581,
          43.584,
          43.11,
          43.522,
          43.216,
          40.71,
          41.97,
          43.69,
          42.78,
          43.565,
          42.83,
          42.059,
          42.059,
          42.74,
          36.991,
          37.46,
          42.68,
          42.665,
          42.66,
          42.517,
          41.975,
          41.305,
          41.224,
          37.021,
          37.178,
          42.96,
          36.172,
          43.289,
          42.86,
          42.82,
          40.81,
          43.52,
          42.838,
          42.838,
          36.01,
          36.01,
          36.01,
          42.84,
          42.78,
          42.95,
          42.54,
          42.54,
          42.54,
          42.26,
          42.26,
          43.348,
          43.458,
          42.664,
          42.793,
          43.15,
          43.21,
          43.25,
          43.52,
          41.015,
          41.015,
          43.52,
          42.793,
          41.782,
          41.666,
          43.655,
          43.73,
          41.781,
          41.711,
          39.786,
          39.786,
          42.597,
          43.45,
          43.19,
          36.019,
          41.075,
          39.848,
          43.397,
          41.45,
          40.53,
          41.58,
          41.55,
          41.54,
          41.58,
          41.884,
          41.792,
          42.603,
          43.3,
          43.01,
          39.06,
          41.866,
          42.725,
          43.309,
          41.77,
          38.772,
          42.148,
          41.645,
          43.671,
          40.479,
          36.862,
          40.321,
          36.019,
          41.717,
          43.08,
          43.375,
          41.84,
          41.871,
          42.59,
          42.551,
          42.591,
          42.083,
          41.296,
          41.296,
          36.463,
          42.3,
          43.36,
          40.648,
          43.517,
          38.686,
          39.031,
          36.01,
          42.011,
          43.652,
          36.687,
          41.868,
          42.078,
          41.148,
          38.632,
          42.608,
          38.986,
          42.06,
          41.996,
          41.308,
          42.639,
          42.626,
          42.635,
          42.605,
          42.647,
          41.007,
          42.072,
          42.072,
          41.82,
          40.77,
          41.77,
          41.77,
          41.648,
          41.711,
          42.52,
          42.58,
          41.023,
          43.45,
          42.033,
          41.388,
          37.462,
          41.974,
          41.796,
          42.767,
          43.431,
          43.431,
          42.137,
          41.538,
          37.344,
          37.344,
          43.268,
          43.284,
          43.598,
          43.219,
          41.661,
          41.661,
          41.444,
          41.44,
          41.486,
          42.33,
          42.26,
          42.5,
          42.01,
          42.808,
          41.402,
          42.077,
          42.075,
          40.723,
          40.698,
          36.82,
          36.827,
          37.149,
          43.403,
          40.69,
          43.218,
          38.739,
          38.799,
          41.452,
          38.492,
          41.795,
          43.228,
          39.728,
          38.716,
          43.355,
          38.52,
          41.75,
          41.75,
          41.75,
          41.75,
          39.653,
          39.653,
          37.513,
          38.741,
          40.713,
          41.173,
          41,
          38.727,
          42.441,
          41.771,
          41.3,
          42.3,
          42.41,
          42.413,
          43.47,
          43.186,
          42.12,
          43.54,
          43.54,
          41.47,
          42.43,
          41.282,
          43.518,
          43.538,
          42.491,
          42.458,
          43.36,
          37.149,
          36.01,
          37.507,
          41.44,
          41.871,
          41.927,
          41.927,
          36.013,
          42.37,
          36.313,
          43.36,
          40.965,
          37.591,
          41.159,
          37.346,
          41.098,
          40.62,
          40.62,
          40.81,
          38.744,
          43.33,
          41.989,
          37.165,
          41.14,
          41.634,
          42.544,
          42.08,
          42.584,
          42.619,
          42.236,
          42.236,
          42.384,
          36.998,
          42.427,
          40.786,
          41.58,
          37.507,
          41.983,
          42.641,
          42.667,
          42.667,
          41.525,
          42.055,
          42.372,
          43.021,
          42.724,
          40.592,
          42.029,
          41.858,
          40.59,
          43.01,
          41.666,
          42.407,
          42.46,
          43.47,
          41.195,
          41.195,
          43.692,
          42.095,
          36.429,
          43.521,
          43.3,
          41.12,
          40.72,
          41.52,
          39.762,
          42.18,
          42.746,
          39.44,
          39.44,
          39.44,
          39.16,
          39.16,
          42.18,
          43.15,
          38.872,
          38.865,
          38.918,
          41.704,
          38.979,
          38.979,
          42.94,
          41.71,
          43.652,
          42.641,
          42.636,
          42.636,
          43.41,
          42.151,
          42.144,
          36.01,
          43.1,
          41.76,
          36.135
         ],
         "legendgroup": "",
         "lon": [
          -7.937,
          -7.96,
          -7.327,
          -8.99,
          -1.502,
          -1.502,
          -0.784,
          -0.87,
          -0.89,
          -9.04,
          -6.908,
          -6.91,
          -6.998,
          -1.92,
          -6.96,
          -6.96,
          -1.391,
          -1.695,
          -1.58,
          -5.513,
          -2.046,
          -2.046,
          -4.78,
          -4.47,
          -2.325,
          -3.126,
          -6.28,
          -6.256,
          -1.04,
          -1.623,
          -5.6,
          -1.435,
          -1.428,
          -5.945,
          -1.451,
          -5.01,
          -0.627,
          -0.627,
          -9.051,
          -9.051,
          -4.139,
          -4.49,
          -7.383,
          -6.788,
          -0.7,
          -0.7,
          -0.697,
          -4.34,
          -8.22,
          -8.2,
          -3.86,
          -1.12,
          -8.336,
          -6.289,
          -0.215,
          -3.769,
          -8.584,
          -1.14,
          -8.415,
          -1.376,
          -1.38,
          -2.055,
          -1.265,
          -1.278,
          -3.6,
          -5.6,
          -4.509,
          -2.855,
          -3.18,
          -4.163,
          -5.854,
          -6.265,
          -6.265,
          -1.69,
          -8.962,
          -8.978,
          -0.583,
          -2.076,
          -2.196,
          -2.203,
          -4.635,
          -0.697,
          -6.274,
          -0.905,
          -0.905,
          -8.45,
          -1.13,
          -6.13,
          -1.228,
          -1.53,
          -1.53,
          -1.53,
          -2.72,
          -1.53,
          -1.573,
          -0.996,
          -1.53,
          -1.53,
          -1.439,
          -2.322,
          -4.007,
          -5.92,
          -8.14,
          -2.38,
          -3.41,
          -6.643,
          -7.79,
          -3.515,
          -5.05,
          -2.651,
          -1.09,
          -0.995,
          -2.179,
          -2.254,
          -9.185,
          -9.211,
          -9.19,
          -0.26,
          -7.33,
          -1.584,
          -1.813,
          -1.832,
          -1.25,
          -3.638,
          -3.173,
          -8.134,
          -1.53,
          -0.739,
          -3.2,
          -3.496,
          -3.496,
          -2.548,
          -5.103,
          -3.24,
          -3.24,
          -3.75,
          -1.634,
          -1.992,
          -1.992,
          -2.429,
          -7.64,
          -7.83,
          -1.318,
          -8.01,
          -6.724,
          -7.367,
          -2.437,
          -2.761,
          -4.178,
          -4.97,
          -7.789,
          -2.54,
          -1.83,
          -8.69,
          -2.296,
          -2.286,
          -2.381,
          -7.79,
          -4.363,
          -4.218,
          -4.176,
          -6.3,
          -2.417,
          -3.407,
          -2.242,
          -5.962,
          -0.955,
          -4.885,
          -0.96,
          -3.906,
          -1.385,
          -0.953,
          -2.227,
          -5.014,
          -4.881,
          -3.223,
          -1.133,
          -1.076,
          -3.292,
          -1.682,
          -1.682,
          -2.425,
          -4.278,
          -4.278,
          -7.67,
          -7.89,
          -6.97,
          -1.727,
          -6.13,
          -6.13,
          -2.045,
          -1.724,
          -6.91,
          -2.24,
          -1.142,
          -3.699,
          -3.699,
          -0.705,
          -0.409,
          -0.429,
          -4.981,
          -0.92,
          -1.262,
          -1.262,
          -0.479,
          -7.949,
          -7.73,
          -8.954,
          -3.869,
          -6.074,
          -6.19,
          -5.6,
          -4.861,
          -7.651,
          -8.848,
          -8.024,
          -8.024,
          -7.73,
          -7.94,
          -7.636,
          -8.49,
          -7.915,
          -7.9,
          -3.309,
          -4.719,
          -4.47,
          -4.47,
          -1.58,
          -1.58,
          -7.42,
          -2.206,
          -4.78,
          -4.15,
          -2.528,
          -6.309,
          -6.309,
          -8.99,
          -4.611,
          -1.265,
          -1.343,
          -2.88,
          -8.27,
          -9.19,
          -2.97,
          -3.01,
          -3.01,
          -5.991,
          -4.495,
          -2.94,
          -4.55,
          -1.597,
          -0.52,
          -5.603,
          -6.958,
          -1.301,
          -1.227,
          -4.861,
          -0.765,
          -5.6,
          -1.321,
          -5.562,
          -5.6,
          -1.441,
          -6.93,
          -3.69,
          -2.47,
          -2.47,
          -4.17,
          -4.199,
          -4.753,
          -2.325,
          -7.246,
          -3.639,
          -3.74,
          -2.506,
          -2.834,
          -3.493,
          -1.235,
          -3.769,
          -3.769,
          -4.26,
          -0.428,
          -2.626,
          -2.626,
          -0.89,
          -5.6,
          -4.008,
          -1.83,
          -7.459,
          -5.978,
          -4.682,
          -6.16,
          -6.152,
          -3.593,
          -1.37,
          -1.37,
          -0.83,
          -1.143,
          -4.2,
          -4.18,
          -3.736,
          -3.635,
          -6.137,
          -5.6,
          -3.761,
          -6.245,
          -2.61,
          -1.74,
          -3.867,
          -4.27,
          -1.12,
          -5.49,
          -5.041,
          -0.8,
          -2.03,
          -4.846,
          -4.449,
          -4.38,
          -6.421,
          -6.421,
          -1.235,
          -5.01,
          -1.723,
          -5.6,
          -7.451,
          -1.048,
          -7.146,
          -6.665,
          -1.27,
          -1.834,
          -4.27,
          -5.454,
          -1.917,
          -1.917,
          -5.945,
          -0.921,
          -0.926,
          -2.489,
          -2.498,
          -2.446,
          -4.26,
          -2.6,
          -0.947,
          -6.58,
          -4.259,
          -2.24,
          -0.84,
          -2.197,
          -4.908,
          -4.78,
          -1.678,
          -1.835,
          -7.79,
          -7.939,
          -0.815,
          -7.364,
          -0.5,
          -3.05,
          -7.549,
          -0.199,
          -0.188,
          -7.07,
          -8.37,
          -8.37,
          -8.818,
          -8.01,
          -1.452,
          -0.96,
          -0.957,
          -1.34,
          -4.034,
          -3.629,
          -7.466,
          -2.041,
          -2.041,
          -1.291,
          -7.694,
          -5.103,
          -1.005,
          -3.29,
          -8.998,
          -4.485,
          -1.724,
          -2.161,
          -2.161,
          -6.91,
          -6.908,
          -1.443,
          -3.043,
          -5.6,
          -5.6,
          -2.224,
          -2.64,
          -2.58,
          -4.26,
          -1.83,
          -2.95,
          -1.47,
          -2.068,
          -5.285,
          -8.11,
          -2.176,
          -1.42,
          -2.87,
          -0.983,
          -5.988,
          -2.25,
          -1.473,
          -1.469,
          -6.889,
          -3.47,
          -1.83,
          -0.79,
          -0.79,
          -0.79,
          -3.773,
          -1.76,
          -3.75,
          -4.871,
          -1.668,
          -1.12,
          -6.084,
          -1.694,
          -7.59,
          -2.47,
          -2.51,
          -0.899,
          -3.786,
          -3.742,
          -1.473,
          -4.861,
          -4.914,
          -2.209,
          -4.78,
          -4.78,
          -5.024,
          -3.218,
          -1.441,
          -5.97,
          -1.697,
          -2.021,
          -6.9,
          -5.721,
          -5.6,
          -3.803,
          -1.53,
          -0.703,
          -4.051,
          -4.051,
          -4.051,
          -1.776,
          -3.834,
          -6.3,
          -5.6,
          -3.65,
          -1.12,
          -1.12,
          -1.124,
          -4.78,
          -5.065,
          -2.188,
          -2.262,
          -3.7,
          -1.102,
          -1.102,
          -1.102,
          -1.097,
          -1.079,
          -3.351,
          -3.351,
          -6.231,
          -7.27,
          -5.6,
          -4.26,
          -1.484,
          -1.281,
          -3.571,
          -1.143,
          -1.752,
          -0.711,
          -5.6,
          -1.324,
          -3.642,
          -3.643,
          -5.6,
          -0.98,
          -0.98,
          -0.862,
          -5.144,
          -5.718,
          -5.718,
          -6.149,
          -4.153,
          -7.48,
          -5.93,
          -5.93,
          -2.674,
          -2.388,
          -2.44,
          -4.859,
          -1.143,
          -7.25,
          -4.49,
          -3.596,
          -0.697,
          -1.135,
          -2.34,
          -3.518,
          -2.789,
          -5.945,
          -5.929,
          -5.027,
          -3.75,
          -2.688,
          -4.702,
          -4.933,
          -5.893,
          -3.744,
          -3.744,
          -2.268,
          -7.96,
          -3.562,
          -1.86,
          -1.584,
          -1.519,
          -0.662,
          -0.693,
          -0.41,
          -1.219,
          -1.219,
          -0.605,
          -7.55,
          -5.6,
          -2.349,
          -3.413,
          -4.973,
          -3.844,
          -5.6,
          -2.688,
          -5.776,
          -3.669,
          -5.962,
          -5.962,
          -1.948,
          -1.746,
          -1.746,
          -5.962,
          -3.575,
          -3.572,
          -7.75,
          -2.087,
          -2.171,
          -5.872,
          -4.263,
          -4.861,
          -2.571,
          -1.353,
          -3.55,
          -1.653,
          -4.108,
          -5.702,
          -5.963,
          -5.88,
          -2.781,
          -0.96,
          -5.663,
          -7.377,
          -3.7,
          -5.284,
          -5.023,
          -2.85,
          -1.392,
          -5.6,
          -4.15,
          -1.414,
          -4.065,
          -1.058,
          -6.91,
          -6.91,
          -6.3,
          -2.1,
          -2.27,
          -1.422,
          -2.31,
          -4.485,
          -7.246,
          -2.381,
          -2.35,
          -2.35,
          -4.052,
          -4.052,
          -1.44,
          -1.387,
          -8.89,
          -8.893,
          -3.631,
          -0.34,
          -2.2,
          -2.2,
          -2.196,
          -7.64,
          -3.77,
          -0.901,
          -8.267,
          -5.432,
          -1.745,
          -0.72,
          -4.918,
          -6.092,
          -2.295,
          -9.068,
          -2.001,
          -1.53,
          -1.53,
          -3.468,
          -1.75,
          -7.29,
          -0.666,
          -7.404,
          -1.03,
          -0.933,
          -0.933,
          -0.933,
          -0.881,
          -7.59,
          -5.877,
          -1.375,
          -1.375,
          -8.563,
          -7.886,
          -8.14,
          -8.902,
          -7.9,
          -4.49,
          -8.44,
          -7.341,
          -1.381,
          -7.852,
          -9.09,
          -8.395,
          -8.395,
          -9.09,
          -8.78,
          -5.6,
          -3.86,
          -7.42,
          -7.48,
          -1.273,
          -7.34,
          -1.763,
          -1.763,
          -3.43,
          -7.48,
          -8.359,
          -2.427,
          -1.58,
          -5.944,
          -1.917,
          -1.917,
          -0.282,
          -0.282,
          -1.09,
          -1.507,
          -1.471,
          -1.133,
          -0.289,
          -1.23,
          -2.252,
          -2.427,
          -2.427,
          -0.815,
          -2.34,
          -2.34,
          -7.721,
          -7.721,
          -9.241,
          -9.241,
          -2.665,
          -4.38,
          -4.35,
          -7.478,
          -6.764,
          -7.726,
          -7.468,
          -8.121,
          -9.03,
          -7.614,
          -2.578,
          -4.5,
          -2.31,
          -7.96,
          -3.65,
          -7.642,
          -8.95,
          -6.841,
          -6.841,
          -8.66,
          -3.687,
          -5.15,
          -3.58,
          -3.501,
          -3.56,
          -3.787,
          -4.254,
          -0.402,
          -2.469,
          -3.626,
          -2.947,
          -4.097,
          -5.736,
          -8.505,
          -9.06,
          -9.09,
          -0.52,
          -7.67,
          -9.056,
          -9.056,
          -5.6,
          -5.6,
          -5.6,
          -3.6,
          -3.65,
          -7.82,
          -1.631,
          -1.644,
          -1.644,
          -7.38,
          -7.38,
          -7.883,
          -6.001,
          -6.217,
          -4.262,
          -9.2,
          -9.016,
          -8.58,
          -7.67,
          -1.852,
          -1.852,
          -7.67,
          -4.262,
          -6.064,
          -5.93,
          -7.669,
          -7.67,
          -4.943,
          -4.983,
          -0.895,
          -0.895,
          -7.912,
          -6.826,
          -8.472,
          -5.603,
          -1.852,
          -1.497,
          -6.396,
          -3.75,
          -0.26,
          -1.12,
          -0.98,
          -0.996,
          -1.12,
          -1.104,
          -4.434,
          -8.939,
          -8.51,
          -9.12,
          -1.83,
          -2.417,
          -9.006,
          -7.25,
          -2.1,
          -1.739,
          -2.197,
          -0.739,
          -7.41,
          -4.682,
          -4.831,
          -0.956,
          -5.603,
          -1.451,
          -7.29,
          -3.089,
          -1.18,
          -1.483,
          -3.672,
          -3.683,
          -3.705,
          -0.837,
          -2.471,
          -2.471,
          -5.945,
          -2.01,
          -7.48,
          -0.221,
          -7.881,
          -1.404,
          -1.143,
          -5.6,
          -0.679,
          -7.551,
          -6.137,
          -0.533,
          -4.461,
          -5.831,
          -1.925,
          -1.308,
          -0.764,
          -4.49,
          -6.9,
          -0.992,
          -1.711,
          -1.744,
          -1.726,
          -1.696,
          -1.668,
          -1.903,
          -1.547,
          -1.547,
          -1.47,
          -0.85,
          -5.04,
          -5.04,
          -5.026,
          -4.982,
          -1.56,
          -6.46,
          -0.7,
          -7.85,
          -1.315,
          -0.615,
          -1.989,
          -0.601,
          -1.366,
          -3.937,
          -7.372,
          -7.372,
          -0.59,
          -1.284,
          -2.508,
          -2.508,
          -7.922,
          -7.946,
          -7.806,
          -7.248,
          -1.619,
          -1.619,
          -1.054,
          -1.035,
          -1.168,
          -7.41,
          -7.38,
          -8.37,
          -7.72,
          -7.497,
          -1.305,
          -1.533,
          -1.528,
          -0.925,
          -0.868,
          -4.78,
          -4.704,
          -4.453,
          -6.302,
          -5.82,
          -6.814,
          -1.029,
          -1.006,
          -1.644,
          -1.401,
          -6.093,
          -6.694,
          -1.382,
          -1.602,
          -6.416,
          -1.241,
          -2.19,
          -2.19,
          -1.98,
          -2,
          -3.39,
          -3.39,
          -3.741,
          -1.174,
          -1.555,
          -2.433,
          -1.039,
          -1.926,
          -1.104,
          -6.05,
          -2.995,
          -7.61,
          -7.73,
          -7.726,
          -7.72,
          -8.844,
          -6.96,
          -7.46,
          -7.46,
          -2.383,
          -3.73,
          -3.089,
          -7.882,
          -7.906,
          -1.262,
          -1.18,
          -7.88,
          -2.74,
          -5.6,
          -7.27,
          -2.37,
          -1.66,
          -0.605,
          -0.605,
          -5.603,
          -8.25,
          -5.967,
          -7.48,
          -5.663,
          -7.108,
          -1.044,
          -2.439,
          -0.228,
          -0.09,
          -0.1,
          -0.52,
          -2.344,
          -8.05,
          -4.495,
          -2.72,
          -0.89,
          -1.437,
          -1.523,
          -2.35,
          -3.802,
          -1.515,
          -4.19,
          -4.19,
          -3.352,
          -3.682,
          -4.942,
          -0.873,
          -1.12,
          -7.27,
          -4.428,
          -6.105,
          -6.278,
          -6.278,
          -5.967,
          -4.534,
          -5.03,
          -3.769,
          -6.052,
          -4.411,
          -0.672,
          -5.878,
          -4.42,
          -9.12,
          -1.446,
          -1.828,
          -3.47,
          -7.72,
          -2.511,
          -2.511,
          -7.672,
          -7.989,
          -5.762,
          -7.611,
          -7.68,
          -0.409,
          -4.48,
          -5.39,
          -2.838,
          -3.44,
          -1.799,
          -1.96,
          -1.96,
          -1.96,
          -1.143,
          -1.143,
          -3.43,
          -9.2,
          -1.318,
          -1.332,
          -1.295,
          -0.666,
          -1.422,
          -1.422,
          -8.99,
          -1.433,
          -7.559,
          -8.684,
          -8.696,
          -8.696,
          -7.142,
          -1.964,
          -1.956,
          -5.6,
          -8.87,
          -2.63,
          -5.815
         ],
         "marker": {
          "color": "#636efa",
          "opacity": 0.4,
          "size": [
           50,
           45,
           10,
           41,
           25,
           8,
           15,
           24,
           3,
           36,
           1,
           1,
           1,
           12,
           18,
           28,
           52,
           18,
           54,
           3,
           8,
           53,
           3,
           22,
           31,
           17,
           16,
           11,
           7,
           14,
           11,
           12,
           14,
           13,
           15,
           25,
           15,
           15,
           2,
           4,
           25,
           2,
           15,
           3,
           13,
           23,
           16,
           32,
           75,
           58,
           3,
           16,
           2,
           11,
           33,
           31,
           1,
           1,
           3,
           9,
           2,
           24,
           30,
           30,
           15,
           4,
           18,
           30,
           21,
           20,
           18,
           36,
           11,
           12,
           60,
           27,
           12,
           14,
           1,
           13,
           3,
           30,
           41,
           25,
           11,
           29,
           23,
           12,
           11,
           33,
           22,
           20,
           40,
           27,
           30,
           29,
           1,
           1,
           1,
           24,
           20,
           26,
           31,
           19,
           6,
           10,
           76,
           4,
           15,
           25,
           31,
           1,
           15,
           75,
           3,
           20,
           2,
           19,
           6,
           21,
           33,
           33,
           58,
           19,
           37,
           1,
           3,
           18,
           22,
           21,
           17,
           14,
           7,
           17,
           7,
           10,
           44,
           25,
           21,
           22,
           30,
           37,
           62,
           30,
           25,
           3,
           10,
           19,
           58,
           4,
           13,
           28,
           34,
           25,
           20,
           33,
           17,
           37,
           10,
           17,
           13,
           9,
           32,
           21,
           33,
           3,
           1,
           22,
           21,
           5,
           37,
           18,
           33,
           23,
           21,
           3,
           8,
           31,
           4,
           46,
           35,
           16,
           25,
           14,
           28,
           30,
           14,
           9,
           11,
           15,
           25,
           18,
           8,
           16,
           13,
           22,
           3,
           13,
           20,
           3,
           17,
           6,
           15,
           16,
           22,
           6,
           40,
           68,
           20,
           15,
           17,
           17,
           14,
           31,
           48,
           20,
           25,
           35,
           38,
           4,
           9,
           12,
           12,
           21,
           24,
           22,
           4,
           47,
           31,
           25,
           33,
           33,
           23,
           19,
           50,
           8,
           6,
           1,
           25,
           15,
           1,
           66,
           13,
           25,
           21,
           4,
           16,
           2,
           10,
           4,
           36,
           37,
           16,
           27,
           15,
           9,
           18,
           9,
           10,
           60,
           102,
           1,
           6,
           19,
           29,
           14,
           25,
           9,
           5,
           16,
           33,
           20,
           30,
           12,
           8,
           10,
           36,
           14,
           9,
           3,
           11,
           16,
           15,
           3,
           3,
           30,
           26,
           44,
           17,
           14,
           25,
           45,
           7,
           20,
           3,
           6,
           2,
           19,
           35,
           5,
           9,
           12,
           17,
           10,
           16,
           27,
           13,
           40,
           31,
           30,
           25,
           11,
           14,
           38,
           23,
           13,
           3,
           3,
           17,
           19,
           20,
           4,
           17,
           20,
           30,
           3,
           18,
           18,
           8,
           30,
           51,
           12,
           30,
           11,
           4,
           16,
           13,
           37,
           3,
           38,
           15,
           40,
           18,
           14,
           4,
           15,
           29,
           33,
           9,
           25,
           5,
           3,
           37,
           18,
           12,
           10,
           21,
           25,
           15,
           33,
           10,
           69,
           16,
           22,
           12,
           37,
           7,
           23,
           56,
           15,
           29,
           16,
           25,
           33,
           11,
           33,
           43,
           9,
           81,
           32,
           11,
           6,
           4,
           19,
           13,
           37,
           7,
           57,
           20,
           7,
           4,
           20,
           43,
           34,
           13,
           33,
           25,
           40,
           14,
           4,
           11,
           64,
           50,
           2,
           1,
           22,
           33,
           43,
           1,
           58,
           35,
           49,
           4,
           4,
           16,
           15,
           3,
           16,
           4,
           3,
           66,
           21,
           3,
           32,
           25,
           11,
           1,
           9,
           1,
           48,
           14,
           4,
           19,
           25,
           25,
           3,
           15,
           8,
           3,
           3,
           33,
           65,
           28,
           12,
           7,
           1,
           12,
           1,
           31,
           31,
           14,
           28,
           28,
           15,
           15,
           40,
           25,
           35,
           27,
           14,
           20,
           13,
           22,
           3,
           1,
           1,
           25,
           35,
           25,
           8,
           13,
           19,
           6,
           1,
           1,
           75,
           27,
           52,
           4,
           12,
           10,
           25,
           14,
           3,
           8,
           19,
           26,
           8,
           19,
           2,
           2,
           12,
           22,
           25,
           28,
           15,
           16,
           16,
           59,
           18,
           43,
           11,
           4,
           9,
           3,
           40,
           117,
           10,
           6,
           14,
           4,
           13,
           33,
           1,
           11,
           6,
           10,
           11,
           8,
           25,
           32,
           6,
           32,
           41,
           41,
           17,
           54,
           2,
           15,
           6,
           22,
           19,
           6,
           15,
           21,
           19,
           33,
           6,
           10,
           8,
           17,
           1,
           1,
           25,
           1,
           1,
           3,
           1,
           2,
           30,
           3,
           33,
           5,
           14,
           10,
           17,
           12,
           24,
           3,
           7,
           7,
           12,
           16,
           8,
           32,
           17,
           24,
           29,
           46,
           17,
           15,
           30,
           10,
           23,
           25,
           26,
           16,
           18,
           7,
           11,
           33,
           19,
           12,
           33,
           15,
           25,
           33,
           19,
           14,
           18,
           25,
           75,
           15,
           72,
           2,
           1,
           17,
           9,
           24,
           6,
           20,
           33,
           2,
           75,
           8,
           33,
           33,
           19,
           15,
           13,
           6,
           75,
           1,
           1,
           8,
           32,
           12,
           15,
           31,
           5,
           4,
           13,
           13,
           7,
           46,
           14,
           15,
           7,
           3,
           23,
           37,
           2,
           1,
           3,
           3,
           24,
           35,
           11,
           66,
           37,
           16,
           11,
           40,
           3,
           16,
           28,
           17,
           30,
           5,
           41,
           44,
           28,
           31,
           53,
           25,
           20,
           9,
           21,
           17,
           25,
           7,
           27,
           69,
           25,
           17,
           27,
           56,
           33,
           22,
           17,
           14,
           5,
           18,
           37,
           37,
           23,
           11,
           12,
           16,
           26,
           10,
           53,
           2,
           27,
           25,
           2,
           4,
           40,
           22,
           33,
           17,
           10,
           22,
           21,
           37,
           9,
           2,
           11,
           15,
           66,
           1,
           67,
           9,
           13,
           25,
           11,
           1,
           1,
           1,
           6,
           14,
           34,
           32,
           27,
           33,
           36,
           7,
           9,
           9,
           9,
           41,
           4,
           23,
           1,
           22,
           54,
           15,
           12,
           37,
           8,
           25,
           1,
           26,
           2,
           1,
           26,
           8,
           9,
           33,
           3,
           10,
           22,
           28,
           4,
           30,
           30,
           26,
           19,
           9,
           7,
           2,
           21,
           7,
           15,
           37,
           40,
           25,
           66,
           32,
           32,
           32,
           54,
           1,
           1,
           1,
           31,
           53,
           6,
           1,
           12,
           1,
           37,
           35,
           12,
           3,
           27,
           7,
           13,
           6,
           21,
           46,
           5,
           18,
           14,
           10,
           1,
           6,
           19,
           12,
           16,
           8,
           26,
           28,
           33,
           7,
           17,
           20,
           16,
           43,
           16,
           19,
           13,
           3,
           17,
           24,
           29,
           25,
           2,
           21,
           25,
           37,
           4,
           13,
           8,
           10,
           18,
           25,
           25,
           56,
           14,
           26,
           21,
           15,
           18,
           41,
           10,
           12,
           48,
           5,
           20,
           25,
           40,
           20,
           12,
           5,
           3,
           49,
           9,
           25,
           5,
           18,
           7,
           28,
           58,
           33,
           17,
           27,
           3,
           33,
           19,
           13,
           44,
           49,
           10,
           10,
           25,
           1,
           15,
           48,
           16,
           2,
           10,
           12,
           37,
           12,
           71,
           20,
           36,
           11,
           20,
           59,
           45,
           27,
           22,
           23,
           14,
           9,
           45,
           21,
           28,
           9,
           23,
           23,
           20,
           20,
           4,
           23,
           50,
           10,
           23,
           70,
           14,
           6,
           20,
           13,
           10,
           26,
           29,
           6,
           14,
           16,
           80,
           1,
           22,
           20,
           24,
           13,
           101,
           20,
           15,
           12,
           75,
           52,
           4,
           37,
           16,
           36,
           25,
           5,
           43,
           16,
           20,
           33,
           33,
           23,
           16,
           29,
           3,
           25,
           91,
           15,
           25,
           38,
           25,
           29,
           5,
           4,
           19,
           8,
           17,
           38,
           3,
           14,
           4,
           6,
           9,
           3,
           5,
           15,
           23,
           37,
           12,
           19,
           10,
           40,
           25,
           25,
           18,
           36,
           17,
           30,
           9,
           13,
           41,
           19,
           21,
           4,
           38,
           31,
           22,
           6,
           17,
           21,
           30,
           3,
           2,
           2,
           21,
           8,
           19,
           1,
           35,
           5,
           37,
           15,
           40,
           35,
           32,
           1,
           43,
           2,
           11,
           3,
           3,
           37,
           36,
           8,
           90,
           6,
           29
          ],
          "sizemode": "area",
          "sizeref": 0.2925,
          "symbol": "circle"
         },
         "mode": "markers",
         "name": "",
         "showlegend": false,
         "type": "scattergeo"
        }
       ],
       "layout": {
        "autosize": true,
        "geo": {
         "center": {
          "lat": 39.8115,
          "lon": -1.9076
         },
         "domain": {
          "x": [
           0,
           1
          ],
          "y": [
           0,
           1
          ]
         },
         "projection": {
          "scale": 6,
          "type": "natural earth"
         },
         "scope": "europe"
        },
        "height": 600,
        "legend": {
         "itemsizing": "constant",
         "tracegroupgap": 0
        },
        "template": {
         "data": {
          "bar": [
           {
            "error_x": {
             "color": "#2a3f5f"
            },
            "error_y": {
             "color": "#2a3f5f"
            },
            "marker": {
             "line": {
              "color": "#E5ECF6",
              "width": 0.5
             },
             "pattern": {
              "fillmode": "overlay",
              "size": 10,
              "solidity": 0.2
             }
            },
            "type": "bar"
           }
          ],
          "barpolar": [
           {
            "marker": {
             "line": {
              "color": "#E5ECF6",
              "width": 0.5
             },
             "pattern": {
              "fillmode": "overlay",
              "size": 10,
              "solidity": 0.2
             }
            },
            "type": "barpolar"
           }
          ],
          "carpet": [
           {
            "aaxis": {
             "endlinecolor": "#2a3f5f",
             "gridcolor": "white",
             "linecolor": "white",
             "minorgridcolor": "white",
             "startlinecolor": "#2a3f5f"
            },
            "baxis": {
             "endlinecolor": "#2a3f5f",
             "gridcolor": "white",
             "linecolor": "white",
             "minorgridcolor": "white",
             "startlinecolor": "#2a3f5f"
            },
            "type": "carpet"
           }
          ],
          "choropleth": [
           {
            "colorbar": {
             "outlinewidth": 0,
             "ticks": ""
            },
            "type": "choropleth"
           }
          ],
          "contour": [
           {
            "colorbar": {
             "outlinewidth": 0,
             "ticks": ""
            },
            "colorscale": [
             [
              0,
              "#0d0887"
             ],
             [
              0.1111111111111111,
              "#46039f"
             ],
             [
              0.2222222222222222,
              "#7201a8"
             ],
             [
              0.3333333333333333,
              "#9c179e"
             ],
             [
              0.4444444444444444,
              "#bd3786"
             ],
             [
              0.5555555555555556,
              "#d8576b"
             ],
             [
              0.6666666666666666,
              "#ed7953"
             ],
             [
              0.7777777777777778,
              "#fb9f3a"
             ],
             [
              0.8888888888888888,
              "#fdca26"
             ],
             [
              1,
              "#f0f921"
             ]
            ],
            "type": "contour"
           }
          ],
          "contourcarpet": [
           {
            "colorbar": {
             "outlinewidth": 0,
             "ticks": ""
            },
            "type": "contourcarpet"
           }
          ],
          "heatmap": [
           {
            "colorbar": {
             "outlinewidth": 0,
             "ticks": ""
            },
            "colorscale": [
             [
              0,
              "#0d0887"
             ],
             [
              0.1111111111111111,
              "#46039f"
             ],
             [
              0.2222222222222222,
              "#7201a8"
             ],
             [
              0.3333333333333333,
              "#9c179e"
             ],
             [
              0.4444444444444444,
              "#bd3786"
             ],
             [
              0.5555555555555556,
              "#d8576b"
             ],
             [
              0.6666666666666666,
              "#ed7953"
             ],
             [
              0.7777777777777778,
              "#fb9f3a"
             ],
             [
              0.8888888888888888,
              "#fdca26"
             ],
             [
              1,
              "#f0f921"
             ]
            ],
            "type": "heatmap"
           }
          ],
          "heatmapgl": [
           {
            "colorbar": {
             "outlinewidth": 0,
             "ticks": ""
            },
            "colorscale": [
             [
              0,
              "#0d0887"
             ],
             [
              0.1111111111111111,
              "#46039f"
             ],
             [
              0.2222222222222222,
              "#7201a8"
             ],
             [
              0.3333333333333333,
              "#9c179e"
             ],
             [
              0.4444444444444444,
              "#bd3786"
             ],
             [
              0.5555555555555556,
              "#d8576b"
             ],
             [
              0.6666666666666666,
              "#ed7953"
             ],
             [
              0.7777777777777778,
              "#fb9f3a"
             ],
             [
              0.8888888888888888,
              "#fdca26"
             ],
             [
              1,
              "#f0f921"
             ]
            ],
            "type": "heatmapgl"
           }
          ],
          "histogram": [
           {
            "marker": {
             "pattern": {
              "fillmode": "overlay",
              "size": 10,
              "solidity": 0.2
             }
            },
            "type": "histogram"
           }
          ],
          "histogram2d": [
           {
            "colorbar": {
             "outlinewidth": 0,
             "ticks": ""
            },
            "colorscale": [
             [
              0,
              "#0d0887"
             ],
             [
              0.1111111111111111,
              "#46039f"
             ],
             [
              0.2222222222222222,
              "#7201a8"
             ],
             [
              0.3333333333333333,
              "#9c179e"
             ],
             [
              0.4444444444444444,
              "#bd3786"
             ],
             [
              0.5555555555555556,
              "#d8576b"
             ],
             [
              0.6666666666666666,
              "#ed7953"
             ],
             [
              0.7777777777777778,
              "#fb9f3a"
             ],
             [
              0.8888888888888888,
              "#fdca26"
             ],
             [
              1,
              "#f0f921"
             ]
            ],
            "type": "histogram2d"
           }
          ],
          "histogram2dcontour": [
           {
            "colorbar": {
             "outlinewidth": 0,
             "ticks": ""
            },
            "colorscale": [
             [
              0,
              "#0d0887"
             ],
             [
              0.1111111111111111,
              "#46039f"
             ],
             [
              0.2222222222222222,
              "#7201a8"
             ],
             [
              0.3333333333333333,
              "#9c179e"
             ],
             [
              0.4444444444444444,
              "#bd3786"
             ],
             [
              0.5555555555555556,
              "#d8576b"
             ],
             [
              0.6666666666666666,
              "#ed7953"
             ],
             [
              0.7777777777777778,
              "#fb9f3a"
             ],
             [
              0.8888888888888888,
              "#fdca26"
             ],
             [
              1,
              "#f0f921"
             ]
            ],
            "type": "histogram2dcontour"
           }
          ],
          "mesh3d": [
           {
            "colorbar": {
             "outlinewidth": 0,
             "ticks": ""
            },
            "type": "mesh3d"
           }
          ],
          "parcoords": [
           {
            "line": {
             "colorbar": {
              "outlinewidth": 0,
              "ticks": ""
             }
            },
            "type": "parcoords"
           }
          ],
          "pie": [
           {
            "automargin": true,
            "type": "pie"
           }
          ],
          "scatter": [
           {
            "fillpattern": {
             "fillmode": "overlay",
             "size": 10,
             "solidity": 0.2
            },
            "type": "scatter"
           }
          ],
          "scatter3d": [
           {
            "line": {
             "colorbar": {
              "outlinewidth": 0,
              "ticks": ""
             }
            },
            "marker": {
             "colorbar": {
              "outlinewidth": 0,
              "ticks": ""
             }
            },
            "type": "scatter3d"
           }
          ],
          "scattercarpet": [
           {
            "marker": {
             "colorbar": {
              "outlinewidth": 0,
              "ticks": ""
             }
            },
            "type": "scattercarpet"
           }
          ],
          "scattergeo": [
           {
            "marker": {
             "colorbar": {
              "outlinewidth": 0,
              "ticks": ""
             }
            },
            "type": "scattergeo"
           }
          ],
          "scattergl": [
           {
            "marker": {
             "colorbar": {
              "outlinewidth": 0,
              "ticks": ""
             }
            },
            "type": "scattergl"
           }
          ],
          "scattermapbox": [
           {
            "marker": {
             "colorbar": {
              "outlinewidth": 0,
              "ticks": ""
             }
            },
            "type": "scattermapbox"
           }
          ],
          "scatterpolar": [
           {
            "marker": {
             "colorbar": {
              "outlinewidth": 0,
              "ticks": ""
             }
            },
            "type": "scatterpolar"
           }
          ],
          "scatterpolargl": [
           {
            "marker": {
             "colorbar": {
              "outlinewidth": 0,
              "ticks": ""
             }
            },
            "type": "scatterpolargl"
           }
          ],
          "scatterternary": [
           {
            "marker": {
             "colorbar": {
              "outlinewidth": 0,
              "ticks": ""
             }
            },
            "type": "scatterternary"
           }
          ],
          "surface": [
           {
            "colorbar": {
             "outlinewidth": 0,
             "ticks": ""
            },
            "colorscale": [
             [
              0,
              "#0d0887"
             ],
             [
              0.1111111111111111,
              "#46039f"
             ],
             [
              0.2222222222222222,
              "#7201a8"
             ],
             [
              0.3333333333333333,
              "#9c179e"
             ],
             [
              0.4444444444444444,
              "#bd3786"
             ],
             [
              0.5555555555555556,
              "#d8576b"
             ],
             [
              0.6666666666666666,
              "#ed7953"
             ],
             [
              0.7777777777777778,
              "#fb9f3a"
             ],
             [
              0.8888888888888888,
              "#fdca26"
             ],
             [
              1,
              "#f0f921"
             ]
            ],
            "type": "surface"
           }
          ],
          "table": [
           {
            "cells": {
             "fill": {
              "color": "#EBF0F8"
             },
             "line": {
              "color": "white"
             }
            },
            "header": {
             "fill": {
              "color": "#C8D4E3"
             },
             "line": {
              "color": "white"
             }
            },
            "type": "table"
           }
          ]
         },
         "layout": {
          "annotationdefaults": {
           "arrowcolor": "#2a3f5f",
           "arrowhead": 0,
           "arrowwidth": 1
          },
          "autotypenumbers": "strict",
          "coloraxis": {
           "colorbar": {
            "outlinewidth": 0,
            "ticks": ""
           }
          },
          "colorscale": {
           "diverging": [
            [
             0,
             "#8e0152"
            ],
            [
             0.1,
             "#c51b7d"
            ],
            [
             0.2,
             "#de77ae"
            ],
            [
             0.3,
             "#f1b6da"
            ],
            [
             0.4,
             "#fde0ef"
            ],
            [
             0.5,
             "#f7f7f7"
            ],
            [
             0.6,
             "#e6f5d0"
            ],
            [
             0.7,
             "#b8e186"
            ],
            [
             0.8,
             "#7fbc41"
            ],
            [
             0.9,
             "#4d9221"
            ],
            [
             1,
             "#276419"
            ]
           ],
           "sequential": [
            [
             0,
             "#0d0887"
            ],
            [
             0.1111111111111111,
             "#46039f"
            ],
            [
             0.2222222222222222,
             "#7201a8"
            ],
            [
             0.3333333333333333,
             "#9c179e"
            ],
            [
             0.4444444444444444,
             "#bd3786"
            ],
            [
             0.5555555555555556,
             "#d8576b"
            ],
            [
             0.6666666666666666,
             "#ed7953"
            ],
            [
             0.7777777777777778,
             "#fb9f3a"
            ],
            [
             0.8888888888888888,
             "#fdca26"
            ],
            [
             1,
             "#f0f921"
            ]
           ],
           "sequentialminus": [
            [
             0,
             "#0d0887"
            ],
            [
             0.1111111111111111,
             "#46039f"
            ],
            [
             0.2222222222222222,
             "#7201a8"
            ],
            [
             0.3333333333333333,
             "#9c179e"
            ],
            [
             0.4444444444444444,
             "#bd3786"
            ],
            [
             0.5555555555555556,
             "#d8576b"
            ],
            [
             0.6666666666666666,
             "#ed7953"
            ],
            [
             0.7777777777777778,
             "#fb9f3a"
            ],
            [
             0.8888888888888888,
             "#fdca26"
            ],
            [
             1,
             "#f0f921"
            ]
           ]
          },
          "colorway": [
           "#636efa",
           "#EF553B",
           "#00cc96",
           "#ab63fa",
           "#FFA15A",
           "#19d3f3",
           "#FF6692",
           "#B6E880",
           "#FF97FF",
           "#FECB52"
          ],
          "font": {
           "color": "#2a3f5f"
          },
          "geo": {
           "bgcolor": "white",
           "lakecolor": "white",
           "landcolor": "#E5ECF6",
           "showlakes": true,
           "showland": true,
           "subunitcolor": "white"
          },
          "hoverlabel": {
           "align": "left"
          },
          "hovermode": "closest",
          "mapbox": {
           "style": "light"
          },
          "paper_bgcolor": "white",
          "plot_bgcolor": "#E5ECF6",
          "polar": {
           "angularaxis": {
            "gridcolor": "white",
            "linecolor": "white",
            "ticks": ""
           },
           "bgcolor": "#E5ECF6",
           "radialaxis": {
            "gridcolor": "white",
            "linecolor": "white",
            "ticks": ""
           }
          },
          "scene": {
           "xaxis": {
            "backgroundcolor": "#E5ECF6",
            "gridcolor": "white",
            "gridwidth": 2,
            "linecolor": "white",
            "showbackground": true,
            "ticks": "",
            "zerolinecolor": "white"
           },
           "yaxis": {
            "backgroundcolor": "#E5ECF6",
            "gridcolor": "white",
            "gridwidth": 2,
            "linecolor": "white",
            "showbackground": true,
            "ticks": "",
            "zerolinecolor": "white"
           },
           "zaxis": {
            "backgroundcolor": "#E5ECF6",
            "gridcolor": "white",
            "gridwidth": 2,
            "linecolor": "white",
            "showbackground": true,
            "ticks": "",
            "zerolinecolor": "white"
           }
          },
          "shapedefaults": {
           "line": {
            "color": "#2a3f5f"
           }
          },
          "ternary": {
           "aaxis": {
            "gridcolor": "white",
            "linecolor": "white",
            "ticks": ""
           },
           "baxis": {
            "gridcolor": "white",
            "linecolor": "white",
            "ticks": ""
           },
           "bgcolor": "#E5ECF6",
           "caxis": {
            "gridcolor": "white",
            "linecolor": "white",
            "ticks": ""
           }
          },
          "title": {
           "x": 0.05
          },
          "xaxis": {
           "automargin": true,
           "gridcolor": "white",
           "linecolor": "white",
           "ticks": "",
           "title": {
            "standoff": 15
           },
           "zerolinecolor": "white",
           "zerolinewidth": 2
          },
          "yaxis": {
           "automargin": true,
           "gridcolor": "white",
           "linecolor": "white",
           "ticks": "",
           "title": {
            "standoff": 15
           },
           "zerolinecolor": "white",
           "zerolinewidth": 2
          }
         }
        },
        "title": {
         "text": "Estaciones con aerogeneradores en España"
        }
       }
      }
     },
     "metadata": {},
     "output_type": "display_data"
    }
   ],
   "source": [
    "import plotly.express as px\n",
    "import plotly.graph_objects as go\n",
    "fig = px.scatter_geo(wind_farms, lat=\"latitude\",lon=\"longitude\",\n",
    "                     hover_name=\"farm_name\",\n",
    "                     size=\"turbines\",\n",
    "                    #size_max=50,\n",
    "                     hover_data=[\"zone\",\"city\"],\n",
    "                     projection=\"natural earth\",\n",
    "                     #scope=\"europe\",\n",
    "                     #center=dict(lat=40.4115, lon=3.7076),\n",
    "                     opacity = 0.4,\n",
    "                     #color=\"n_killed\",\n",
    "                     #color_continuous_scale = \"Turbo\",#[\"#34eb89\",\"#dcff33\",\"#ff2655\",\"#9e0022\"],\n",
    "                     title = \"Estaciones con aerogeneradores en España\"\n",
    "                    #  color=\"n_killed_group\",\n",
    "                    #  color_discrete_sequence  =[\"#919090\",\"#ff8aa3\",\"#ff2655\",\"#9e0022\"]\n",
    "                     )\n",
    "fig.update_layout(\n",
    "    autosize=True,\n",
    "    height=600,\n",
    "    geo=dict(\n",
    "        center=dict(\n",
    "            lat=39.8115,\n",
    "            lon=-1.9076\n",
    "        ),\n",
    "        scope='europe',\n",
    "        projection_scale=6\n",
    "    )\n",
    ")\n",
    "                     \n",
    "fig.show()"
   ]
  },
  {
   "cell_type": "markdown",
   "metadata": {},
   "source": [
    "Cluster the stations by distance"
   ]
  },
  {
   "cell_type": "code",
   "execution_count": 65,
   "metadata": {},
   "outputs": [],
   "source": [
    "from sklearn.cluster import KMeans\n",
    "import matplotlib.pyplot as plt\n",
    "kmeans_kwargs = {\n",
    "    \"init\": \"random\",\n",
    "    \"n_init\": 10,\n",
    "    \"max_iter\": 300,\n",
    "    \"random_state\": 42,\n",
    "}\n",
    "\n",
    "# A list holds the SSE values for each k\n",
    "sse = []\n",
    "for k in range(1, 11):\n",
    "    kmeans = KMeans(n_clusters=k, **kmeans_kwargs)\n",
    "    kmeans.fit(wind_farms[[\"latitude\",\"longitude\"]])\n",
    "    sse.append(kmeans.inertia_)"
   ]
  },
  {
   "cell_type": "code",
   "execution_count": 66,
   "metadata": {},
   "outputs": [
    {
     "data": {
      "image/png": "[encoded data removed]",
      "text/plain": [
       "<Figure size 432x288 with 1 Axes>"
      ]
     },
     "metadata": {},
     "output_type": "display_data"
    }
   ],
   "source": [
    "plt.style.use(\"fivethirtyeight\")\n",
    "plt.plot(range(1, 11), sse)\n",
    "plt.xticks(range(1, 11))\n",
    "plt.xlabel(\"Number of Clusters\")\n",
    "plt.ylabel(\"SSE\")\n",
    "plt.show()"
   ]
  },
  {
   "cell_type": "code",
   "execution_count": 67,
   "metadata": {},
   "outputs": [
    {
     "data": {
      "text/plain": [
       "array([[36.62490083, -5.54178512],\n",
       "       [42.05736316, -4.26093684],\n",
       "       [43.01579556, -7.76558222],\n",
       "       [41.67122414, -1.42978276],\n",
       "       [38.90360345, -1.91963218]])"
      ]
     },
     "execution_count": 67,
     "metadata": {},
     "output_type": "execute_result"
    }
   ],
   "source": [
    "kmeans = KMeans(\n",
    "    init=\"random\",\n",
    "    n_clusters=5,\n",
    "    n_init=10,\n",
    "    max_iter=300,\n",
    "    random_state=42\n",
    ")\n",
    "kmeans.fit(wind_farms[[\"latitude\",\"longitude\"]])\n",
    "kmeans.cluster_centers_"
   ]
  },
  {
   "cell_type": "code",
   "execution_count": 68,
   "metadata": {},
   "outputs": [],
   "source": [
    "wind_farms[\"kmeans_labels\"] = kmeans.labels_"
   ]
  },
  {
   "cell_type": "code",
   "execution_count": 69,
   "metadata": {},
   "outputs": [
    {
     "data": {
      "application/vnd.plotly.v1+json": {
       "config": {
        "plotlyServerURL": "https://plot.ly"
       },
       "data": [
        {
         "customdata": [
          [
           "La Coruna (Galicia)",
           "Cariño, Cedeira, Ortigueira"
          ],
          [
           "La Coruna (Galicia)",
           "Cariño, Cedeira, Ortigueira"
          ],
          [
           "Lugo (Galicia)",
           "A Pastoriza, Mondoñedo, Riotorto"
          ],
          [
           "La Coruna (Galicia)",
           "Muros, Mazaricos"
          ],
          [
           "Albacete (Castilla-La Mancha)",
           "Pozo Llorente "
          ],
          [
           "Albacete (Castilla-La Mancha)",
           "Pozo Llorente"
          ],
          [
           "Zaragoza (Aragon)",
           "Zaragoza "
          ],
          [
           "Zaragoza (Aragon)",
           "Zaragoza"
          ],
          [
           "Zaragoza (Aragon)",
           "Zaragoza"
          ],
          [
           "La Coruna (Galicia)",
           "Carnota, Mazaricos"
          ],
          [
           "Zamora (Castilla y Leon)",
           "Lubián "
          ],
          [
           "Zamora (Castilla y Leon)",
           "Lubián"
          ],
          [
           "Zamora (Castilla y Leon)",
           "Pías"
          ],
          [
           "Soria (Castilla y Leon)",
           "Ágreda"
          ],
          [
           "Zamora (Castilla y Leon)",
           "Lubián, Pias"
          ],
          [
           "Zamora (Castilla y Leon)",
           "Lubián, Pias"
          ],
          [
           "Navarra",
           "Lumbier, Aibar, Urraúl"
          ],
          [
           "Navarra",
           "Cendea de Galar"
          ],
          [
           "Navarra",
           "Olóriz,Unzué"
          ],
          [
           "Salamanca (Castilla y Leon)",
           null
          ],
          [
           "Logroño (La Rioja)",
           "Cervera del Río Alhama"
          ],
          [
           "Logroño (La Rioja)",
           "Cervera del Río Alhama"
          ],
          [
           "Palencia (Castilla y Leon)",
           "Ampudia"
          ],
          [
           "Avila (Castilla y Leon)",
           "Sta, Maria del Cubillo"
          ],
          [
           "Soria (Castilla y Leon)",
           "Alentisque"
          ],
          [
           "Ciudad Real (Castilla-La Mancha)",
           "Alhambra, La Solana, Membrilla"
          ],
          [
           "Cadiz (Andalucía)",
           "Jeréz de la Frontera"
          ],
          [
           "Cadiz (Andalucía)",
           "Jeréz de la Frontera"
          ],
          [
           "Teruel (Aragon)",
           "Allueva, Fonfría, Adanón"
          ],
          [
           "Zaragoza (Aragon)",
           "Sestrica"
          ],
          [
           "Cadiz (Andalucía)",
           "Tarifa"
          ],
          [
           "Murcia",
           "Jumilla"
          ],
          [
           "Murcia",
           "Jumilla"
          ],
          [
           "Cadiz (Andalucía)",
           "Medina, Sidonia"
          ],
          [
           "Tarragona (Cataluna)",
           "Pujalt, Veciana, Prats de Rei, Calonge de Segarra "
          ],
          [
           "Málaga (Andalucía)",
           "Teba, Almargen (Málaga)"
          ],
          [
           "Castellon (Comunidad Valenciana)",
           "Barracas, Viver"
          ],
          [
           "Castellon (Comunidad Valenciana)",
           "Pina de Montalgrao "
          ],
          [
           "La Coruna (Galicia)",
           null
          ],
          [
           "La Coruna (Galicia)",
           null
          ],
          [
           "Burgos (Castilla y Leon)",
           "Castrojériz "
          ],
          [
           "Palencia (Castilla y Leon)",
           "Monzón de Campos"
          ],
          [
           "Lugo (Galicia)",
           "Abadín, A Pastoriza (Lugo)"
          ],
          [
           "Asturias",
           "El Franco, Coaña"
          ],
          [
           "Castellon (Comunidad Valenciana)",
           "Barracas, Viver"
          ],
          [
           "Castellon (Comunidad Valenciana)",
           "Barracas, Viver"
          ],
          [
           "Castellon (Comunidad Valenciana)",
           "Barracas, Viver "
          ],
          [
           "Avila (Castilla y Leon)",
           "Las Navas del Marqués"
          ],
          [
           "Ourense (Galicia)",
           "Forcarei, Lalín (Pontevedra), O Irixo (Ourense)"
          ],
          [
           "Pontevedra (Galicia)",
           "Dumbria, Cee"
          ],
          [
           "Burgos (Castilla y Leon)",
           "Valle de Valdebezana"
          ],
          [
           "Zaragoza (Aragon)",
           "La Muela"
          ],
          [
           "Pontevedra (Galicia)",
           "Arbo"
          ],
          [
           "Leon (Castilla y Leon)",
           "Santa Colomba de Samoza, Torre del Bierzo"
          ],
          [
           "Castellon (Comunidad Valenciana)",
           "Castellfort, Villafranca del Cid, Ares del Maestre"
          ],
          [
           "Burgos (Castilla y Leon)",
           "Alfoz de Quintanadueñas "
          ],
          [
           "La Coruna (Galicia)",
           "Arteixo "
          ],
          [
           "Zaragoza (Aragon)",
           "Ejea de los Caballeros"
          ],
          [
           "Pontevedra (Galicia)",
           "As Neves "
          ],
          [
           "Murcia",
           "Cieza"
          ],
          [
           "Murcia",
           "Cieza"
          ],
          [
           "Albacete (Castilla-La Mancha)",
           "Peñas de San Pedro"
          ],
          [
           "Zaragoza (Aragon)",
           "Pedrola, Luceni"
          ],
          [
           "Zaragoza (Aragon)",
           "Pedrola, Luceni"
          ],
          [
           "Burgos (Castilla y Leon)",
           "Ausines"
          ],
          [
           "Cadiz (Andalucía)",
           "Tarifa"
          ],
          [
           "Avila (Castilla y Leon)",
           "Avila, Tornadizos"
          ],
          [
           "Alava (Euskadi)",
           "Kuartango, Ribera Alta e Iruña Oka"
          ],
          [
           "Ciudad Real (Castilla-La Mancha)",
           "Alhambra, Membrilla"
          ],
          [
           "Burgos (Castilla y Leon)",
           "Castrojeriz, Vallejera"
          ],
          [
           "Salamanca (Castilla y Leon)",
           "Palacios del Arzobispo, Zamayón"
          ],
          [
           "Asturias",
           "Salas, Valdes, Cudillero"
          ],
          [
           "Asturias",
           "Salas, Valdes, Cudillero "
          ],
          [
           "Navarra",
           "Barasoain"
          ],
          [
           "La Coruna (Galicia)",
           "Porto do Son, Pobra do Caramiñal"
          ],
          [
           "La Coruna (Galicia)",
           "Porto do Son, Pobra do Caramiñal"
          ],
          [
           "Tarragona (Cataluna)",
           "Ascó"
          ],
          [
           "Cuenca (Castilla-La Mancha)",
           "Barchin del Hoyo"
          ],
          [
           "Albacete (Castilla-La Mancha)",
           "Barrax"
          ],
          [
           "Albacete (Castilla-La Mancha)",
           "Barrax"
          ],
          [
           "Palencia (Castilla y Leon)",
           "Becerril de Campos "
          ],
          [
           "Zaragoza (Aragon)",
           "Belchite"
          ],
          [
           "Asturias",
           "Belmonte de Miranda"
          ],
          [
           "Valencia (Comunidad Valenciana)",
           "Enguera"
          ],
          [
           "Valencia (Comunidad Valenciana)",
           "Enguera"
          ],
          [
           "Pontevedra (Galicia)",
           "Fornelos de Montes, Covelo (Pontevedra), Avión (Ourense),"
          ],
          [
           "Valencia (Comunidad Valenciana)",
           "Jarafuel"
          ],
          [
           "Cadiz (Andalucía)",
           "Jeréz de la Frontera"
          ],
          [
           "Albacete (Castilla-La Mancha)",
           "Villa de Ves, Casas del Ves"
          ],
          [
           "Zaragoza (Aragon)",
           "Borja"
          ],
          [
           "Zaragoza (Aragon)",
           "Borja"
          ],
          [
           "Zaragoza (Aragon)",
           "Borja"
          ],
          [
           "Soria (Castilla y Leon)",
           "Bordecorex"
          ],
          [
           "Zaragoza (Aragon)",
           "Borja"
          ],
          [
           "Zaragoza (Aragon)",
           "Borja"
          ],
          [
           "Zaragoza (Aragon)",
           "María de Huerva"
          ],
          [
           "Zaragoza (Aragon)",
           "Borja"
          ],
          [
           "Zaragoza (Aragon)",
           "Borja"
          ],
          [
           "Zaragoza (Aragon)",
           "Mallén"
          ],
          [
           "Albacete (Castilla-La Mancha)",
           "Pinilla"
          ],
          [
           "Burgos (Castilla y Leon)",
           "Villadiego"
          ],
          [
           "Cadiz (Andalucía)",
           "Barbate"
          ],
          [
           "La Coruna (Galicia)",
           "Concello de Valadouro"
          ],
          [
           "Soria (Castilla y Leon)",
           "Arcos de Jalón, Almaluez, Medinaceli "
          ],
          [
           "Burgos (Castilla y Leon)",
           "Monasterio de Rodilla, Galbarros, Briviesca, Santa Olalla de Bureba, Reinoso, Quintanavides"
          ],
          [
           "Asturias",
           null
          ],
          [
           "La Coruna (Galicia)",
           "As Pontes, Muras"
          ],
          [
           "Toledo (Castilla-La Mancha)",
           "Madridejos"
          ],
          [
           "Avila (Castilla y Leon)",
           "San Juan del Olmo, Vadillo de la Sierra "
          ],
          [
           "Albacete (Castilla-La Mancha)",
           "El Bonillo"
          ],
          [
           "Zaragoza (Aragon)",
           "Muel"
          ],
          [
           "Zaragoza (Aragon)",
           "Jaullín "
          ],
          [
           "Albacete (Castilla-La Mancha)",
           "Maranchón"
          ],
          [
           "Logroño (La Rioja)",
           "Robles del Arnedillo"
          ],
          [
           "La Coruna (Galicia)",
           "Camariñas "
          ],
          [
           "La Coruna (Galicia)",
           "Camariñas"
          ],
          [
           "La Coruna (Galicia)",
           "Camariñas"
          ],
          [
           "Castellon (Comunidad Valenciana)",
           "Portell de Morella"
          ],
          [
           "Lugo (Galicia)",
           "Trabada, Riotorto, A Pontenova, Lourenza"
          ],
          [
           "Guadalajara (Castilla-La Mancha)",
           "Hombrados, Pobo de Dueñas"
          ],
          [
           "Cuenca (Castilla-La Mancha)",
           "Olmedilla"
          ],
          [
           "Navarra",
           "Peralta, Funés"
          ],
          [
           "Cuenca (Castilla-La Mancha)",
           "Graja, Campalbo"
          ],
          [
           "Burgos (Castilla y Leon)",
           "Carcedo de Burgos, Revillarruz "
          ],
          [
           "Guadalajara (Castilla-La Mancha)",
           "Campisabalos"
          ],
          [
           "Pontevedra (Galicia)",
           "Forcarei"
          ],
          [
           "Zaragoza (Aragon)",
           "Borja"
          ],
          [
           "Zaragoza (Aragon)",
           "Alfajarín, Villamayor de Gállego"
          ],
          [
           "Soria (Castilla y Leon)",
           "Montejo Tiermes, Retortillo"
          ],
          [
           "Cantabria",
           "Ramales de la Victoria"
          ],
          [
           "Cantabria",
           "Soba "
          ],
          [
           "Guadalajara (Castilla-La Mancha)",
           "Canredondo, Torrecuadradilla"
          ],
          [
           "Sevilla (Andalucía)",
           "Osuna "
          ],
          [
           "Guadalajara (Castilla-La Mancha)",
           "Cantalojas"
          ],
          [
           "Guadalajara (Castilla-La Mancha)",
           "Cantalojas"
          ],
          [
           "Burgos (Castilla y Leon)",
           "Valle de Senado"
          ],
          [
           "Navarra",
           "Caparroso "
          ],
          [
           "Albacete (Castilla-La Mancha)",
           "Albacete, Peñas de San Pedro"
          ],
          [
           "Albacete (Castilla-La Mancha)",
           "Peñas de San Pedro"
          ],
          [
           "Soria (Castilla y Leon)",
           "Medinaceli "
          ],
          [
           "Lugo (Galicia)",
           "Muras, Villalba"
          ],
          [
           "Lugo (Galicia)",
           "As Pontes de García Rodríguez (A Coruña), Xermade (Lugo)"
          ],
          [
           "Albacete (Castilla-La Mancha)",
           "Carcelén"
          ],
          [
           "La Coruna (Galicia)",
           "Melide, Toques"
          ],
          [
           "Asturias",
           "Allande, Villayón"
          ],
          [
           "Lugo (Galicia)",
           "A Pastoriza, Mondonedo"
          ],
          [
           "Soria (Castilla y Leon)",
           "Medinaceli "
          ],
          [
           "Cuenca (Castilla-La Mancha)",
           "Campos del Paraíso"
          ],
          [
           "Palencia (Castilla y Leon)",
           "Astudillo, Pedrosa del Príncipe"
          ],
          [
           "Valladolid (Castilla y Leon)",
           "Tordesillas, Velliza"
          ],
          [
           "Lugo (Galicia)",
           "Guitiriz, Villalba"
          ],
          [
           "Albacete (Castilla-La Mancha)",
           "Bonillo"
          ],
          [
           "Albacete (Castilla-La Mancha)",
           "Romica"
          ],
          [
           "La Coruna (Galicia)",
           "Coristanco, Tordoia"
          ],
          [
           "Soria (Castilla y Leon)",
           "Tejado"
          ],
          [
           "Soria (Castilla y Leon)",
           "Castilfrio"
          ],
          [
           "Cuenca (Castilla-La Mancha)",
           "Pinarejo, Castillo de Garcimuñoz"
          ],
          [
           "La Coruna (Galicia)",
           "As Pontes, Mañón"
          ],
          [
           "Palencia (Castilla y Leon)",
           "Valle de Cerrato,"
          ],
          [
           "Palencia (Castilla y Leon)",
           "Hornillos de Cerrato, Torquemada, Herrera de Valdecañas "
          ],
          [
           "Palencia (Castilla y Leon)",
           "Herrera de Valdecañas, Villahán "
          ],
          [
           "Leon (Castilla y Leon)",
           "Lucillo,Sta,Coloma de Somoza"
          ],
          [
           "Albacete (Castilla-La Mancha)",
           "Pinilla"
          ],
          [
           "Burgos (Castilla y Leon)",
           "Galbarros, Briviesca, Reinoso, Salinillas del Bureba"
          ],
          [
           "Cuenca (Castilla-La Mancha)",
           "Paredes, Alcazar del Rey"
          ],
          [
           "Cadiz (Andalucía)",
           "Vejer de la Frontera"
          ],
          [
           "Zaragoza (Aragon)",
           "Cadrete "
          ],
          [
           "Málaga (Andalucía)",
           "Ardales, Teba "
          ],
          [
           "Valencia (Comunidad Valenciana)",
           "La Yesa, Chelva, Andilla "
          ],
          [
           "Toledo (Castilla-La Mancha)",
           "Almonacid, Nambroca, Villaminaya"
          ],
          [
           "Albacete (Castilla-La Mancha)",
           "Higueruela"
          ],
          [
           "Albacete (Castilla-La Mancha)",
           "Almansa"
          ],
          [
           "Cuenca (Castilla-La Mancha)",
           "Tébar, Atalaya Cañavete"
          ],
          [
           "Sevilla (Andalucía)",
           "Los Corrales, El Saucejo, Almargen "
          ],
          [
           "Málaga (Andalucía)",
           "Campillos, Sierra de Yeguas "
          ],
          [
           "Toledo (Castilla-La Mancha)",
           "Nambroca, Almonacid"
          ],
          [
           "Valencia (Comunidad Valenciana)",
           "Aras de los Olmos"
          ],
          [
           "Albacete (Castilla-La Mancha)",
           "Caudete"
          ],
          [
           "Toledo (Castilla-La Mancha)",
           "Lillo"
          ],
          [
           "Albacete (Castilla-La Mancha)",
           "Pozocañada, Chinchilla del Monte Aragón"
          ],
          [
           "Albacete (Castilla-La Mancha)",
           "Pozocañada, Chinchilla del Monte Aragón"
          ],
          [
           "Soria (Castilla y Leon)",
           "Alcubilla de las Peñas, Medinaceli "
          ],
          [
           "Palencia (Castilla y Leon)",
           "Astudillo"
          ],
          [
           "Palencia (Castilla y Leon)",
           "Astudillo"
          ],
          [
           "Lugo (Galicia)",
           "O Vicedo"
          ],
          [
           "Lugo (Galicia)",
           "Chantada (Lugo), Rodeiro (La Coruña)"
          ],
          [
           "Asturias",
           "Villanueva de Oscos"
          ],
          [
           "Albacete (Castilla-La Mancha)",
           null
          ],
          [
           "Cadiz (Andalucía)",
           "San José del Valle, Jeréz de la Frontera"
          ],
          [
           "Cadiz (Andalucía)",
           "Jeréz de la Frontera"
          ],
          [
           "Cuenca (Castilla-La Mancha)",
           "Olmedilla"
          ],
          [
           "Zaragoza (Aragon)",
           "Grisel"
          ],
          [
           "Zamora (Castilla y Leon)",
           "Lubián"
          ],
          [
           "Guadalajara (Castilla-La Mancha)",
           "Maranchón, Luzón"
          ],
          [
           "Valencia (Comunidad Valenciana)",
           null
          ],
          [
           "Burgos (Castilla y Leon)",
           "Cogollos "
          ],
          [
           "Burgos (Castilla y Leon)",
           "Cogollos "
          ],
          [
           "Tarragona (Cataluna)",
           "El Molar, Torre del Español, La Figuera"
          ],
          [
           "Tarragona (Cataluna)",
           "Batea, Gandesa, Bot, Vilalba dels Arcs"
          ],
          [
           "Lleida (Cataluna)",
           "Almatret"
          ],
          [
           "Avila (Castilla y Leon)",
           "Valdecasa, Narrillos del Rebollar, Balbarda "
          ],
          [
           "Tarragona (Cataluna)",
           "Duesaigües"
          ],
          [
           "Tarragona (Cataluna)",
           "Conesa "
          ],
          [
           "Tarragona (Cataluna)",
           "Conesa, Forés "
          ],
          [
           "Tarragona (Cataluna)",
           "Corbera D´Ebre "
          ],
          [
           "La Coruna (Galicia)",
           "Aranga, Guitiriz"
          ],
          [
           "La Coruna (Galicia)",
           "Mañón, Ortigueira"
          ],
          [
           "La Coruna (Galicia)",
           "Ponteceso"
          ],
          [
           "Burgos (Castilla y Leon)",
           "Ayoluengo"
          ],
          [
           "Cadiz (Andalucía)",
           "Puerto Real"
          ],
          [
           "Cadiz (Andalucía)",
           "Puerto Real"
          ],
          [
           "Cadiz (Andalucía)",
           "Tarifa"
          ],
          [
           "Málaga (Andalucía)",
           "Campillos, Teba "
          ],
          [
           "Lugo (Galicia)",
           "Muras"
          ],
          [
           "La Coruna (Galicia)",
           "Negreira"
          ],
          [
           "La Coruna (Galicia)",
           "Boimorto, Melida, Sobrado, Toques"
          ],
          [
           "La Coruna (Galicia)",
           "Sobrado, Boimorto "
          ],
          [
           "Lugo (Galicia)",
           "As Pontes, Mañón"
          ],
          [
           "La Coruna (Galicia)",
           "Cedeira, Ortigueira"
          ],
          [
           "Lugo (Galicia)",
           "Ourol "
          ],
          [
           "Pontevedra (Galicia)",
           "Concellos de Estrada"
          ],
          [
           "Lugo (Galicia)",
           "Friol, Guitiriz "
          ],
          [
           "Lugo (Galicia)",
           "Friol, Guitiriz"
          ],
          [
           "Ciudad Real (Castilla-La Mancha)",
           "Membrilla, Valdepeñas, San Carlos del Valle, Alhambra"
          ],
          [
           "Palencia (Castilla y Leon)",
           "Cardeñosa de Volpejera, Villamuera de la Cueza, Villanueva de Rebollar "
          ],
          [
           "Avila (Castilla y Leon)",
           "Sta, Maria del Cubillo"
          ],
          [
           "Avila (Castilla y Leon)",
           "Sta, Maria del Cubillo"
          ],
          [
           "Cuenca (Castilla-La Mancha)",
           "San Martín de Boniches"
          ],
          [
           "Cuenca (Castilla-La Mancha)",
           "San Martín de Boniches"
          ],
          [
           "Lugo (Galicia)",
           "Alfoz, Abadin"
          ],
          [
           "Cuenca (Castilla-La Mancha)",
           "Tébar, Atalaya Cañavete"
          ],
          [
           "Palencia (Castilla y Leon)",
           "Ampudia"
          ],
          [
           "Granada (Andalucía)",
           "Loja"
          ],
          [
           "Cuenca (Castilla-La Mancha)",
           "Torrejoncillo del Rey, Huerta de la Obispalía"
          ],
          [
           "Asturias",
           "Salas, Valdes"
          ],
          [
           "Asturias",
           "Salas, Valdes "
          ],
          [
           "La Coruna (Galicia)",
           "Currasy Mazaricos"
          ],
          [
           "Palencia (Castilla y Leon)",
           "Puebla de Valdivia "
          ],
          [
           "Zaragoza (Aragon)",
           "Plasencia de Jalón"
          ],
          [
           "Albacete (Castilla-La Mancha)",
           "Alatoz"
          ],
          [
           "Offshore",
           null
          ],
          [
           "Pontevedra (Galicia)",
           "Melón (Ourense), Covelo, A Cañiza (Pontevedra)"
          ],
          [
           "La Coruna (Galicia)",
           "Camariñas"
          ],
          [
           "Granada (Andalucía)",
           "Huenéja, Dólar"
          ],
          [
           "Granada (Andalucía)",
           "Dólar, Ferreira"
          ],
          [
           "Granada (Andalucía)",
           "Dólar, Ferreira"
          ],
          [
           "Cadiz (Andalucía)",
           "Jeréz de la Frontera"
          ],
          [
           "Palencia (Castilla y Leon)",
           "Magaz de Pisuerga"
          ],
          [
           "Guadalajara (Castilla-La Mancha)",
           "Miedes de Atienza, Bañuelos"
          ],
          [
           "Palencia (Castilla y Leon)",
           "Costrarroleña"
          ],
          [
           "Navarra",
           "Oloriz, Unzué"
          ],
          [
           "Tarragona (Cataluna)",
           "Tortosa"
          ],
          [
           "Cadiz (Andalucía)",
           "Tarifa"
          ],
          [
           "Asturias",
           "Grandas de Salime"
          ],
          [
           "Zaragoza (Aragon)",
           "Pedrola"
          ],
          [
           "Zaragoza (Aragon)",
           "Pedrola, Aragón"
          ],
          [
           "Málaga (Andalucía)",
           "Campillos "
          ],
          [
           "Huesca (Aragon)",
           "Gurrea de Gállego"
          ],
          [
           "Cadiz (Andalucía)",
           "Tarifa"
          ],
          [
           "Zaragoza (Aragon)",
           "Pedrola, Luceni"
          ],
          [
           "Cadiz (Andalucía)",
           "Tarifa"
          ],
          [
           "Cadiz (Andalucía)",
           "Tarifa"
          ],
          [
           "Zaragoza (Aragon)",
           "Mallén, Fréscano"
          ],
          [
           "Asturias",
           "Boal, Castropol"
          ],
          [
           "Burgos (Castilla y Leon)",
           "Valle de Manzanedo"
          ],
          [
           "Almeria (Andalucía)",
           "Serón, Tíjola"
          ],
          [
           "Almeria (Andalucía)",
           "Serón, Tíjola"
          ],
          [
           "Burgos (Castilla y Leon)",
           "Castrojeriz, Pedrosa del Príncipe"
          ],
          [
           "Burgos (Castilla y Leon)",
           "Castrojeriz, Pedrosa del Príncipe "
          ],
          [
           "Palencia (Castilla y Leon)",
           "Pedraza de Campos, Torremormojón "
          ],
          [
           "Soria (Castilla y Leon)",
           "Oncala,Huérteles,S,Pedro Manrique"
          ],
          [
           "Huelva (Andalucía)",
           "Puebla de Guzmán "
          ],
          [
           "Burgos (Castilla y Leon)",
           "Valle de Sedano, los Alto de Dobro"
          ],
          [
           "Burgos (Castilla y Leon)",
           "Valle de Sedano, Los Altos"
          ],
          [
           "Guadalajara (Castilla-La Mancha)",
           "Villaverde del Ducado"
          ],
          [
           "Almeria (Andalucía)",
           "Abrucena, Fiñana "
          ],
          [
           "Granada (Andalucía)",
           "Motril-Gualchos"
          ],
          [
           "Zaragoza (Aragon)",
           "Plasencia de Jalón, Pedrola"
          ],
          [
           "Burgos (Castilla y Leon)",
           "Merindad de Valdeporres "
          ],
          [
           "Burgos (Castilla y Leon)",
           "Merindad de Vadeporres, Valle de Valdebezana "
          ],
          [
           "Palencia (Castilla y Leon)",
           "Hornillos de Cerrato, Torquemada"
          ],
          [
           "Lleida (Cataluna)",
           "Almatret"
          ],
          [
           "Cuenca (Castilla-La Mancha)",
           "Villalba del Rey"
          ],
          [
           "Cuenca (Castilla-La Mancha)",
           "Villalba del Rey"
          ],
          [
           "Zaragoza (Aragon)",
           "Zaragoza"
          ],
          [
           "Cadiz (Andalucía)",
           "Tarifa"
          ],
          [
           "Burgos (Castilla y Leon)",
           "Villaquirán de los Infantes, Villaldemiro, Tamarón, Los Balbases"
          ],
          [
           "Albacete (Castilla-La Mancha)",
           "Romica (El Bonillo, El Ballestero)"
          ],
          [
           "Huelva (Andalucía)",
           "El Granado"
          ],
          [
           "Zamora (Castilla y Leon)",
           "Losacio, Losacino, Carbajales de Alba, Olmillos de Castro"
          ],
          [
           "Avila (Castilla y Leon)",
           "San Juan de la Nava"
          ],
          [
           "Leon (Castilla y Leon)",
           "Brazuelo"
          ],
          [
           "Cadiz (Andalucía)",
           "Puerto Real"
          ],
          [
           "Ciudad Real (Castilla-La Mancha)",
           "Moral de Calatrava"
          ],
          [
           "Albacete (Castilla-La Mancha)",
           "Romica"
          ],
          [
           "Albacete (Castilla-La Mancha)",
           "Alpera "
          ],
          [
           "Tarragona (Cataluna)",
           "Vandellòs i L´Hospitalet de L´Intant"
          ],
          [
           "Valencia (Comunidad Valenciana)",
           "Ayora"
          ],
          [
           "Burgos (Castilla y Leon)",
           "Pedrosa del Príncipe"
          ],
          [
           "Burgos (Castilla y Leon)",
           "Pedrosa del Príncipe, Castrojeriz Astudillo"
          ],
          [
           "Burgos (Castilla y Leon)",
           "Merindad de Río Ubierna "
          ],
          [
           "Burgos (Castilla y Leon)",
           "Carcedo de Burgos, Cardeñadijo "
          ],
          [
           "Cadiz (Andalucía)",
           "Jeréz de la Frontera "
          ],
          [
           "Cadiz (Andalucía)",
           "Tarifa"
          ],
          [
           "Burgos (Castilla y Leon)",
           "Alfoz de Quintanadueñas "
          ],
          [
           "Leon (Castilla y Leon)",
           "Santa Coloma de Somoza"
          ],
          [
           "Cuenca (Castilla-La Mancha)",
           "Villalba del Rey, Tinajas"
          ],
          [
           "Navarra",
           "Zariquiegui, Astráin"
          ],
          [
           "Burgos (Castilla y Leon)",
           "Valladiego, Urbel del Castillo"
          ],
          [
           "Palencia (Castilla y Leon)",
           "Barruelo de Santillán"
          ],
          [
           "Zaragoza (Aragon)",
           "La Muela"
          ],
          [
           "Cadiz (Andalucía)",
           "Los Barrios"
          ],
          [
           "Valladolid (Castilla y Leon)",
           "Castromonte"
          ],
          [
           "Teruel (Aragon)",
           "Cuevas de Almadén"
          ],
          [
           "Soria (Castilla y Leon)",
           "Hinojosa del Campo, Ólvega, Pozalmuro"
          ],
          [
           "Málaga (Andalucía)",
           "Sierra de Yeguas "
          ],
          [
           "Palencia (Castilla y Leon)",
           "Fuentes de Valdepero"
          ],
          [
           "Palencia (Castilla y Leon)",
           "Hontoria de Cerrato"
          ],
          [
           "Leon (Castilla y Leon)",
           "Castropodame, Turienzo Castañero"
          ],
          [
           "Leon (Castilla y Leon)",
           "Castropodame, Turienzo Castañero"
          ],
          [
           "Albacete (Castilla-La Mancha)",
           "Alpera "
          ],
          [
           "Avila (Castilla y Leon)",
           "San Juan del Olmo, Balbarda "
          ],
          [
           "Albacete (Castilla-La Mancha)",
           "Chinchilla de Montearagón "
          ],
          [
           "Cadiz (Andalucía)",
           "Tarifa"
          ],
          [
           "Huelva (Andalucía)",
           "El granado"
          ],
          [
           "Zaragoza (Aragon)",
           "Aguilón"
          ],
          [
           "Huelva (Andalucía)",
           "El Almendro "
          ],
          [
           "Asturias",
           "Villayón"
          ],
          [
           "Zaragoza (Aragon)",
           "Lumpiaque, Rueda de Jalón, Plasencia de Jalón"
          ],
          [
           "Soria (Castilla y Leon)",
           "Borobia, Beratón"
          ],
          [
           "Palencia (Castilla y Leon)",
           "Melgar de Yuso, Villodré, Astudillo"
          ],
          [
           "Cadiz (Andalucía)",
           "Jimena de la Frontera"
          ],
          [
           "Soria (Castilla y Leon)",
           "Cueva de Agreda-Borobia"
          ],
          [
           "Soria (Castilla y Leon)",
           "Olvega Borobia"
          ],
          [
           "Cadiz (Andalucía)",
           "Medina, Sidonia"
          ],
          [
           "Valencia (Comunidad Valenciana)",
           "La Yesa"
          ],
          [
           "Valencia (Comunidad Valenciana)",
           "La Yesa"
          ],
          [
           "Alava (Euskadi)",
           "Onati, Aretxabaleta"
          ],
          [
           "Guipuzkoa (Euskadi)",
           "Onati, Aretxabaleta"
          ],
          [
           "Alava (Euskadi)",
           "Barundia, Donemiliaga"
          ],
          [
           "Palencia (Castilla y Leon)",
           "Hornillos de Cerrato, Baltanás"
          ],
          [
           "Almeria (Andalucía)",
           "Enix"
          ],
          [
           "Zaragoza (Aragon)",
           "Fuendetodos"
          ],
          [
           "Leon (Castilla y Leon)",
           "Mallonseca, Castropodame, T,Bierzo"
          ],
          [
           "Baleares",
           "Menorca "
          ],
          [
           "Guadalajara (Castilla-La Mancha)",
           "Maranchón, Luzón"
          ],
          [
           "Teruel (Aragon)",
           "Escucha"
          ],
          [
           "Logroño (La Rioja)",
           "Villaroya, Quel, Autol"
          ],
          [
           "Leon (Castilla y Leon)",
           "La Espina "
          ],
          [
           "Palencia (Castilla y Leon)",
           "Ampudia "
          ],
          [
           "Navarra",
           null
          ],
          [
           "Navarra",
           "Falces"
          ],
          [
           "La Coruna (Galicia)",
           "Mañón, Ortigueira "
          ],
          [
           "Pontevedra (Galicia)",
           "Rodeiro, Agolada (Pontevedra), Antas de Ulla (Lugo)"
          ],
          [
           "Teruel (Aragon)",
           "Muniesa"
          ],
          [
           "Lugo (Galicia)",
           "Abadín, Mondoñedo, Pastoriza "
          ],
          [
           "Tarragona (Cataluna)",
           "La Fatarella"
          ],
          [
           "Granada (Andalucía)",
           "Ferreira, La Calahorra"
          ],
          [
           "Lugo (Galicia)",
           "Abadín"
          ],
          [
           "Castellon (Comunidad Valenciana)",
           "Castellfort"
          ],
          [
           "Castellon (Comunidad Valenciana)",
           "Castellfort"
          ],
          [
           "Lugo (Galicia)",
           "A Fonsagrada, Castroverde, Baleira, Ribeira de Piquín, Pol"
          ],
          [
           "Pontevedra (Galicia)",
           "A Lama, Fomelos, Covelo"
          ],
          [
           "Pontevedra (Galicia)",
           "A Lama, Fomelos, Covelo"
          ],
          [
           "La Coruna (Galicia)",
           "Santa Comba, Coristanco "
          ],
          [
           "La Coruna (Galicia)",
           "Capelo, San Sadurniño"
          ],
          [
           "Zaragoza (Aragon)",
           "Fréscano"
          ],
          [
           "Zaragoza (Aragon)",
           "Fuendetodos, Villanueva de Huer"
          ],
          [
           "Zaragoza (Aragon)",
           "Fuendetodos, Villanueva de Huer"
          ],
          [
           "Albacete (Castilla-La Mancha)",
           "Romica"
          ],
          [
           "Burgos (Castilla y Leon)",
           "Castellanos de Castro, Sasamón"
          ],
          [
           "Burgos (Castilla y Leon)",
           "Carcedo de Burgos "
          ],
          [
           "Lugo (Galicia)",
           "Cervo,O Valadouro, Foz"
          ],
          [
           "Logroño (La Rioja)",
           "Arnedillo, Robres del Castillo, Ocón"
          ],
          [
           "Logroño (La Rioja)",
           "Arnedillo, Robres del Castillo, Ocón"
          ],
          [
           "Murcia",
           "Yecla, Jumilla"
          ],
          [
           "Lugo (Galicia)",
           "Muras, Xermade, Vilalba"
          ],
          [
           "Sevilla (Andalucía)",
           "Osuna"
          ],
          [
           "Zaragoza (Aragon)",
           "Aguilón, Azuara, Herrera de los Navarros"
          ],
          [
           "Soria (Castilla y Leon)",
           "Ayllón, Montejo de Tiermes"
          ],
          [
           "La Coruna (Galicia)",
           "Porto do Son "
          ],
          [
           "Palencia (Castilla y Leon)",
           "Monzón de Campos"
          ],
          [
           "Zaragoza (Aragon)",
           "Grisel"
          ],
          [
           "Guadalajara (Castilla-La Mancha)",
           "Anquela del Ducado, Selas, Mazarete "
          ],
          [
           "Guadalajara (Castilla-La Mancha)",
           "Anquela del Ducado, Selas, Mazarete "
          ],
          [
           "Zamora (Castilla y Leon)",
           "Lubián"
          ],
          [
           "Zamora (Castilla y Leon)",
           "Lubián "
          ],
          [
           "Albacete (Castilla-La Mancha)",
           "Higueruela"
          ],
          [
           "Guadalajara (Castilla-La Mancha)",
           "Hijes"
          ],
          [
           "Cadiz (Andalucía)",
           "Tarifa"
          ],
          [
           "Cadiz (Andalucía)",
           "Tarifa"
          ],
          [
           "Soria (Castilla y Leon)",
           "Suellacabras"
          ],
          [
           "Soria (Castilla y Leon)",
           "Frechilla Almazán, Baraona, Villasayas"
          ],
          [
           "Soria (Castilla y Leon)",
           "Adradas, Baraona"
          ],
          [
           "Palencia (Castilla y Leon)",
           "Hornillos de Cerrato, Baltanás"
          ],
          [
           "Albacete (Castilla-La Mancha)",
           "Romica"
          ],
          [
           "Granada (Andalucía)",
           "Huenéja"
          ],
          [
           "Navarra",
           "Ibargoiti, Leoz, Ezprogui"
          ],
          [
           "Logroño (La Rioja)",
           "Igea"
          ],
          [
           "Málaga (Andalucía)",
           "Casares"
          ],
          [
           "Ourense (Galicia)",
           "Irixo, Piñor de Cea, Carballiño"
          ],
          [
           "Albacete (Castilla-La Mancha)",
           "Casas de Lázaro"
          ],
          [
           "Navarra",
           "Lumbier, Albar, Ezprogui"
          ],
          [
           "Granada (Andalucía)",
           "Zujar "
          ],
          [
           "Zaragoza (Aragon)",
           "Zaragoza"
          ],
          [
           "Cadiz (Andalucía)",
           "Jeréz de la Frontera "
          ],
          [
           "Soria (Castilla y Leon)",
           "Aldehuelas, Villar del Rio, Suellacabras, Magaña"
          ],
          [
           "Navarra",
           "Fustiñana, Cabanillas, Bardenas Reales"
          ],
          [
           "Navarra",
           "Fustiñana, Cabanillas, Bardenas Reales"
          ],
          [
           "Asturias",
           "Villanueva de Oscos"
          ],
          [
           "Burgos (Castilla y Leon)",
           "Monasterio de Rodilla, Valle de las Navas"
          ],
          [
           "Albacete (Castilla-La Mancha)",
           "Romica"
          ],
          [
           "Valencia (Comunidad Valenciana)",
           "Buñol"
          ],
          [
           "Valencia (Comunidad Valenciana)",
           "Buñol"
          ],
          [
           "Valencia (Comunidad Valenciana)",
           "Buñol"
          ],
          [
           "Burgos (Castilla y Leon)",
           "Huérmeces, Villadiego "
          ],
          [
           "Navarra",
           "Enériz"
          ],
          [
           "Burgos (Castilla y Leon)",
           "Montorio "
          ],
          [
           "Málaga (Andalucía)",
           "Ardales, Teba"
          ],
          [
           "Navarra",
           "Pueyo"
          ],
          [
           "Zaragoza (Aragon)",
           "La Muela"
          ],
          [
           "Cadiz (Andalucía)",
           "Puerto Real"
          ],
          [
           "Navarra",
           "Olite "
          ],
          [
           "Lugo (Galicia)",
           "Abadín, Vilalba"
          ],
          [
           "Almeria (Andalucía)",
           "Serón, Tíjola"
          ],
          [
           "Almeria (Andalucía)",
           "Serón"
          ],
          [
           "Tarragona (Cataluna)",
           "El Perelló "
          ],
          [
           "Burgos (Castilla y Leon)",
           "Merindad de Valdeporres, Valle de Valdebezana "
          ],
          [
           "Palencia (Castilla y Leon)",
           "Merindad de Valdeporres, Valle de Valdebezana "
          ],
          [
           "Albacete (Castilla-La Mancha)",
           "Petrola, Chinchilla de MonteAragón"
          ],
          [
           "Málaga (Andalucía)",
           "Campillos "
          ],
          [
           "Leon (Castilla y Leon)",
           "Sahagún "
          ],
          [
           "Albacete (Castilla-La Mancha)",
           "La Roda"
          ],
          [
           "Palencia (Castilla y Leon)",
           "Ampudia "
          ],
          [
           "Palencia (Castilla y Leon)",
           "Ampudia "
          ],
          [
           "Málaga (Andalucía)",
           "Cañete la Real "
          ],
          [
           "Guadalajara (Castilla-La Mancha)",
           "Cantalojas"
          ],
          [
           "Zaragoza (Aragon)",
           "Mallén, Fréscano"
          ],
          [
           "Cadiz (Andalucía)",
           "Vejer de la Frontera"
          ],
          [
           "Navarra",
           "Olite"
          ],
          [
           "Albacete (Castilla-La Mancha)",
           "Alcadozo, Peñas de San Pedro"
          ],
          [
           "Zamora (Castilla y Leon)",
           "Lubián, Hermisende"
          ],
          [
           "Cadiz (Andalucía)",
           "Tarifa"
          ],
          [
           "Cadiz (Andalucía)",
           "Tarifa"
          ],
          [
           "Burgos (Castilla y Leon)",
           "Huérmeces"
          ],
          [
           "Barcelona (Cataluna)",
           null
          ],
          [
           "Teruel (Aragon)",
           "Aliaga"
          ],
          [
           "Burgos (Castilla y Leon)",
           "La Riba de Valdelucio"
          ],
          [
           "Burgos (Castilla y Leon)",
           "La Riba de Valdelucio "
          ],
          [
           "Burgos (Castilla y Leon)",
           "La Riba de Valdelucio "
          ],
          [
           "Albacete (Castilla-La Mancha)",
           "Romica"
          ],
          [
           "Burgos (Castilla y Leon)",
           "Merindad, Valdeporres, Valle Valdebezana"
          ],
          [
           "Leon (Castilla y Leon)",
           "Lucillo"
          ],
          [
           "Cadiz (Andalucía)",
           "Tarifa"
          ],
          [
           "Burgos (Castilla y Leon)",
           "Los Altos"
          ],
          [
           "Zaragoza (Aragon)",
           "La Muela"
          ],
          [
           "Zaragoza (Aragon)",
           "La Muela"
          ],
          [
           "Zaragoza (Aragon)",
           "La Muela"
          ],
          [
           "Palencia (Castilla y Leon)",
           "Ampudia"
          ],
          [
           "Málaga (Andalucía)",
           "Cañete la Real "
          ],
          [
           "Albacete (Castilla-La Mancha)",
           "La Roda"
          ],
          [
           "Almeria (Andalucía)",
           "Turrillas, Lucainena de las Torres "
          ],
          [
           "Burgos (Castilla y Leon)",
           "Merindad Valdeporres, Merindad Sotoscueva"
          ],
          [
           "Zaragoza (Aragon)",
           "La Muela"
          ],
          [
           "Zaragoza (Aragon)",
           "La Muela"
          ],
          [
           "Zaragoza (Aragon)",
           "La Muela"
          ],
          [
           "Zaragoza (Aragon)",
           "La Muela"
          ],
          [
           "Zaragoza (Aragon)",
           "La Muela"
          ],
          [
           "Toledo (Castilla-La Mancha)",
           "Villarubia de Santiago"
          ],
          [
           "Toledo (Castilla-La Mancha)",
           "Villarubia de Santiago"
          ],
          [
           "Cadiz (Andalucía)",
           "Jeréz de la Frontera "
          ],
          [
           "Huelva (Andalucía)",
           "El Almendro "
          ],
          [
           "Cadiz (Andalucía)",
           "Tarifa"
          ],
          [
           "Palencia (Castilla y Leon)",
           "Aguilar del Campoo"
          ],
          [
           "Albacete (Castilla-La Mancha)",
           "Villavaliente"
          ],
          [
           "Zaragoza (Aragon)",
           "Rueda de Jalón"
          ],
          [
           "Burgos (Castilla y Leon)",
           "Espinosa de los Monteros"
          ],
          [
           "Valencia (Comunidad Valenciana)",
           "Ayora"
          ],
          [
           "Navarra",
           "Tafalla, Artajona "
          ],
          [
           "Huesca (Aragon)",
           "Gurrea de Gallego, Alcalá de Gurrea"
          ],
          [
           "Cadiz (Andalucía)",
           "Tarifa"
          ],
          [
           "Murcia",
           "Jumilla"
          ],
          [
           "Burgos (Castilla y Leon)",
           "Merindad de Valdivieso"
          ],
          [
           "Burgos (Castilla y Leon)",
           "Merindad de Valdivieso"
          ],
          [
           "Cadiz (Andalucía)",
           "Tarifa"
          ],
          [
           "Teruel (Aragon)",
           "Utrillas, Pancrudo, Martín del Río"
          ],
          [
           "Teruel (Aragon)",
           "Utrillas, Pancrudo, Martín del Río"
          ],
          [
           "Murcia",
           "La Unión"
          ],
          [
           "Sevilla (Andalucía)",
           "Osuna"
          ],
          [
           "Zamora (Castilla y Leon)",
           "Monfarracinos "
          ],
          [
           "Zamora (Castilla y Leon)",
           "Monfarracinos "
          ],
          [
           "Cadiz (Andalucía)",
           "Chiclana de la Frontera "
          ],
          [
           "Burgos (Castilla y Leon)",
           "Los Balbases, Castrojeriz, Vallegera"
          ],
          [
           "Lugo (Galicia)",
           "Abadín"
          ],
          [
           "Zamora (Castilla y Leon)",
           "Villaferrueña, Arrabalde"
          ],
          [
           "Zamora (Castilla y Leon)",
           "Villaferrueña, Arrabalde, Villagería, Alcubilla"
          ],
          [
           "Albacete (Castilla-La Mancha)",
           "Bonillo, Villa Robledo"
          ],
          [
           "Logroño (La Rioja)",
           "Munilla, Hornillos de Cameros, Ajamil"
          ],
          [
           "Soria (Castilla y Leon)",
           "Aldehuelas, Vizmanos, Arévalo de la Sierra, La Poveda, Sta, Cruz Yanguas"
          ],
          [
           "Málaga (Andalucía)",
           "Campillos, Tella"
          ],
          [
           "Valencia (Comunidad Valenciana)",
           "Ayora"
          ],
          [
           "Huelva (Andalucía)",
           "Puebla de Guzmán "
          ],
          [
           "Palencia (Castilla y Leon)",
           "Monzón de Campos"
          ],
          [
           "Burgos (Castilla y Leon)",
           "Carcedo de Burgos "
          ],
          [
           "Zaragoza (Aragon)",
           "Gurrea de Gallego, Alcalá de Gurrea"
          ],
          [
           "Albacete (Castilla-La Mancha)",
           "Pinilla"
          ],
          [
           "Navarra",
           "Azuelo"
          ],
          [
           "Granada (Andalucía)",
           "Lanjarón, El pinar"
          ],
          [
           "Almeria (Andalucía)",
           "Abrucena "
          ],
          [
           "Cadiz (Andalucía)",
           "Medina, Sidonia "
          ],
          [
           "Cadiz (Andalucía)",
           "Medina, Sidonia"
          ],
          [
           "Valladolid (Castilla y Leon)",
           "Castromonte"
          ],
          [
           "Burgos (Castilla y Leon)",
           "Valle de Sedano"
          ],
          [
           "Almeria (Andalucía)",
           "Nacimiento "
          ],
          [
           "Palencia (Castilla y Leon)",
           "Cardeñosa de Volpejera, Paredes de Nava"
          ],
          [
           "Valladolid (Castilla y Leon)",
           "Medina del Campo"
          ],
          [
           "Cadiz (Andalucía)",
           "Medina-Sidonia "
          ],
          [
           "Burgos (Castilla y Leon)",
           "Valle de Santibáñez, Merindad de Río Ubierna "
          ],
          [
           "Burgos (Castilla y Leon)",
           "Valle de Santibáñez, Merindad de Río Ubierna "
          ],
          [
           "Soria (Castilla y Leon)",
           "Arcos de Jalón"
          ],
          [
           "Lugo (Galicia)",
           "Muras"
          ],
          [
           "Granada (Andalucía)",
           "Lecrín "
          ],
          [
           "Navarra",
           "Beruete, Leitza"
          ],
          [
           "Navarra",
           "Leoz"
          ],
          [
           "Navarra",
           "Lerga "
          ],
          [
           "Tarragona (Cataluna)",
           "El Perelló"
          ],
          [
           "Tarragona (Cataluna)",
           "El Perelló"
          ],
          [
           "Tarragona (Cataluna)",
           "Vilalba dels Arcs"
          ],
          [
           "Tarragona (Cataluna)",
           "Passanant, Vallbora de Les Mongues, Espuga de Francoli"
          ],
          [
           "Tarragona (Cataluna)",
           "Passanat"
          ],
          [
           "Lleida (Cataluna)",
           "La Granadella, Bellaguarda"
          ],
          [
           "Lugo (Galicia)",
           "Ourol, O Valadouro"
          ],
          [
           "Cadiz (Andalucía)",
           "Tarifa"
          ],
          [
           "Albacete (Castilla-La Mancha)",
           "Lezuza "
          ],
          [
           "Burgos (Castilla y Leon)",
           "Quintanavides, Castil de Peones"
          ],
          [
           "Málaga (Andalucía)",
           "Almargen, Teba "
          ],
          [
           "Burgos (Castilla y Leon)",
           "Pedrosa del Río Urbel "
          ],
          [
           "Cadiz (Andalucía)",
           "Tarifa"
          ],
          [
           "Almeria (Andalucía)",
           "Nacimiento, Las Tres Villas "
          ],
          [
           "Cadiz (Andalucía)",
           "Alcalá de los Gazules"
          ],
          [
           "Granada (Andalucía)",
           "Albuñuelas"
          ],
          [
           "Cadiz (Andalucía)",
           "Vejer de la Frontera"
          ],
          [
           "Cadiz (Andalucía)",
           "Vejer de la Frontera"
          ],
          [
           "Guadalajara (Castilla-La Mancha)",
           "Tartanedo"
          ],
          [
           "Albacete (Castilla-La Mancha)",
           "Albacete"
          ],
          [
           "Albacete (Castilla-La Mancha)",
           "Albacete "
          ],
          [
           "Cadiz (Andalucía)",
           "Vejer de la frontera"
          ],
          [
           "Granada (Andalucía)",
           "Lecrín "
          ],
          [
           "Granada (Andalucía)",
           "Lecrín "
          ],
          [
           "Lugo (Galicia)",
           "Xermade, Vilalba, Muras"
          ],
          [
           "Navarra",
           "Lodosa"
          ],
          [
           "Cuenca (Castilla-La Mancha)",
           "Tébar"
          ],
          [
           "Cadiz (Andalucía)",
           "Medina, Sidonia"
          ],
          [
           "Palencia (Castilla y Leon)",
           "Hornillos de Cerrato, Baltanás"
          ],
          [
           "Málaga (Andalucía)",
           "Campillos "
          ],
          [
           "Soria (Castilla y Leon)",
           "Almazán, Barca, Velamazán"
          ],
          [
           "Zaragoza (Aragon)",
           "Rueda de Jalón"
          ],
          [
           "Burgos (Castilla y Leon)",
           "Espinosa de los Monteros"
          ],
          [
           "Navarra",
           "Unzué"
          ],
          [
           "Burgos (Castilla y Leon)",
           "Castrojeriz, Villasandino, Sasamon "
          ],
          [
           "Salamanca (Castilla y Leon)",
           "Sorihuela "
          ],
          [
           "Cadiz (Andalucía)",
           "Vejer de la Frontera"
          ],
          [
           "Cadiz (Andalucía)",
           "San José del Valle, Jeréz de la Frontera "
          ],
          [
           "Almeria (Andalucía)",
           "Abla "
          ],
          [
           "Zaragoza (Aragon)",
           "Zaragoza, Cadrete"
          ],
          [
           "Cadiz (Andalucía)",
           "Tarifa"
          ],
          [
           "Huelva (Andalucía)",
           "San Silvestre de Gúzman "
          ],
          [
           "Burgos (Castilla y Leon)",
           "Cogollos, Hontoria de la Cantera, Revillarruz"
          ],
          [
           "Málaga (Andalucía)",
           "Casares"
          ],
          [
           "Málaga (Andalucía)",
           "Almargen, El Saucejo"
          ],
          [
           "Granada (Andalucía)",
           "Baza, Zújar"
          ],
          [
           "Albacete (Castilla-La Mancha)",
           "Fuente Alamo"
          ],
          [
           "Cadiz (Andalucía)",
           "Tarifa"
          ],
          [
           "Granada (Andalucía)",
           "Loja"
          ],
          [
           "Zaragoza (Aragon)",
           "Rueda de Jalón"
          ],
          [
           "Burgos (Castilla y Leon)",
           "Los Balbases, Castrojeriz"
          ],
          [
           "Valencia (Comunidad Valenciana)",
           "Ayora "
          ],
          [
           "Zamora (Castilla y Leon)",
           "Lubián"
          ],
          [
           "Zamora (Castilla y Leon)",
           "Lubián"
          ],
          [
           "Leon (Castilla y Leon)",
           "Lucillo"
          ],
          [
           "Soria (Castilla y Leon)",
           "Trévago, Fuentestrún, Valdegeña, Matalebreras, Villar del Campo"
          ],
          [
           "Guadalajara (Castilla-La Mancha)",
           "Maranchón, Luzón"
          ],
          [
           "Zaragoza (Aragon)",
           "Magallón"
          ],
          [
           "Soria (Castilla y Leon)",
           "Oncala"
          ],
          [
           "Palencia (Castilla y Leon)",
           "Palencia, Magaz"
          ],
          [
           "Huelva (Andalucía)",
           "Puebla de Guzmán, El Almendro "
          ],
          [
           "Albacete (Castilla-La Mancha)",
           "Masegoso"
          ],
          [
           "Albacete (Castilla-La Mancha)",
           "Penascosa, Masegoso"
          ],
          [
           "Albacete (Castilla-La Mancha)",
           "Penascosa, Masegoso"
          ],
          [
           "Ciudad Real (Castilla-La Mancha)",
           "Fuente del Fresno, Los Cortijos"
          ],
          [
           "Ciudad Real (Castilla-La Mancha)",
           "Fuente del Fresno, Los Cortijos"
          ],
          [
           "Albacete (Castilla-La Mancha)",
           "Higueruela"
          ],
          [
           "Zaragoza (Aragon)",
           "Mallén"
          ],
          [
           "La Coruna (Galicia)",
           "Malpica de Bergantiños"
          ],
          [
           "La Coruna (Galicia)",
           "Malpica de Bergantiños"
          ],
          [
           "Granada (Andalucía)",
           "Padul"
          ],
          [
           "Castellon (Comunidad Valenciana)",
           "Olocau del Rey"
          ],
          [
           "Guadalajara (Castilla-La Mancha)",
           "Maranchón"
          ],
          [
           "Guadalajara (Castilla-La Mancha)",
           "Maranchón"
          ],
          [
           "Guadalajara (Castilla-La Mancha)",
           "Maranchón, Luzón"
          ],
          [
           "Lugo (Galicia)",
           "Ourol"
          ],
          [
           "Burgos (Castilla y Leon)",
           "Pedrosa del Río Urbel "
          ],
          [
           "Tarragona (Cataluna)",
           "Duesaigües i Pradell de la Teixeta"
          ],
          [
           "Pontevedra (Galicia)",
           "Forcarei, Silleda"
          ],
          [
           "Salamanca (Castilla y Leon)",
           "Garcihernández "
          ],
          [
           "Cuenca (Castilla-La Mancha)",
           "Olmedilla"
          ],
          [
           "Castellon (Comunidad Valenciana)",
           "Barracas, El Toro"
          ],
          [
           "Málaga (Andalucía)",
           "Campillos "
          ],
          [
           "Cáceres (Extremadura)",
           "Plasencia"
          ],
          [
           "Albacete (Castilla-La Mancha)",
           "Lezuza "
          ],
          [
           "Lugo (Galicia)",
           "Vimianzo"
          ],
          [
           "Albacete (Castilla-La Mancha)",
           "Peñas de San Pedro"
          ],
          [
           "Zaragoza (Aragon)",
           "Borja"
          ],
          [
           "Zaragoza (Aragon)",
           "Borja"
          ],
          [
           "Burgos (Castilla y Leon)",
           "Monasterio de Rodilla"
          ],
          [
           "Navarra",
           "Falces"
          ],
          [
           "Lugo (Galicia)",
           "A Fonsagrada, Castroverde, Baleira, Ribeira de Piquín, Pol"
          ],
          [
           "Lleida (Cataluna)",
           "La Granadella "
          ],
          [
           "Lugo (Galicia)",
           "Mondoñedo "
          ],
          [
           "Teruel (Aragon)",
           "Monforte de Moyuela, Loscos"
          ],
          [
           "Zaragoza (Aragon)",
           "Luna, Sierra de Luna, Castejón de Valdejasa"
          ],
          [
           "Zaragoza (Aragon)",
           "Luna, Sierra de Luna"
          ],
          [
           "Zaragoza (Aragon)",
           "Luna"
          ],
          [
           "Zaragoza (Aragon)",
           "Las Pedrosas"
          ],
          [
           "Lugo (Galicia)",
           "Abadín,Vilalba"
          ],
          [
           "Zamora (Castilla y Leon)",
           "Montamarta, Palacios del Pan, Andavías "
          ],
          [
           "Lleida (Cataluna)",
           "Talavera (Lleida), Llorat (Tarragona) "
          ],
          [
           "Lleida (Cataluna)",
           "Talavera (Lleida), Llorat, Santa Coloma de Queralt (Tarragona) "
          ],
          [
           "Pontevedra (Galicia)",
           "Cuntis, A Estrada "
          ],
          [
           "Pontevedra (Galicia)",
           "Rodeiro"
          ],
          [
           "Pontevedra (Galicia)",
           "Lalín, Vila de Cruces"
          ],
          [
           "La Coruna (Galicia)",
           "Ponteceso"
          ],
          [
           "La Coruna (Galicia)",
           "As Somozas"
          ],
          [
           "Palencia (Castilla y Leon)",
           "Monzón de Campos"
          ],
          [
           "Pontevedra (Galicia)",
           "A Lama"
          ],
          [
           "Huelva (Andalucía)",
           "Ayamonte, Villablanca"
          ],
          [
           "Cuenca (Castilla-La Mancha)",
           "Mira, Aliaguilla"
          ],
          [
           "La Coruna (Galicia)",
           "Ortigueira "
          ],
          [
           "La Coruna (Galicia)",
           "Vimianzo"
          ],
          [
           "Pontevedra (Galicia)",
           "A Lama, Forcarei, Cotobade"
          ],
          [
           "Pontevedra (Galicia)",
           "A Lama, Forcarei, Cotobade"
          ],
          [
           "La Coruna (Galicia)",
           "Vimianzo"
          ],
          [
           "La Coruna (Galicia)",
           "Lousame, Rois, Dodro, Rianxo"
          ],
          [
           "Cadiz (Andalucía)",
           "Tarifa"
          ],
          [
           "Burgos (Castilla y Leon)",
           "Alfoz de Bricia"
          ],
          [
           "Lugo (Galicia)",
           "Alfoz, Abadin"
          ],
          [
           "Lugo (Galicia)",
           "Abadín"
          ],
          [
           "Zaragoza (Aragon)",
           "Pedrola"
          ],
          [
           "Lugo (Galicia)",
           "Láncara"
          ],
          [
           "Navarra",
           "Tudela"
          ],
          [
           "Navarra",
           "Tudela"
          ],
          [
           "Burgos (Castilla y Leon)",
           "Merindad de Montija"
          ],
          [
           "Lugo (Galicia)",
           "Abadín"
          ],
          [
           "Pontevedra (Galicia)",
           "A Cañiza, Arbo, As Neves"
          ],
          [
           "Soria (Castilla y Leon)",
           "Morón de Almazán, Adradas"
          ],
          [
           "Albacete (Castilla-La Mancha)",
           "Hoya Gonzalo"
          ],
          [
           "Cadiz (Andalucía)",
           "Vejer de la Frontera "
          ],
          [
           "Cuenca (Castilla-La Mancha)",
           "Motilla Del Palancar"
          ],
          [
           "Cuenca (Castilla-La Mancha)",
           null
          ],
          [
           "Tarragona (Cataluna)",
           "Caseres "
          ],
          [
           "Tarragona (Cataluna)",
           "Vall de la Conilla "
          ],
          [
           "Zaragoza (Aragon)",
           "Muel"
          ],
          [
           "Albacete (Castilla-La Mancha)",
           "Corralrubio, Chinchilla de Montearagón"
          ],
          [
           "Cuenca (Castilla-La Mancha)",
           "Alcalá de la Vega, Algarra, Fuentelespino de Moya"
          ],
          [
           "Valencia (Comunidad Valenciana)",
           "Aras de los Olmos"
          ],
          [
           "Castellon (Comunidad Valenciana)",
           "Olocau del Rey, Todolella"
          ],
          [
           "Albacete (Castilla-La Mancha)",
           "Alpera"
          ],
          [
           "Cuenca (Castilla-La Mancha)",
           "Sisante, Vara del Rey, Atalaya"
          ],
          [
           "Albacete (Castilla-La Mancha)",
           "Munera"
          ],
          [
           "Albacete (Castilla-La Mancha)",
           "Munera"
          ],
          [
           "Teruel (Aragon)",
           "Muniesa"
          ],
          [
           "Logroño (La Rioja)",
           "Munilla, Zarzosa, Robres del Castillo, Hornillos de Cameros, Arnedillo"
          ],
          [
           "Logroño (La Rioja)",
           "Hornillos, Munilla, Zarzosa"
          ],
          [
           "Lugo (Galicia)",
           "Muras, Ourol"
          ],
          [
           "Lugo (Galicia)",
           "Muras, Ourol"
          ],
          [
           "La Coruna (Galicia)",
           "Muxía"
          ],
          [
           "La Coruna (Galicia)",
           "Muxía"
          ],
          [
           "Almeria (Andalucía)",
           "Nacimiento"
          ],
          [
           "Avila (Castilla y Leon)",
           "Las Navas del Marqués"
          ],
          [
           "Avila (Castilla y Leon)",
           "Las Navas del Marqués"
          ],
          [
           "Lugo (Galicia)",
           "Abadin, A Pastoriza"
          ],
          [
           "Zamora (Castilla y Leon)",
           "Requejo, Pedralba de la Pradería"
          ],
          [
           "Ourense (Galicia)",
           "Bande, Verea "
          ],
          [
           "Lugo (Galicia)",
           "Muros, Valadouro"
          ],
          [
           "La Coruna (Galicia)",
           "Valdoviño, Narón"
          ],
          [
           "La Coruna (Galicia)",
           "Vimianzo"
          ],
          [
           "Lugo (Galicia)",
           "Ourol, Muras"
          ],
          [
           "Vizcaya (Euskadi)",
           "Mallabia, Berriz"
          ],
          [
           "Avila (Castilla y Leon)",
           "Ojos Albos"
          ],
          [
           "Soria (Castilla y Leon)",
           "Oncala"
          ],
          [
           "La Coruna (Galicia)",
           "Cedeira"
          ],
          [
           "Burgos (Castilla y Leon)",
           "Los Altos"
          ],
          [
           "Lugo (Galicia)",
           "Ourol"
          ],
          [
           "La Coruna (Galicia)",
           "Sierra de Outes"
          ],
          [
           "Zamora (Castilla y Leon)",
           "Padornelo, Aciberos"
          ],
          [
           "Zamora (Castilla y Leon)",
           "Lubián "
          ],
          [
           "La Coruna (Galicia)",
           "Padrón"
          ],
          [
           "Granada (Andalucía)",
           "Padul "
          ],
          [
           "Sevilla (Andalucía)",
           "Écija"
          ],
          [
           "Burgos (Castilla y Leon)",
           "Poza de la Sal"
          ],
          [
           "Burgos (Castilla y Leon)",
           "Poza de la Sal "
          ],
          [
           "Burgos (Castilla y Leon)",
           "Poza de la Sal"
          ],
          [
           "Burgos (Castilla y Leon)",
           "Valle de Santibáñez, Huérmeces "
          ],
          [
           "Palencia (Castilla y Leon)",
           "Hornillos de Cerrato, Baltanás"
          ],
          [
           "Lleida (Cataluna)",
           "Almatret "
          ],
          [
           "Soria (Castilla y Leon)",
           "Beltejar, Medinaceli"
          ],
          [
           "Granada (Andalucía)",
           "Padul"
          ],
          [
           "Granada (Andalucía)",
           "Huéneja"
          ],
          [
           "Cantabria",
           "Reinosa"
          ],
          [
           "Cadiz (Andalucía)",
           "Tarifa"
          ],
          [
           "Lugo (Galicia)",
           "Arteixo"
          ],
          [
           "La Coruna (Galicia)",
           "Mazaricos, Muros"
          ],
          [
           "La Coruna (Galicia)",
           "Muros, Carnota"
          ],
          [
           "Tarragona (Cataluna)",
           "Tortosa"
          ],
          [
           "Lugo (Galicia)",
           "Muras, Ourol"
          ],
          [
           "La Coruna (Galicia)",
           "Muros"
          ],
          [
           "La Coruna (Galicia)",
           "Muros"
          ],
          [
           "Cadiz (Andalucía)",
           "Tarifa"
          ],
          [
           "Cadiz (Andalucía)",
           "Tarifa"
          ],
          [
           "Cadiz (Andalucía)",
           "Tarifa"
          ],
          [
           "Burgos (Castilla y Leon)",
           "Merindad de Valdivieso "
          ],
          [
           "Burgos (Castilla y Leon)",
           "Los Altos"
          ],
          [
           "Lugo (Galicia)",
           "Friol, Palas de Rei"
          ],
          [
           "Navarra",
           "Tafalla "
          ],
          [
           "Navarra",
           "Leoz"
          ],
          [
           "Navarra",
           "Leoz, Tafalla "
          ],
          [
           "Ourense (Galicia)",
           "Chandrexa de Queixa"
          ],
          [
           "Ourense (Galicia)",
           "Chandrexa de Queixa"
          ],
          [
           "La Coruna (Galicia)",
           "As Pontes, Mañón"
          ],
          [
           "Asturias",
           "Las Regueras, Candamo e Illas"
          ],
          [
           "Leon (Castilla y Leon)",
           "Torre del Bierzo, Villagatón e Igüeña "
          ],
          [
           "Palencia (Castilla y Leon)",
           "Aguilar de Campo"
          ],
          [
           "La Coruna (Galicia)",
           "Camariñas"
          ],
          [
           "La Coruna (Galicia)",
           "Laxe"
          ],
          [
           "La Coruna (Galicia)",
           "Laracha"
          ],
          [
           "Lugo (Galicia)",
           "Muras, Ourol"
          ],
          [
           "Guadalajara (Castilla-La Mancha)",
           "Tartanedo "
          ],
          [
           "Guadalajara (Castilla-La Mancha)",
           "Tartanedo, Fuente Elsaz "
          ],
          [
           "Lugo (Galicia)",
           "Muras, Ourol"
          ],
          [
           "Palencia (Castilla y Leon)",
           "Aguilar del Campoo"
          ],
          [
           "Zamora (Castilla y Leon)",
           "Ferreruela"
          ],
          [
           "Zamora (Castilla y Leon)",
           "Santa Eufemia del Barco "
          ],
          [
           "Lugo (Galicia)",
           "Viveiro, O Vicedo, Ourol"
          ],
          [
           "Lugo (Galicia)",
           "O Vicedo"
          ],
          [
           "Valladolid (Castilla y Leon)",
           "La Mudarra, Castromonte, Peñaflor de Hornija"
          ],
          [
           "Valladolid (Castilla y Leon)",
           "Peñaflor de Hornija"
          ],
          [
           "Valencia (Comunidad Valenciana)",
           "Andilla"
          ],
          [
           "Valencia (Comunidad Valenciana)",
           "Andilla, Chelva, Calles"
          ],
          [
           "Lugo (Galicia)",
           "Carballedo (Lugo), Rodeiro (Pontevedra)"
          ],
          [
           "Asturias",
           "Boal"
          ],
          [
           "La Coruna (Galicia)",
           "Cerceda"
          ],
          [
           "Cadiz (Andalucía)",
           "Tarifa"
          ],
          [
           "Guadalajara (Castilla-La Mancha)",
           "Milmarcos, Fuente Elsaz "
          ],
          [
           "Cuenca (Castilla-La Mancha)",
           "Villar del Humo, Henarejos"
          ],
          [
           "Asturias",
           "Tineo"
          ],
          [
           "Segovia (Castilla y Leon)",
           "Aldeanueva de la Serrezuela, Navares de Enmedio, Navares de las Cuevas, Pradales"
          ],
          [
           "Castellon (Comunidad Valenciana)",
           "Portell de Morella"
          ],
          [
           "Zaragoza (Aragon)",
           "La Muela"
          ],
          [
           "Zaragoza (Aragon)",
           "Cadrete, María"
          ],
          [
           "Zaragoza (Aragon)",
           "María de Huerva"
          ],
          [
           "Zaragoza (Aragon)",
           "La Muela"
          ],
          [
           "Zaragoza (Aragon)",
           "Tauste, Pradilla de Ebro"
          ],
          [
           "Palencia (Castilla y Leon)",
           "Cerrato"
          ],
          [
           "La Coruna (Galicia)",
           "Pobra do Caramiñal"
          ],
          [
           "La Coruna (Galicia)",
           "Arteixo"
          ],
          [
           "La Coruna (Galicia)",
           "Dumbría"
          ],
          [
           "Albacete (Castilla-La Mancha)",
           "Romica"
          ],
          [
           "Soria (Castilla y Leon)",
           "Fuentelsaz de Soria, Almarza"
          ],
          [
           "La Coruna (Galicia)",
           "Porto do Son"
          ],
          [
           "Lugo (Galicia)",
           "Pontenova, A Pastoriza, Riotorto "
          ],
          [
           "Soria (Castilla y Leon)",
           "Pozalmuro"
          ],
          [
           "Albacete (Castilla-La Mancha)",
           "Pozocañada"
          ],
          [
           "Logroño (La Rioja)",
           "Préjano, Enciso"
          ],
          [
           "Zaragoza (Aragon)",
           "Alfajarín, Villamayor de Gállego"
          ],
          [
           "Lugo (Galicia)",
           "Villalba"
          ],
          [
           "Avila (Castilla y Leon)",
           "San Juan de la Nava"
          ],
          [
           "Málaga (Andalucía)",
           "Ardales, Carratraca "
          ],
          [
           "Teruel (Aragon)",
           "Puerto de Escandón"
          ],
          [
           "Cadiz (Andalucía)",
           "Tarifa"
          ],
          [
           "Tarragona (Cataluna)",
           "Pujalt, Calonge de Segarra "
          ],
          [
           "Lugo (Galicia)",
           "A Fonsagrada, Castroverde, Baleira, Ribeira de Piquín, Pol"
          ],
          [
           "Vizcaya (Euskadi)",
           "Puerto de Bilbao, Zierbena"
          ],
          [
           "Zaragoza (Aragon)",
           "Remolinos"
          ],
          [
           "Zaragoza (Aragon)",
           "Borja, Mallén"
          ],
          [
           "Burgos (Castilla y Leon)",
           "Merindad de Río Ubierna "
          ],
          [
           "Soria (Castilla y Leon)",
           "Merindad de Río Ubierna"
          ],
          [
           "Burgos (Castilla y Leon)",
           "Merindad de rio Ubierna"
          ],
          [
           "Huesca (Aragon)",
           "Sierra de Luna"
          ],
          [
           "Soria (Castilla y Leon)",
           "Adrada, Alcubilla de las Peñas "
          ],
          [
           "Soria (Castilla y Leon)",
           "Adrada, Alcubilla de las Peñas "
          ],
          [
           "Cadiz (Andalucía)",
           "Medina, Sidonia"
          ],
          [
           "Logroño (La Rioja)",
           "Pradejón, Calahorra"
          ],
          [
           "Lugo (Galicia)",
           "Abadín"
          ],
          [
           "Castellon (Comunidad Valenciana)",
           "Forcall, Todolella"
          ],
          [
           "La Coruna (Galicia)",
           "As Somozas"
          ],
          [
           "Murcia",
           "Jumilla"
          ],
          [
           "Valencia (Comunidad Valenciana)",
           "Ayora"
          ],
          [
           "Cadiz (Andalucía)",
           "Tarifa"
          ],
          [
           "Huesca (Aragon)",
           "Gurrea de Gállego"
          ],
          [
           "Lugo (Galicia)",
           "Concello de Xove, Concello de Viveiro"
          ],
          [
           "Cadiz (Andalucía)",
           "Jeréz de la Frontera "
          ],
          [
           "Huesca (Aragon)",
           "Robres"
          ],
          [
           "Palencia (Castilla y Leon)",
           "Fuentes de Valdepero"
          ],
          [
           "Salamanca (Castilla y Leon)",
           "Santiz, Valdelosa, Zamayón"
          ],
          [
           "Albacete (Castilla-La Mancha)",
           "Pozohondo, Hellín, Liétor "
          ],
          [
           "Navarra",
           "Aibar, Lumbier"
          ],
          [
           "Valencia (Comunidad Valenciana)",
           "Enguera"
          ],
          [
           "Palencia (Castilla y Leon)",
           "Fuentes de Valdepero"
          ],
          [
           "Zamora (Castilla y Leon)",
           "Lubián, Hermisende"
          ],
          [
           "Zaragoza (Aragon)",
           "Aguilón"
          ],
          [
           "Navarra",
           "Anorbe, Tirapu"
          ],
          [
           "Navarra",
           "Artajona"
          ],
          [
           "Navarra",
           "Anorbe, Tirapu"
          ],
          [
           "Navarra",
           "Biurrun-olcoz, Unzué"
          ],
          [
           "Navarra",
           "Barásoaian del Añorbe, Artajona"
          ],
          [
           "Guadalajara (Castilla-La Mancha)",
           "Tartanedo, Torrubia, Fuentelsaz "
          ],
          [
           "Navarra",
           "Cabanillas"
          ],
          [
           "Navarra",
           "Cabanillas"
          ],
          [
           "Zaragoza (Aragon)",
           "Bureta, Magallón, Alberite de San Juan "
          ],
          [
           "Teruel (Aragon)",
           "Escucha"
          ],
          [
           "Valladolid (Castilla y Leon)",
           "Castromonte"
          ],
          [
           "Valladolid (Castilla y Leon)",
           "Castromonte"
          ],
          [
           "Valladolid (Castilla y Leon)",
           "Castromonte, Peñaflor de Hornija, Torrelobatón "
          ],
          [
           "Valladolid (Castilla y Leon)",
           "Peñaflor de Hornija "
          ],
          [
           "Navarra",
           "San Martín de Unx"
          ],
          [
           "Leon (Castilla y Leon)",
           "Castropodame, Torre"
          ],
          [
           "Teruel (Aragon)",
           "Alacón"
          ],
          [
           "La Coruna (Galicia)",
           "Muras, As Pontes"
          ],
          [
           "Zaragoza (Aragon)",
           "Tauste "
          ],
          [
           "Lleida (Cataluna)",
           "La Granadella "
          ],
          [
           "Almeria (Andalucía)",
           null
          ],
          [
           "Huesca (Aragon)",
           "Almudévar, Tardienta"
          ],
          [
           "Zaragoza (Aragon)",
           "Magallón"
          ],
          [
           "Burgos (Castilla y Leon)",
           "Sargentes de la Lora, Basconcillos del Tozo "
          ],
          [
           "Lugo (Galicia)",
           "Mondonedo"
          ],
          [
           "Lugo (Galicia)",
           "Mondonedo, Abadin"
          ],
          [
           "Huesca (Aragon)",
           "Almudévar"
          ],
          [
           "Tarragona (Cataluna)",
           "Savallá del Comtat "
          ],
          [
           "Almeria (Andalucía)",
           "Serón "
          ],
          [
           "Almeria (Andalucía)",
           "Serón "
          ],
          [
           "Lugo (Galicia)",
           "Aranga, Guitiriz"
          ],
          [
           "Lugo (Galicia)",
           "Monfero, Aranga"
          ],
          [
           "La Coruna (Galicia)",
           "Mañón, Ortigueira"
          ],
          [
           "Lugo (Galicia)",
           "Meira, Ribeira de Piquín"
          ],
          [
           "Barcelona (Cataluna)",
           "Serra de Rubió, Castellfollit del Boix"
          ],
          [
           "Barcelona (Cataluna)",
           "Serra de Rubió, Castellfollit del Boix"
          ],
          [
           "Lleida (Cataluna)",
           "Tarrés, Fulleda"
          ],
          [
           "Lleida (Cataluna)",
           "Tarrés, Fulleda"
          ],
          [
           "Lleida (Cataluna)",
           "Vallbona de les Monges, Passanat"
          ],
          [
           "Ourense (Galicia)",
           "Chandrexa de Quixa, Castro Caldelas"
          ],
          [
           "Ourense (Galicia)",
           "Chandreixa de Queixa "
          ],
          [
           "Pontevedra (Galicia)",
           "A Lama, Cotobade, Forcarei"
          ],
          [
           "Ourense (Galicia)",
           "Baltar, Xinzo de Limia"
          ],
          [
           "Lugo (Galicia)",
           "O Paramo, Parandela "
          ],
          [
           "Tarragona (Cataluna)",
           "Cabra del Camp, Barberà de la Conca, Montblanc, Pira "
          ],
          [
           "Navarra",
           "Cabanillas"
          ],
          [
           "Navarra",
           "Cabanillas "
          ],
          [
           "Teruel (Aragon)",
           "Rillo, Cañada Vellida, Fuentes Calientes, Mezquita de Jarque"
          ],
          [
           "Teruel (Aragon)",
           "Cañada Velilla, Cuevas de Almudén, Mexquita de Jarque, Galve"
          ],
          [
           "Málaga (Andalucía)",
           "Casarabonela, Alora"
          ],
          [
           "Málaga (Andalucía)",
           "Casarabonela, Alora "
          ],
          [
           "Málaga (Andalucía)",
           "Villanueva de Algaidas"
          ],
          [
           "Asturias",
           "Salas"
          ],
          [
           "Salamanca (Castilla y Leon)",
           "Las Veguillas, Membibre de la Sierra, Frades de la Sierra, Pedrosillo de los Aires"
          ],
          [
           "Asturias",
           "Grandas de Salime"
          ],
          [
           "Albacete (Castilla-La Mancha)",
           "Caudete, Almansa"
          ],
          [
           "Albacete (Castilla-La Mancha)",
           "Almansa, Caudete"
          ],
          [
           "Zaragoza (Aragon)",
           "Sestrica, Calatayud"
          ],
          [
           "Murcia",
           "Jumilla"
          ],
          [
           "Zamora (Castilla y Leon)",
           "Ferreruela "
          ],
          [
           "Asturias",
           "Allande"
          ],
          [
           "Cuenca (Castilla-La Mancha)",
           "Mira, Aliaguilla"
          ],
          [
           "Albacete (Castilla-La Mancha)",
           "Chinchilla de MonteAragón"
          ],
          [
           "Asturias",
           "Tineo "
          ],
          [
           "Murcia",
           "Jumilla"
          ],
          [
           "Soria (Castilla y Leon)",
           "Tajahuerce, Almenar de Soria"
          ],
          [
           "Soria (Castilla y Leon)",
           "Tajahuerce, Almenar, Pinilla del Campo"
          ],
          [
           "Soria (Castilla y Leon)",
           "Olvega, Noviercas"
          ],
          [
           "Soria (Castilla y Leon)",
           "Olvega, Noviercas"
          ],
          [
           "Toledo (Castilla-La Mancha)",
           "Villacañas"
          ],
          [
           "Toledo (Castilla-La Mancha)",
           "Villacañas"
          ],
          [
           "Jaén (Andalucía)",
           "Noalejo"
          ],
          [
           "Murcia",
           "Yecla "
          ],
          [
           "Guadalajara (Castilla-La Mancha)",
           "Setiles, Tordesilos"
          ],
          [
           "Soria (Castilla y Leon)",
           "Medinaceli "
          ],
          [
           "Teruel (Aragon)",
           "Torrecilla de Fonfría, Allueva"
          ],
          [
           "Albacete (Castilla-La Mancha)",
           "Pozohondo"
          ],
          [
           "Navarra",
           "Petilla de Aragón"
          ],
          [
           "Zamora (Castilla y Leon)",
           "Riofrío de Aliste, Ferreruela"
          ],
          [
           "Soria (Castilla y Leon)",
           "Retortillo de Soria"
          ],
          [
           "Ourense (Galicia)",
           "Esgos, Mogueira, Montederramo"
          ],
          [
           "Ourense (Galicia)",
           "Nogueira de Ramuín"
          ],
          [
           "Ourense (Galicia)",
           "Nogueira de Ramuín "
          ],
          [
           "Lugo (Galicia)",
           "Muras"
          ],
          [
           "La Coruna (Galicia)",
           "Cabana de Bergantiños"
          ],
          [
           "Zamora (Castilla y Leon)",
           "Pías, Porto"
          ],
          [
           "Lugo (Galicia)",
           "Muras, Valadouro"
          ],
          [
           "Lugo (Galicia)",
           "Muras, Valadouro"
          ],
          [
           "Soria (Castilla y Leon)",
           "Soliedra"
          ],
          [
           "Burgos (Castilla y Leon)",
           "Huermeces, Merindad de Río"
          ],
          [
           "Guadalajara (Castilla-La Mancha)",
           "Somolinos, Hijes"
          ],
          [
           "La Coruna (Galicia)",
           "As Somozas"
          ],
          [
           "La Coruna (Galicia)",
           "As Somozas"
          ],
          [
           "Zaragoza (Aragon)",
           "Sos del Rey Católico"
          ],
          [
           "Zaragoza (Aragon)",
           "Sos del Rey Católico"
          ],
          [
           "La Coruna (Galicia)",
           "Monfero (A Coruña), Xermade (Lugo)"
          ],
          [
           "Almeria (Andalucía)",
           "Abla, Las tres Villas"
          ],
          [
           "Cadiz (Andalucía)",
           "Tarifa"
          ],
          [
           "Huelva (Andalucía)",
           "El Almendro "
          ],
          [
           "Soria (Castilla y Leon)",
           "Alentisque, Morón de Almazán, Momblona, Soliedra"
          ],
          [
           "Zaragoza (Aragon)",
           "Tarazona"
          ],
          [
           "Huesca (Aragon)",
           "Tardienta"
          ],
          [
           "Huesca (Aragon)",
           "Tardienta, Torralba"
          ],
          [
           "Cadiz (Andalucía)",
           "Tarifa"
          ],
          [
           "Ourense (Galicia)",
           "Tea Covelo, Melón, Avión"
          ],
          [
           "Cadiz (Andalucía)",
           "Vejer de la Frontera "
          ],
          [
           "Lugo (Galicia)",
           "Abadín"
          ],
          [
           "Salamanca (Castilla y Leon)",
           "Palacios del Arzobispo, Santiz"
          ],
          [
           "Huelva (Andalucía)",
           "Alosno"
          ],
          [
           "Zaragoza (Aragon)",
           "Villar de los Navarros"
          ],
          [
           "Almeria (Andalucía)",
           "Tíjola "
          ],
          [
           "Tarragona (Cataluna)",
           "Batea, Gandesa"
          ],
          [
           "Castellon (Comunidad Valenciana)",
           "Morella"
          ],
          [
           "Castellon (Comunidad Valenciana)",
           "Morella"
          ],
          [
           "Tarragona (Cataluna)",
           "Tortosa"
          ],
          [
           "Albacete (Castilla-La Mancha)",
           "Masegoso"
          ],
          [
           "La Coruna (Galicia)",
           "Monfero, Irixoa, Aranga"
          ],
          [
           "Palencia (Castilla y Leon)",
           "Magaz de Pisuegra"
          ],
          [
           "Almeria (Andalucía)",
           "Las Tres Villas "
          ],
          [
           "Tarragona (Cataluna)",
           "Pradell de la Teixeta, L´Argentera, La Torre de Fontaubella, Colldejou"
          ],
          [
           "Barcelona (Cataluna)",
           "Pujalt, Veciana, Argencola (Barcelona ), Sant Guim de Freixenet (Lleida) "
          ],
          [
           "Navarra",
           "Ujue"
          ],
          [
           "Soria (Castilla y Leon)",
           "Aldehuelas, Villar del Rio"
          ],
          [
           "Burgos (Castilla y Leon)",
           "Huérmeneces, Montorio, Urbel del Castillo"
          ],
          [
           "Navarra",
           "Leóz"
          ],
          [
           "Burgos (Castilla y Leon)",
           "Castrojeriz"
          ],
          [
           "Burgos (Castilla y Leon)",
           "Castrojeriz"
          ],
          [
           "Burgos (Castilla y Leon)",
           "Villafranca Montes de Oca, Cerratón de Juarros "
          ],
          [
           "Granada (Andalucía)",
           "Padul"
          ],
          [
           "Leon (Castilla y Leon)",
           "Sahagún "
          ],
          [
           "Teruel (Aragon)",
           "Escucha, Utrillas"
          ],
          [
           "Zaragoza (Aragon)",
           "La Muela"
          ],
          [
           "Huelva (Andalucía)",
           "El Almendro "
          ],
          [
           "Palencia (Castilla y Leon)",
           "Magaz de Pisuerga"
          ],
          [
           "Leon (Castilla y Leon)",
           "Quintana del Castillo, Villagatón-Branuelas "
          ],
          [
           "Leon (Castilla y Leon)",
           "Folgoso de la Ribera "
          ],
          [
           "Leon (Castilla y Leon)",
           "Folgoso de la Ribera, Igüeña, Torre del Bierzo "
          ],
          [
           "Zamora (Castilla y Leon)",
           "Muelas del Pan"
          ],
          [
           "Palencia (Castilla y Leon)",
           "Fuentes de Valdepero"
          ],
          [
           "Leon (Castilla y Leon)",
           "Cea, Sahagún "
          ],
          [
           "Burgos (Castilla y Leon)",
           "Valdeporres, Valdebezana "
          ],
          [
           "Leon (Castilla y Leon)",
           "Riello, Valdesamario, Villagatón "
          ],
          [
           "Avila (Castilla y Leon)",
           "Navalperal del Pinares, Ávila"
          ],
          [
           "Huesca (Aragon)",
           "Gurrea de Gallego"
          ],
          [
           "Zamora (Castilla y Leon)",
           "Tábara, Faramontanos"
          ],
          [
           "Avila (Castilla y Leon)",
           "Navalperal del Pinares"
          ],
          [
           "La Coruna (Galicia)",
           "Dumbría"
          ],
          [
           "Barcelona (Cataluna)",
           "Veciana "
          ],
          [
           "Navarra",
           "Falces"
          ],
          [
           "Burgos (Castilla y Leon)",
           "Monasterio de Rodilla, Fresno de Rodilla, Santa María del Invierno"
          ],
          [
           "Lugo (Galicia)",
           "Muras"
          ],
          [
           "Soria (Castilla y Leon)",
           "Medinaceli, Yelo, Miño de Medinaceli "
          ],
          [
           "Soria (Castilla y Leon)",
           "Medinaceli, Yelo, Miño de Medinaceli "
          ],
          [
           "Lugo (Galicia)",
           "O Vicedo"
          ],
          [
           "Ourense (Galicia)",
           "Bande, Verea "
          ],
          [
           "Cadiz (Andalucía)",
           "Alcala de los Gazules"
          ],
          [
           "Lugo (Galicia)",
           "Ourol, Muras "
          ],
          [
           "Lugo (Galicia)",
           "Vilalba"
          ],
          [
           "Tarragona (Cataluna)",
           "Vilalba del Arcs "
          ],
          [
           "Segovia (Castilla y Leon)",
           "Villacastín, Santa María el Cubillo"
          ],
          [
           "Zamora (Castilla y Leon)",
           "Toro"
          ],
          [
           "Cuenca (Castilla-La Mancha)",
           "Puebla de Almenara, Villamayor de Santiago, Hontanaya "
          ],
          [
           "Burgos (Castilla y Leon)",
           "Villamiel de la Sierra"
          ],
          [
           "Navarra",
           "Puente la Reina, Arraiza"
          ],
          [
           "Cuenca (Castilla-La Mancha)",
           "Villanueva de la Jara"
          ],
          [
           "Cuenca (Castilla-La Mancha)",
           "Villanueva de la Jara"
          ],
          [
           "Cuenca (Castilla-La Mancha)",
           "Villanueva de la Jara"
          ],
          [
           "Valencia (Comunidad Valenciana)",
           "Jarafuel "
          ],
          [
           "Valencia (Comunidad Valenciana)",
           "Jarafuel "
          ],
          [
           "Burgos (Castilla y Leon)",
           "Villoruebo"
          ],
          [
           "La Coruna (Galicia)",
           "Camariñas"
          ],
          [
           "Albacete (Castilla-La Mancha)",
           "Bonete"
          ],
          [
           "Albacete (Castilla-La Mancha)",
           "Bonete"
          ],
          [
           "Albacete (Castilla-La Mancha)",
           "Bonete"
          ],
          [
           "Zaragoza (Aragon)",
           "Sierra de Luna"
          ],
          [
           "Albacete (Castilla-La Mancha)",
           "Higueruela, Hoya"
          ],
          [
           "Albacete (Castilla-La Mancha)",
           "Higueruela"
          ],
          [
           "La Coruna (Galicia)",
           "Mazaricos, Muros, Carnota"
          ],
          [
           "Barcelona (Cataluna)",
           null
          ],
          [
           "Lugo (Galicia)",
           "Viveiro, Xove"
          ],
          [
           "Pontevedra (Galicia)",
           "Vilagarcía, Catoira, Caldas de Reis "
          ],
          [
           "Pontevedra (Galicia)",
           "Vilagarcía, Catoira, Caldas de Reis"
          ],
          [
           "Pontevedra (Galicia)",
           "Vilagarcía, Catoira, Caldas de Reis"
          ],
          [
           "Asturias",
           "San Tirso de Abres, Taramundi"
          ],
          [
           "Logroño (La Rioja)",
           "Alfaro, Autol"
          ],
          [
           "Logroño (La Rioja)",
           "Alfaro, Autol"
          ],
          [
           "Cadiz (Andalucía)",
           "Tarifa"
          ],
          [
           "La Coruna (Galicia)",
           "Zas, Santa Comba"
          ],
          [
           "Soria (Castilla y Leon)",
           "Gomyo, Villaciervos"
          ],
          [
           "Cadiz (Andalucía)",
           "Medina, Sidonia"
          ]
         ],
         "geo": "geo",
         "hovertemplate": "<b>%{hovertext}</b><br><br>turbines=%{marker.size}<br>latitude=%{lat}<br>longitude=%{lon}<br>zone=%{customdata[0]}<br>city=%{customdata[1]}<br>kmeans_labels=%{marker.color}<extra></extra>",
         "hovertext": [
          "A Capelada I",
          "A Capelada II",
          "A Pastoriza",
          "A Ruña",
          "Abuela Santa Ana",
          "Abuela Santa Ana Modificación",
          "Acampo Arias",
          "Acampo Armijo",
          "Acampo Hospital",
          "Adraño",
          "Aerogenerador Experimental G87 (Lubián)",
          "Aerogenerador Experimental G90",
          "Aerogenerador I+D Gamesa",
          "Ágreda",
          "Aguallal",
          "Aguallal Ampliación",
          "Aibar",
          "Aizkibel",
          "Alaiz",
          "Alba de Tormes",
          "Alcarama I",
          "Alcarama II",
          "Alconada",
          "Aldeavieja",
          "Alentisque",
          "Alhambra",
          "Alijar",
          "Alijar II",
          "Allueva",
          "Almaren",
          "Almendarache",
          "Almendros I",
          "Almendros II",
          "Almeriques",
          "Alta Anoia",
          "Altamira",
          "Alto Casillas I",
          "Alto Casillas II",
          "Alto de Croa I",
          "Alto de Croa II",
          "Alto de la Degollada",
          "Alto de Pocillo",
          "Alto de Seixal",
          "Alto d´Abara",
          "Alto Palancia I",
          "Alto Palancia II",
          "Alto Palancia III",
          "Altos de Cartagena",
          "Ameixeiras -Testeiros",
          "Ameixenda-Filgueira",
          "Ampliación Montejo",
          "Aragón",
          "Arbo",
          "Argañoso",
          "Arriello",
          "Arroyal",
          "Arteixo",
          "Arza I+D",
          "As Neves",
          "Ascoy I",
          "Ascoy II",
          "Atalaya de la Solana",
          "Atalaya I",
          "Atalaya II",
          "Ausines",
          "Aviadores",
          "Ávila",
          "Badaia",
          "Bailones",
          "Ballestas et Casetona",
          "Bandeleras",
          "Baos y Pumar Fase I",
          "Baos y Pumar Fase II",
          "Barasoain",
          "Barbanza I",
          "Barbanza II",
          "Barbers",
          "Barchín",
          "Barrax",
          "Barrax Norte Sur",
          "Becerril",
          "Belchite",
          "Belmonte",
          "Benalaz I",
          "Benalaz II",
          "Bidueiros Fase I",
          "Boira",
          "Bolaños",
          "Boquerón",
          "Boquerón I",
          "Boquerón II",
          "Boquerón III",
          "Bordecorex Norte",
          "Borja I",
          "Borja II (Arbolitas)",
          "Bosque Alto",
          "Boyal I",
          "Boyal II",
          "Boyal III",
          "Breña",
          "Brulles",
          "Buenavista",
          "Buio",
          "Bullana",
          "Bureba",
          "Buseco",
          "Bustelo",
          "Cabeza del Conde",
          "Cabeza Mesá",
          "Cabeza Morena Dueñas",
          "Cabezo de San Roque",
          "Cabezo Negro I+D",
          "Cabezuelo",
          "Cabimonteros",
          "Cabo Vilano I",
          "Cabo Vilano II A.I.E.",
          "Cabo Vilano II Repowering.",
          "Cabrillas",
          "Cadeira",
          "Caldereros",
          "Callejas",
          "Caluengo",
          "Campalbo",
          "Campanario",
          "Campisábalos",
          "Campo das Cruces",
          "Campo de Borja",
          "Campoliva II",
          "Canalejas",
          "Cañoneras",
          "Cañoneras II",
          "Canredondo I",
          "Cantalejos",
          "Cantalojas",
          "Cantalojas Ampliación",
          "Cantiruela",
          "Caparroso",
          "Capiruza I",
          "Capiruza II",
          "Caramonte",
          "Carba",
          "Carballeira",
          "Carcelén",
          "Careón",
          "Carondio y Muriellos",
          "Carracedo",
          "Carrascalejo y Monte Alto",
          "Carrascosa",
          "Carrasquillo",
          "Carrecastro",
          "Casa",
          "Casa del Aire I",
          "Casa del Aire II",
          "Castelo",
          "Castil de Tierra",
          "Castilfrío",
          "Castillo Garcimuñoz",
          "Caxado",
          "Celada Fusión",
          "Celada I",
          "Celada V",
          "Cerro Becerril",
          "Cerro Blanco (Albacete)",
          "Cerro Blanco (Burgos)",
          "Cerro Calderón",
          "Cerro Conilete",
          "Cerro de Atalaya ",
          "Cerro de la Higuera",
          "Cerro de la Nevera",
          "Cerro de la Oliva",
          "Cerro de la Punta",
          "Cerro de la Silla",
          "Cerro del Palo",
          "Cerro Durán",
          "Cerro Gavira",
          "Cerro Moreno",
          "Cerro Negro",
          "Cerro Revolcado",
          "Cerro San Antón",
          "Cerro Vicente",
          "Cerro Vicente II",
          "Cerros de Radona",
          "Chambón Fase 1",
          "Chambón Fase 2",
          "Chan do Tenón",
          "Chantada",
          "Chao das Grallas",
          "Chinchilla",
          "Chorreaderos Altos",
          "Chorreaderos Bajos",
          "Chumillas",
          "Ciesma de Grisel",
          "Cinseiro",
          "Clares",
          "Cofrentes",
          "Cogollos II (Fase A)",
          "Cogollos II (Fase B)",
          "Coll de la garganta",
          "Coll de Moro I y II",
          "Coll del Panissot",
          "Colladillo",
          "Collet deis Feixos",
          "Conesa I",
          "Conesa II",
          "Corbera",
          "Cordal de Montouto",
          "Coriscada",
          "Corme",
          "Corral Nuevo",
          "Cortijo de Guerra I",
          "Cortijo de Guerra II",
          "Cortijo de Iruelas",
          "Cortijo La Linera",
          "Coruxeiras",
          "Corzán",
          "Coto de Codesas",
          "Coto de Codesas II",
          "Coto Teixido",
          "Coucepenido",
          "Couteiro",
          "Couto de San Sebastian",
          "Cova da Serpe",
          "Cova da Serpe Ampliación",
          "Cristobailones",
          "Cruz de Carrutero ",
          "Cruz de Hierro",
          "Cruz de Hierro Ampliación",
          "Cruz I",
          "Cruz II",
          "Cuadramón",
          "Cuesta Colorada",
          "Cuesta Mañera",
          "Cueva Dorada",
          "Cuevas de Velasco",
          "Curiscao Fase I",
          "Curiscao Fase II",
          "Currás",
          "Dehesa de Tablares",
          "Dehesa del Coscojar",
          "Dehesa Virginia",
          "DemoSATH",
          "Deva",
          "Do Vilán",
          "Dólar I",
          "Dólar II",
          "Dólar III",
          "Doña Benita Cuellar",
          "Dos Picos",
          "Dos Pueblos",
          "Dueñas",
          "Echagüe",
          "Ecovent CAT II y III",
          "EEE (Repotenciado)",
          "El Acebo",
          "El Águila",
          "El Aguila II-Aguila III",
          "El Álamo",
          "El Balsón",
          "El Bancal",
          "El Bayo",
          "El Cabrito",
          "El Cabrito-La Locustura (Laese)",
          "El Campo (ES)",
          "El Candal",
          "El Canto",
          "El Carrascal II",
          "El Carrascal I ",
          "El Carril",
          "El Carril II",
          "El Castre",
          "El Cayo",
          "El Centenar",
          "El Cerro",
          "El Cerro Ampliación",
          "El Chaparro",
          "El Colmenar II",
          "El Conjuro",
          "El Coscojar II",
          "El Coterejón I",
          "El Coterejón II",
          "El Cuadrón",
          "El Escambrons",
          "El Escepar",
          "El Escepar Ampliación",
          "El Espartal",
          "El Gallego",
          "El Gallo",
          "El Gramal",
          "El Granado",
          "El Hierro",
          "El Lanchal",
          "El Manzanal",
          "El Marquesado",
          "El Moral",
          "El Moralejo I",
          "El Moralejo II",
          "El Motarro",
          "El Mulatón",
          "El Navazo Fase I",
          "El Navazo Fase II",
          "El Negredo",
          "El Nogal",
          "El Olivillo",
          "El Pandero",
          "El Páramo",
          "El Pedrón",
          "El Peralejo",
          "El Perdón",
          "El Perul",
          "El Pical",
          "El Pilar",
          "El Pino",
          "El Poleo",
          "El Puerto (Unificado)",
          "El Pulpal",
          "El Puntal",
          "El Raso",
          "El Rebollar",
          "El Redondal Fase 1",
          "El Redondal Fase 2",
          "El Relumbrar",
          "El Rincón",
          "El Romeral",
          "El Ruedo",
          "El Sardón",
          "El Saso",
          "El Saucito",
          "El Segredal",
          "El Sotillo-Tablares",
          "El Tablado",
          "El Teruelo",
          "El Tesorillo",
          "El Toranzo",
          "El Toranzo Ampliación",
          "El Venzo",
          "El Viudo I",
          "El Viudo II",
          "Elgea",
          "Elgea Ampliación",
          "Elgea-Urkilla",
          "Encinedo",
          "Enix",
          "Entredicho",
          "Era del Pico",
          "Es Milá",
          "Escalón",
          "Escucha (Unificado)",
          "Escurrillo",
          "Espina",
          "Esquileo I",
          "Experimental Barasoain",
          "Experimental Vedadillo",
          "Faladoira I",
          "Farelo",
          "Farlan",
          "Farrapa",
          "Fatarella",
          "Ferreira II",
          "Fiouco",
          "Folch I",
          "Folch II",
          "Fonsagrada",
          "Fonteavia I",
          "Fonteavia II",
          "Fontesilva",
          "Forgoselo",
          "Fréscano",
          "Fuendetodos I",
          "Fuendetodos II",
          "Fuente de la Arena",
          "Fuente Salada",
          "Fuente Vaín",
          "Gamoide",
          "Gatún I",
          "Gatún II (1F)",
          "Gavilanes",
          "Goia Peñote",
          "Gomera (Fase A)",
          "Goya",
          "Grado",
          "Graiade",
          "Grijota",
          "Grisel II",
          "Guijo I",
          "Guijo II",
          "Hedroso-Aciberos",
          "Hedroso-Aciberos Ampliacion ",
          "Higueruela",
          "Hijes",
          "Hinojal I",
          "Hinojal II",
          "Hiperión II",
          "Hontalbilla I",
          "Hontalbilla II",
          "Hornillos",
          "Hoya Gonzalo",
          "Huéneja III",
          "Ibargoiti",
          "Igea",
          "Ignacio Molina",
          "Irixo",
          "Isabela",
          "Izco",
          "Jaufil",
          "Jaulin",
          "Jerez",
          "Juno",
          "La Bandera",
          "La Bandera Ampliación",
          "La Bobia - San Isidro",
          "La Brújula",
          "La Cabaña",
          "La Cabrera Ampliación",
          "La Cabrera I",
          "La Cabrera II",
          "La Caldera",
          "La Calera",
          "La Calzada",
          "La Cámara",
          "La Campaña",
          "La Carracha",
          "La Castellana (Spain)",
          "La Caya",
          "La Celaya",
          "La Cerradilla",
          "La Cerradilla II",
          "La Collada",
          "La Cotera",
          "La Cotorra",
          "La Cuerda",
          "La Cuesta",
          "La Cueza",
          "La Dehesica",
          "La Dehesilla I",
          "La Dehesilla II",
          "La Escalereta",
          "La Esperanza",
          "La Estanca",
          "La Estancia",
          "La Fraila",
          "La Fuensanta",
          "La Gamoneda",
          "La Herrería",
          "La Joya (PEESA)",
          "La Lastra",
          "La Llacuna",
          "La Loma",
          "La Lora",
          "La Lora II ",
          "La Lora I ",
          "La Losilla",
          "La Magdalena",
          "La Mallada",
          "La Manga",
          "La Mesa (ES)",
          "La Muela II",
          "La Muela III",
          "La Muela Norte",
          "La Muñeca",
          "La Nava (Málaga)",
          "La Navica",
          "La Noguera",
          "La Peñuca",
          "La Plana I",
          "La Plana I+D",
          "La Plana I+D Ampliación",
          "La Plana II",
          "La Plana III",
          "La Plata",
          "La Plata Ampliación",
          "La Rabia",
          "La Retuerta (Fase B)",
          "La Risa",
          "La Ruya I+D",
          "La Sarguilla",
          "La Serreta + ampliación",
          "La Sía",
          "La Solana",
          "La Sorda",
          "La Sotonera",
          "La Tahuna",
          "La Tella",
          "La Torada",
          "La Torada Ampliación",
          "La Torre I",
          "La Torrecilla (Fase I)",
          "La Torrecilla (Fase II)",
          "La Unión",
          "La Valdivia",
          "La Vega I",
          "La Vega II",
          "La Victoria",
          "La Zarzuela",
          "Labrada",
          "Labradas I",
          "Labradas I Ampliación",
          "Lanternoso",
          "Larriba",
          "Las Aldehuelas",
          "Las Angosturas",
          "Las Bodeguillas",
          "Las Cabezas ",
          "Las Canteras",
          "Las Fuentes",
          "Las Gorgas",
          "Las Hoyuelas",
          "Las Llanas de Codés",
          "Las Lomas (ES)",
          "Las Lomillas",
          "Las Monjas",
          "Las Monjas Fase II",
          "Las Panaderas",
          "Las Pardas",
          "Las Perdices",
          "Las Tadeas",
          "Las Traperas",
          "Las Vegas",
          "Las Viñas (Fase A)",
          "Las Viñas (Fase B)",
          "Layna",
          "Leboreiro",
          "Lecrín",
          "Leitza-Beruete",
          "Leoz",
          "Lerga",
          "Les Calobres",
          "Les Colladetes",
          "Les Comes",
          "Les Forques",
          "Les Forques II",
          "Les Rotes",
          "Leste",
          "Levantera",
          "Lezuza",
          "Llanos de San Martín",
          "Llanos del Espino",
          "Lodoso",
          "Loma de Almendarache",
          "Loma de Ayala",
          "Loma de Lázaro",
          "Loma del Capón",
          "Loma del Suyal (Fase A)",
          "Loma del Suyal (Fase B)",
          "Loma Gorda (Guadalajara)",
          "Loma Viso",
          "Loma Viso II ",
          "Lomas de las Peñuelas",
          "Lomas de Lecrín",
          "Lomas de Manteca",
          "Lomba (Lugo)",
          "Lomba (Navarra)",
          "Lomillas",
          "Los Alburejos",
          "Los Angostillos",
          "Los Barrancos",
          "Los Campillos",
          "Los Cantales",
          "Los Castríos",
          "Los Cerros (Unzué)",
          "Los Collados",
          "Los Concejiles",
          "Los Granujales",
          "Los Isletes",
          "Los Jarales",
          "Los Labrados",
          "Los Lances",
          "Los Lirios",
          "Los Llanos (Burgos)",
          "Los Llanos (Málaga)",
          "Los Madroñales",
          "Los Morrones",
          "Los Pedreros",
          "Los Siglos",
          "Los Sillones",
          "Los Visos",
          "Los Zapateros",
          "Losilla",
          "Lubián",
          "Lubián Ampliación",
          "Lucillo",
          "Luna",
          "Luzón Norte",
          "Magallón 26",
          "Magaña",
          "Magaz",
          "Majal Alto",
          "Majales",
          "Majogazas",
          "Majogazas II",
          "Malagón I",
          "Malagón II",
          "Malefatón",
          "Mallén",
          "Malpica",
          "Malpica Ampliación",
          "Mamut",
          "Manzanera",
          "Maranchon I",
          "Maranchon IV",
          "Maranchon Sur",
          "Mareiro",
          "Marmellar",
          "Mas de la Potra",
          "Masgalán-Campo Do Coco",
          "Matabuey",
          "Maza",
          "Mazorral y Rajola",
          "Menaute",
          "Merengue",
          "Mingorrubio I",
          "Miñon",
          "Molar del Molinar",
          "Molino de Arbolitas",
          "Molino de Carragüeyes",
          "Monasterio de Rodilla",
          "Moncayuelo",
          "Monciro",
          "Monclues",
          "Mondoñedo",
          "Monforte I",
          "Monlora I",
          "Monlora II",
          "Monlora III",
          "Monlora V",
          "Monseivane",
          "Montamarta",
          "Montargull",
          "Montargull Ampliacion",
          "Monte Arca ",
          "Monte Cabezas",
          "Monte Carrio",
          "Monte da Barda",
          "Monte das Aguas",
          "Monte de Villajimena",
          "Monte do Ceo",
          "Monte Gordo",
          "Monte Molón",
          "Monte Rande",
          "Monte Redondo",
          "Monte Seixo",
          "Monte Seixo Ampliación",
          "Monte Tourado - Eixe",
          "Monte Treito",
          "Monteahumada I",
          "Montejo de Bricia",
          "Montemayor Norte",
          "Montemayor Sur",
          "Montero",
          "Montes de Abella",
          "Montes de Cierzo I",
          "Montes de Cierzo II",
          "Montija",
          "Montouto",
          "Montouto 2000",
          "Morón de Almazán",
          "Morrablancar",
          "Mostaza",
          "Motilla",
          "Motilla del Palancar",
          "Mudéfer",
          "Mudéfer II",
          "Muel",
          "Muela",
          "Muela Cubillo",
          "Muela de Santa Catalina - Cerro Negro",
          "Muela de Todolella",
          "Muela de Tortosilla",
          "Muela I",
          "Munera I",
          "Munera II",
          "Muniesa",
          "Munilla Ampliación",
          "Munilla La-Santa",
          "Muras I",
          "Muras II",
          "Muxía I",
          "Muxía II",
          "Nacimiento",
          "Navas del Marqués",
          "Navazuelo",
          "Neda",
          "Nerea",
          "Nogueira",
          "Nordés",
          "Novo",
          "O Barrigoso",
          "O Chao",
          "Oiz",
          "Ojos Albos",
          "Oncala",
          "Os Corvos",
          "Otero y Peña la Cuesta",
          "Ourol",
          "Outes",
          "Padornelo",
          "Padornelo Ampliación",
          "Padrón",
          "Padul",
          "Palomarejo",
          "Páramo de Poza I",
          "Páramo de Poza I Ampliación",
          "Páramo de Poza II",
          "Páramo de Vega",
          "Páramo los Angostillos",
          "Parc Eolic Almatret",
          "Parideras",
          "Parque Eólico Experimental Cerros Pelaos",
          "Parque Eólico Experimental San José",
          "Parque Eólico Experimental Vestas Cantabria",
          "Pasada de Tejeda",
          "Pastoriza-Rodeiro",
          "Paxareiras I (Paxareiras-Montevós)",
          "Paxareiras II (Paxareiras-Montevós)",
          "Pebesa (Baix Ebre)",
          "Pedra Chantada",
          "Pedregal Tremuzo I",
          "Pedregal Tremuzo II",
          "Pedregoso A",
          "Pedregoso B",
          "Pedregoso D",
          "Peña Alta",
          "Peña Alta Ampliación",
          "Pena Armada",
          "Peña Blanca Area Experimental",
          "Peña Blanca I",
          "Peña Blanca II",
          "Pena da Cruz",
          "Pena da Cruz Ampliación",
          "Pena da Loba",
          "Peña del Cuervo",
          "Peña del Gato",
          "Peña el Santo",
          "Pena Forcada",
          "Pena Forcada-Catasol II",
          "Peña Galluda",
          "Pena Grande",
          "Peña I",
          "Peña II",
          "Pena Luisa",
          "Peña Miján",
          "Peña Nebina",
          "Peña Roldana",
          "Pena Ventosa",
          "Pena Ventosa Reformado",
          "Peñaflor III",
          "Peñaflor IV",
          "Peñas de Dios I",
          "Peñas de Dios II",
          "Penas Grandes",
          "Penouta",
          "PES Cerceda",
          "PESUR (Repotenciado)",
          "Picazo",
          "Pico Collalbas",
          "Pico Gallo",
          "Piedras del Alto",
          "Plá d´Embalagué",
          "Plana de Jarreta",
          "Plana de la Balsa",
          "Plana de María",
          "Plana de Zaragoza",
          "Planas de Pola (Tauste)",
          "Poblacion de Carrato-Fase I",
          "Pobra do Caramiñal",
          "Polígono Sabón (Inditex)",
          "Ponte Rebordelo",
          "Portachuelo",
          "Portelrubio",
          "Porto do Son",
          "Pousadoiro ",
          "Pozalmuro I+D",
          "Pozocañada",
          "Préjano",
          "Primoral",
          "Prototipo experimental NED100",
          "Pucheruelo",
          "Puerto de Málaga Ampliacion",
          "Puerto Escandón",
          "Puerto Facinas",
          "Pujalt",
          "Punago",
          "Punta Lucero",
          "Puntaza de Remolinos",
          "Puylobo",
          "Quintanilla",
          "Quintanilla Sobresierra",
          "Rabinaldo",
          "Rabosera",
          "Radona I",
          "Radona II",
          "Rancho Viejo",
          "Raposeras",
          "Refachón",
          "Refoyas",
          "Requeixo",
          "Reventones",
          "Rincón del Cabello",
          "Río Almodóvar",
          "Río Gallego",
          "Rioboo",
          "Roalabota",
          "Robres",
          "Rodal",
          "Rodera Alta",
          "Sabina",
          "Salajones",
          "Salomón",
          "San Adrián",
          "San Ciprián",
          "San Cristóbal de Aguilón",
          "San Esteban I A",
          "San Esteban I B - Egastiaga",
          "San Esteban II A - Añorbe",
          "San Esteban II B - Olcoz",
          "San Esteban II C - Caraquidoya",
          "San Gil",
          "San Gregorio",
          "San Gregorio",
          "San Juan de Bargas",
          "San Just",
          "San Lorenzo A",
          "San Lorenzo B",
          "San Lorenzo C",
          "San Lorenzo D",
          "San Martín de Unx",
          "San Pedro (ES)",
          "San Pedro Alacón",
          "San Xoan",
          "Sancho Abarca",
          "Sant Antoni",
          "Santa Maria de Nieva",
          "Santa Quiteria",
          "Santo Cristo de Magallón",
          "Sargentes",
          "Sasdónigas Fase I",
          "Sasdónigas Fase II",
          "Sasoplano",
          "Savallá",
          "Serón I",
          "Serón II",
          "Serra da Loba",
          "Serra da Loba Ampliación",
          "Serra da Panda",
          "Serra de Meira",
          "Serra de Rubió I",
          "Serra de Rubió II",
          "Serra de Vilobí",
          "Serra de Vilobí II",
          "Serra del Tallat",
          "Serra do Burgo",
          "Serra do Burgo Ampliación",
          "Serra do Cando",
          "Serra do Larouco",
          "Serra do Páramo",
          "Serra Voltorera",
          "Serralta",
          "Serralta Ampliación",
          "Sierra Costera I",
          "Sierra Costera II",
          "Sierra de Aguas",
          "Sierra de Aguas Ampliación",
          "Sierra de Arcas",
          "Sierra de Bodenaya",
          "Sierra de Dueña",
          "Sierra de la Cuesta",
          "Sierra de la Oliva",
          "Sierra de la Oliva II",
          "Sierra de la Virgen",
          "Sierra de las Cabras",
          "Sierra de las Carbas",
          "Sierra de los Lagos",
          "Sierra de Mira",
          "Sierra de Pinilla",
          "Sierra de Tineo",
          "Sierra del Buey",
          "Sierra del Cortado",
          "Sierra del Cortado Ampliación",
          "Sierra del Madero I",
          "Sierra del Madero II",
          "Sierra del Romeral",
          "Sierra del Romeral II",
          "Sierra del Trigo (Fase I y II)",
          "Sierra Lácera",
          "Sierra Menera I",
          "Sierra Ministra",
          "Sierra Pelarda",
          "Sierra Quemada",
          "Sierra Selva I",
          "Sierra Sesnández",
          "Sierro",
          "Sil",
          "Sil Ampliación (1ª Fase)",
          "Sil Ampliación (2ª Fase)",
          "Silán",
          "Silvarredonda",
          "Sistral",
          "Soán",
          "Soán Ampliación",
          "Soliedra",
          "Sombrío",
          "Somolinos",
          "Somozas",
          "Somozas II",
          "Sos del Rey Católico",
          "Sos del Rey Católico II",
          "Sotavento",
          "Tacica de Plata",
          "Tahivilla",
          "Tallisca",
          "Tarayuela",
          "Tarazona Sur",
          "Tardienta I",
          "Tardienta II",
          "Tarifa (Alstom-Ecotècnia) ",
          "Tea",
          "Tejonero",
          "Terral (ES)",
          "Teso Santo",
          "Tharsis",
          "Tico",
          "Tíjola",
          "Torre Madrina",
          "Torre Miró I",
          "Torre Miró II",
          "Tortosa",
          "Torviscal",
          "Touriñán (Serra do Moncoso)",
          "Tres Picos",
          "Tres Villas",
          "Trucafort",
          "Turó del Magre",
          "Txutxu",
          "Urano",
          "Urbel del Castillo II",
          "Uzkita",
          "Valbonilla Fase I",
          "Valbonilla Fase II",
          "Valbuena",
          "Valcaire",
          "Valdecarrión",
          "Valdeconejos",
          "Valdecuadros (I+D)",
          "Valdefuentes",
          "Valdehorno",
          "Valdelacasa ",
          "Valdelón",
          "Valdelón Ampliación",
          "Valdelónave",
          "Valdepero",
          "Valdeperondo",
          "Valdeporres",
          "Valdesamario",
          "Valdihuelo",
          "Valiente",
          "Valmediano",
          "Valpardo",
          "Valsagueiro",
          "Veciana",
          "Vedadillo",
          "Veleta",
          "Ventoada",
          "Ventosa del Ducado A",
          "Ventosa del Ducado B",
          "Vicedo",
          "Vieiro",
          "Viento de Alcalá",
          "Vilachá",
          "Vilalba",
          "Vilalba dels Arcs",
          "Villacastín",
          "Villalazán",
          "Villamayor",
          "Villamiel",
          "Villanueva",
          "Villanueva de Jara I",
          "Villanueva de Jara II",
          "Villanueva de Jara III",
          "Villanueva I",
          "Villanueva II",
          "Villoruebo",
          "Viravento",
          "Virgen de Belén I",
          "Virgen de Belén I Ampliación",
          "Virgen de Belén II",
          "Virgen de la Peña de Alfajarín",
          "Virgen de los Llanos I",
          "Virgen de los Llanos II",
          "Virxe do Monte",
          "Viure de l’aire del cel",
          "Viveiro",
          "Xiabre Ampliación",
          "Xiabre I",
          "Xiabre II",
          "Xunqueira",
          "Yerga I",
          "Yerga II",
          "Zarzuela II",
          "Zas",
          "Zorraquín",
          "Zorreras"
         ],
         "lat": [
          43.717,
          43.687,
          43.374,
          42.94,
          39.053,
          39.053,
          41.554,
          41.66,
          41.649,
          42.91,
          42.035,
          42.04,
          42.08,
          41.853,
          42.05,
          42.05,
          42.64,
          42.72,
          42.68,
          40.826,
          42.004,
          42.004,
          41.91,
          40.72,
          41.403,
          38.868,
          36.737,
          36.747,
          40.999,
          41.467,
          36.01,
          38.658,
          38.664,
          36.463,
          41.717,
          37.029,
          39.999,
          39.999,
          43.014,
          43.014,
          42.288,
          42.119,
          43.377,
          43.521,
          40.02,
          40.02,
          40.016,
          40.63,
          42.52,
          42.57,
          42.9,
          41.58,
          42.141,
          42.534,
          40.466,
          42.416,
          43.298,
          42.123,
          42.088,
          38.273,
          38.271,
          38.76,
          41.767,
          41.786,
          42.227,
          36.01,
          40.631,
          42.85,
          38.93,
          42.202,
          41.156,
          43.502,
          43.502,
          42.605,
          42.669,
          42.64,
          41.133,
          39.676,
          39.09,
          39.045,
          42.128,
          41.302,
          43.305,
          38.958,
          38.958,
          42.34,
          39.159,
          36.68,
          39.171,
          41.83,
          41.83,
          41.83,
          41.38,
          41.83,
          41.875,
          41.54,
          41.83,
          41.83,
          41.885,
          38.689,
          42.517,
          36.19,
          43.48,
          41.26,
          42.541,
          43.441,
          43.46,
          39.531,
          40.653,
          38.98,
          41.46,
          41.453,
          41.024,
          42.248,
          43.129,
          43.154,
          43.13,
          40.53,
          43.425,
          40.807,
          39.633,
          42.32,
          39.888,
          42.253,
          41.296,
          42.725,
          41.83,
          41.645,
          41.37,
          43.145,
          43.145,
          40.811,
          37.237,
          41.23,
          41.23,
          42.72,
          42.302,
          38.785,
          38.785,
          41.125,
          43.42,
          43.39,
          39.092,
          42.91,
          43.334,
          43.384,
          41.173,
          40.009,
          42.229,
          41.591,
          43.231,
          38.95,
          39.06,
          43.09,
          41.566,
          41.948,
          39.659,
          43.58,
          41.88,
          42.027,
          42.049,
          42.41,
          38.731,
          42.538,
          39.454,
          36.254,
          41.556,
          36.926,
          39.892,
          39.751,
          38.986,
          38.806,
          39.451,
          37.077,
          37.101,
          39.687,
          39.924,
          38.729,
          39.744,
          38.83,
          38.83,
          41.268,
          42.17,
          42.17,
          43.73,
          42.649,
          43.354,
          38.92,
          36.69,
          36.68,
          39.755,
          41.861,
          42.03,
          41.03,
          39.238,
          42.201,
          42.201,
          41.163,
          41.12,
          41.283,
          40.654,
          41.182,
          41.506,
          41.506,
          41.126,
          43.228,
          43.67,
          43.284,
          42.743,
          36.499,
          36.53,
          36.01,
          37.045,
          43.489,
          42.923,
          42.989,
          42.989,
          43.52,
          43.72,
          43.557,
          42.69,
          43.092,
          43.094,
          38.828,
          42.251,
          40.72,
          40.72,
          39.858,
          39.858,
          43.44,
          39.466,
          41.91,
          37.17,
          40,
          43.471,
          43.471,
          42.94,
          42.675,
          41.711,
          39.068,
          43.47,
          42.266,
          43.149,
          37.18,
          37.18,
          37.18,
          36.589,
          41.989,
          41.28,
          41.88,
          42.67,
          40.81,
          36.019,
          43.148,
          41.728,
          41.789,
          37.045,
          42.013,
          36.01,
          41.788,
          36.044,
          36.01,
          41.885,
          43.398,
          42.9,
          37.34,
          37.34,
          42.27,
          42.249,
          41.973,
          41.99,
          37.611,
          42.87,
          42.72,
          41.014,
          37.137,
          36.811,
          41.733,
          43.021,
          43.021,
          41.96,
          41.287,
          40.379,
          40.379,
          41.649,
          36.01,
          42.227,
          39.06,
          37.54,
          41.688,
          40.479,
          42.5,
          36.576,
          38.84,
          39.005,
          39.005,
          41.02,
          39.031,
          42.25,
          42.26,
          42.587,
          42.303,
          36.687,
          36.01,
          42.392,
          42.445,
          40.351,
          42.73,
          42.578,
          42.91,
          41.58,
          36.19,
          41.773,
          40.766,
          41.77,
          37.17,
          42.064,
          41.918,
          42.544,
          42.544,
          38.959,
          40.637,
          38.919,
          36.01,
          37.54,
          41.294,
          37.58,
          43.421,
          41.66,
          41.693,
          42.22,
          36.435,
          41.718,
          41.718,
          36.463,
          39.941,
          39.93,
          42.963,
          42.961,
          42.958,
          41.96,
          36.88,
          41.326,
          42.57,
          39.918,
          41.03,
          40.77,
          42.259,
          42.79,
          41.914,
          42.606,
          42.399,
          43.58,
          42.745,
          41.032,
          43.383,
          41.175,
          37.18,
          43.428,
          40.479,
          40.491,
          43.13,
          42.22,
          42.21,
          43.11,
          43.54,
          41.874,
          41.353,
          41.375,
          38.993,
          42.329,
          42.275,
          43.581,
          42.151,
          42.151,
          38.602,
          43.423,
          37.237,
          41.259,
          41.4,
          42.689,
          42.101,
          41.861,
          40.967,
          40.967,
          42.03,
          42.035,
          38.977,
          41.279,
          36.01,
          36.01,
          41.852,
          41.33,
          41.33,
          41.96,
          39.06,
          37.18,
          42.65,
          42.014,
          36.42,
          42.52,
          38.711,
          42.642,
          37.502,
          41.45,
          36.583,
          41.84,
          42.074,
          42.074,
          43.342,
          42.46,
          39.06,
          39.42,
          39.42,
          39.42,
          42.522,
          42.653,
          42.598,
          36.935,
          42.566,
          41.58,
          36.536,
          42.449,
          43.33,
          37.34,
          37.34,
          41.176,
          42.971,
          43.01,
          38.797,
          37.045,
          42.393,
          39.157,
          41.914,
          41.914,
          36.951,
          41.295,
          41.885,
          36.252,
          42.441,
          38.686,
          41.996,
          36.16,
          36.01,
          42.559,
          41.474,
          40.672,
          42.754,
          42.754,
          42.754,
          38.896,
          43.044,
          42.41,
          36.01,
          42.78,
          41.58,
          41.58,
          41.592,
          41.91,
          36.911,
          39.149,
          37.023,
          43.02,
          41.557,
          41.557,
          41.557,
          41.542,
          41.545,
          39.999,
          39.999,
          36.687,
          37.507,
          36.01,
          42.79,
          39.111,
          41.69,
          43.15,
          39.031,
          42.543,
          42.085,
          36.01,
          38.479,
          42.874,
          42.874,
          36.01,
          40.794,
          40.794,
          37.61,
          37.14,
          41.576,
          41.576,
          36.419,
          42.183,
          43.36,
          42.117,
          42.117,
          39.066,
          42.194,
          41.997,
          37.055,
          39.031,
          37.61,
          42.119,
          42.287,
          42.054,
          38.817,
          42.59,
          36.91,
          37.182,
          36.463,
          36.462,
          41.789,
          42.72,
          37.128,
          42.232,
          41.31,
          36.508,
          42.474,
          42.474,
          41.101,
          42.89,
          36.959,
          43.068,
          42.547,
          42.58,
          40.883,
          40.909,
          41.12,
          41.5,
          41.5,
          41.357,
          43.56,
          36.01,
          38.9,
          42.454,
          36.992,
          42.427,
          36.01,
          37.154,
          36.405,
          36.956,
          36.254,
          36.254,
          41.009,
          39.044,
          39.044,
          36.254,
          36.958,
          36.96,
          43.36,
          42.442,
          39.469,
          36.459,
          41.975,
          37.045,
          41.386,
          41.701,
          43.08,
          42.65,
          42.336,
          40.451,
          36.321,
          36.564,
          37.18,
          41.56,
          36.082,
          37.374,
          42.2,
          36.389,
          37.002,
          37.503,
          38.701,
          36.01,
          37.17,
          41.694,
          42.214,
          39.058,
          42.03,
          42.07,
          42.41,
          41.85,
          41.051,
          41.789,
          41.97,
          41.992,
          37.611,
          38.703,
          38.7,
          38.7,
          39.286,
          39.286,
          38.96,
          41.883,
          43.3,
          43.308,
          37.024,
          40.64,
          41.05,
          41.05,
          41.03,
          43.56,
          42.405,
          41.175,
          42.6,
          40.86,
          39.636,
          39.999,
          37.047,
          40.037,
          38.939,
          43.108,
          38.73,
          41.83,
          41.83,
          42.466,
          42.442,
          43.08,
          41.357,
          43.452,
          41.069,
          42.166,
          42.166,
          42.166,
          42.038,
          43.33,
          41.644,
          41.554,
          41.554,
          42.633,
          42.723,
          42.73,
          43.243,
          43.53,
          42.119,
          42.39,
          37.304,
          39.705,
          43.686,
          43.12,
          42.461,
          42.461,
          43.108,
          42.75,
          36.01,
          42.9,
          43.44,
          43.36,
          41.786,
          42.811,
          42.067,
          42.067,
          43.09,
          43.36,
          42.148,
          41.389,
          38.97,
          36.337,
          39.562,
          39.562,
          41.037,
          41.037,
          41.46,
          38.764,
          40.025,
          39.924,
          40.641,
          38.96,
          39.458,
          39.084,
          39.084,
          41.032,
          42.206,
          42.206,
          43.563,
          43.563,
          43.078,
          43.078,
          37.125,
          40.64,
          40.63,
          43.359,
          41.983,
          42.413,
          43.581,
          43.584,
          43.11,
          43.522,
          43.216,
          40.71,
          41.97,
          43.69,
          42.78,
          43.565,
          42.83,
          42.059,
          42.059,
          42.74,
          36.991,
          37.46,
          42.68,
          42.665,
          42.66,
          42.517,
          41.975,
          41.305,
          41.224,
          37.021,
          37.178,
          42.96,
          36.172,
          43.289,
          42.86,
          42.82,
          40.81,
          43.52,
          42.838,
          42.838,
          36.01,
          36.01,
          36.01,
          42.84,
          42.78,
          42.95,
          42.54,
          42.54,
          42.54,
          42.26,
          42.26,
          43.348,
          43.458,
          42.664,
          42.793,
          43.15,
          43.21,
          43.25,
          43.52,
          41.015,
          41.015,
          43.52,
          42.793,
          41.782,
          41.666,
          43.655,
          43.73,
          41.781,
          41.711,
          39.786,
          39.786,
          42.597,
          43.45,
          43.19,
          36.019,
          41.075,
          39.848,
          43.397,
          41.45,
          40.53,
          41.58,
          41.55,
          41.54,
          41.58,
          41.884,
          41.792,
          42.603,
          43.3,
          43.01,
          39.06,
          41.866,
          42.725,
          43.309,
          41.77,
          38.772,
          42.148,
          41.645,
          43.671,
          40.479,
          36.862,
          40.321,
          36.019,
          41.717,
          43.08,
          43.375,
          41.84,
          41.871,
          42.59,
          42.551,
          42.591,
          42.083,
          41.296,
          41.296,
          36.463,
          42.3,
          43.36,
          40.648,
          43.517,
          38.686,
          39.031,
          36.01,
          42.011,
          43.652,
          36.687,
          41.868,
          42.078,
          41.148,
          38.632,
          42.608,
          38.986,
          42.06,
          41.996,
          41.308,
          42.639,
          42.626,
          42.635,
          42.605,
          42.647,
          41.007,
          42.072,
          42.072,
          41.82,
          40.77,
          41.77,
          41.77,
          41.648,
          41.711,
          42.52,
          42.58,
          41.023,
          43.45,
          42.033,
          41.388,
          37.462,
          41.974,
          41.796,
          42.767,
          43.431,
          43.431,
          42.137,
          41.538,
          37.344,
          37.344,
          43.268,
          43.284,
          43.598,
          43.219,
          41.661,
          41.661,
          41.444,
          41.44,
          41.486,
          42.33,
          42.26,
          42.5,
          42.01,
          42.808,
          41.402,
          42.077,
          42.075,
          40.723,
          40.698,
          36.82,
          36.827,
          37.149,
          43.403,
          40.69,
          43.218,
          38.739,
          38.799,
          41.452,
          38.492,
          41.795,
          43.228,
          39.728,
          38.716,
          43.355,
          38.52,
          41.75,
          41.75,
          41.75,
          41.75,
          39.653,
          39.653,
          37.513,
          38.741,
          40.713,
          41.173,
          41,
          38.727,
          42.441,
          41.771,
          41.3,
          42.3,
          42.41,
          42.413,
          43.47,
          43.186,
          42.12,
          43.54,
          43.54,
          41.47,
          42.43,
          41.282,
          43.518,
          43.538,
          42.491,
          42.458,
          43.36,
          37.149,
          36.01,
          37.507,
          41.44,
          41.871,
          41.927,
          41.927,
          36.013,
          42.37,
          36.313,
          43.36,
          40.965,
          37.591,
          41.159,
          37.346,
          41.098,
          40.62,
          40.62,
          40.81,
          38.744,
          43.33,
          41.989,
          37.165,
          41.14,
          41.634,
          42.544,
          42.08,
          42.584,
          42.619,
          42.236,
          42.236,
          42.384,
          36.998,
          42.427,
          40.786,
          41.58,
          37.507,
          41.983,
          42.641,
          42.667,
          42.667,
          41.525,
          42.055,
          42.372,
          43.021,
          42.724,
          40.592,
          42.029,
          41.858,
          40.59,
          43.01,
          41.666,
          42.407,
          42.46,
          43.47,
          41.195,
          41.195,
          43.692,
          42.095,
          36.429,
          43.521,
          43.3,
          41.12,
          40.72,
          41.52,
          39.762,
          42.18,
          42.746,
          39.44,
          39.44,
          39.44,
          39.16,
          39.16,
          42.18,
          43.15,
          38.872,
          38.865,
          38.918,
          41.704,
          38.979,
          38.979,
          42.94,
          41.71,
          43.652,
          42.641,
          42.636,
          42.636,
          43.41,
          42.151,
          42.144,
          36.01,
          43.1,
          41.76,
          36.135
         ],
         "legendgroup": "",
         "lon": [
          -7.937,
          -7.96,
          -7.327,
          -8.99,
          -1.502,
          -1.502,
          -0.784,
          -0.87,
          -0.89,
          -9.04,
          -6.908,
          -6.91,
          -6.998,
          -1.92,
          -6.96,
          -6.96,
          -1.391,
          -1.695,
          -1.58,
          -5.513,
          -2.046,
          -2.046,
          -4.78,
          -4.47,
          -2.325,
          -3.126,
          -6.28,
          -6.256,
          -1.04,
          -1.623,
          -5.6,
          -1.435,
          -1.428,
          -5.945,
          -1.451,
          -5.01,
          -0.627,
          -0.627,
          -9.051,
          -9.051,
          -4.139,
          -4.49,
          -7.383,
          -6.788,
          -0.7,
          -0.7,
          -0.697,
          -4.34,
          -8.22,
          -8.2,
          -3.86,
          -1.12,
          -8.336,
          -6.289,
          -0.215,
          -3.769,
          -8.584,
          -1.14,
          -8.415,
          -1.376,
          -1.38,
          -2.055,
          -1.265,
          -1.278,
          -3.6,
          -5.6,
          -4.509,
          -2.855,
          -3.18,
          -4.163,
          -5.854,
          -6.265,
          -6.265,
          -1.69,
          -8.962,
          -8.978,
          -0.583,
          -2.076,
          -2.196,
          -2.203,
          -4.635,
          -0.697,
          -6.274,
          -0.905,
          -0.905,
          -8.45,
          -1.13,
          -6.13,
          -1.228,
          -1.53,
          -1.53,
          -1.53,
          -2.72,
          -1.53,
          -1.573,
          -0.996,
          -1.53,
          -1.53,
          -1.439,
          -2.322,
          -4.007,
          -5.92,
          -8.14,
          -2.38,
          -3.41,
          -6.643,
          -7.79,
          -3.515,
          -5.05,
          -2.651,
          -1.09,
          -0.995,
          -2.179,
          -2.254,
          -9.185,
          -9.211,
          -9.19,
          -0.26,
          -7.33,
          -1.584,
          -1.813,
          -1.832,
          -1.25,
          -3.638,
          -3.173,
          -8.134,
          -1.53,
          -0.739,
          -3.2,
          -3.496,
          -3.496,
          -2.548,
          -5.103,
          -3.24,
          -3.24,
          -3.75,
          -1.634,
          -1.992,
          -1.992,
          -2.429,
          -7.64,
          -7.83,
          -1.318,
          -8.01,
          -6.724,
          -7.367,
          -2.437,
          -2.761,
          -4.178,
          -4.97,
          -7.789,
          -2.54,
          -1.83,
          -8.69,
          -2.296,
          -2.286,
          -2.381,
          -7.79,
          -4.363,
          -4.218,
          -4.176,
          -6.3,
          -2.417,
          -3.407,
          -2.242,
          -5.962,
          -0.955,
          -4.885,
          -0.96,
          -3.906,
          -1.385,
          -0.953,
          -2.227,
          -5.014,
          -4.881,
          -3.223,
          -1.133,
          -1.076,
          -3.292,
          -1.682,
          -1.682,
          -2.425,
          -4.278,
          -4.278,
          -7.67,
          -7.89,
          -6.97,
          -1.727,
          -6.13,
          -6.13,
          -2.045,
          -1.724,
          -6.91,
          -2.24,
          -1.142,
          -3.699,
          -3.699,
          -0.705,
          -0.409,
          -0.429,
          -4.981,
          -0.92,
          -1.262,
          -1.262,
          -0.479,
          -7.949,
          -7.73,
          -8.954,
          -3.869,
          -6.074,
          -6.19,
          -5.6,
          -4.861,
          -7.651,
          -8.848,
          -8.024,
          -8.024,
          -7.73,
          -7.94,
          -7.636,
          -8.49,
          -7.915,
          -7.9,
          -3.309,
          -4.719,
          -4.47,
          -4.47,
          -1.58,
          -1.58,
          -7.42,
          -2.206,
          -4.78,
          -4.15,
          -2.528,
          -6.309,
          -6.309,
          -8.99,
          -4.611,
          -1.265,
          -1.343,
          -2.88,
          -8.27,
          -9.19,
          -2.97,
          -3.01,
          -3.01,
          -5.991,
          -4.495,
          -2.94,
          -4.55,
          -1.597,
          -0.52,
          -5.603,
          -6.958,
          -1.301,
          -1.227,
          -4.861,
          -0.765,
          -5.6,
          -1.321,
          -5.562,
          -5.6,
          -1.441,
          -6.93,
          -3.69,
          -2.47,
          -2.47,
          -4.17,
          -4.199,
          -4.753,
          -2.325,
          -7.246,
          -3.639,
          -3.74,
          -2.506,
          -2.834,
          -3.493,
          -1.235,
          -3.769,
          -3.769,
          -4.26,
          -0.428,
          -2.626,
          -2.626,
          -0.89,
          -5.6,
          -4.008,
          -1.83,
          -7.459,
          -5.978,
          -4.682,
          -6.16,
          -6.152,
          -3.593,
          -1.37,
          -1.37,
          -0.83,
          -1.143,
          -4.2,
          -4.18,
          -3.736,
          -3.635,
          -6.137,
          -5.6,
          -3.761,
          -6.245,
          -2.61,
          -1.74,
          -3.867,
          -4.27,
          -1.12,
          -5.49,
          -5.041,
          -0.8,
          -2.03,
          -4.846,
          -4.449,
          -4.38,
          -6.421,
          -6.421,
          -1.235,
          -5.01,
          -1.723,
          -5.6,
          -7.451,
          -1.048,
          -7.146,
          -6.665,
          -1.27,
          -1.834,
          -4.27,
          -5.454,
          -1.917,
          -1.917,
          -5.945,
          -0.921,
          -0.926,
          -2.489,
          -2.498,
          -2.446,
          -4.26,
          -2.6,
          -0.947,
          -6.58,
          -4.259,
          -2.24,
          -0.84,
          -2.197,
          -4.908,
          -4.78,
          -1.678,
          -1.835,
          -7.79,
          -7.939,
          -0.815,
          -7.364,
          -0.5,
          -3.05,
          -7.549,
          -0.199,
          -0.188,
          -7.07,
          -8.37,
          -8.37,
          -8.818,
          -8.01,
          -1.452,
          -0.96,
          -0.957,
          -1.34,
          -4.034,
          -3.629,
          -7.466,
          -2.041,
          -2.041,
          -1.291,
          -7.694,
          -5.103,
          -1.005,
          -3.29,
          -8.998,
          -4.485,
          -1.724,
          -2.161,
          -2.161,
          -6.91,
          -6.908,
          -1.443,
          -3.043,
          -5.6,
          -5.6,
          -2.224,
          -2.64,
          -2.58,
          -4.26,
          -1.83,
          -2.95,
          -1.47,
          -2.068,
          -5.285,
          -8.11,
          -2.176,
          -1.42,
          -2.87,
          -0.983,
          -5.988,
          -2.25,
          -1.473,
          -1.469,
          -6.889,
          -3.47,
          -1.83,
          -0.79,
          -0.79,
          -0.79,
          -3.773,
          -1.76,
          -3.75,
          -4.871,
          -1.668,
          -1.12,
          -6.084,
          -1.694,
          -7.59,
          -2.47,
          -2.51,
          -0.899,
          -3.786,
          -3.742,
          -1.473,
          -4.861,
          -4.914,
          -2.209,
          -4.78,
          -4.78,
          -5.024,
          -3.218,
          -1.441,
          -5.97,
          -1.697,
          -2.021,
          -6.9,
          -5.721,
          -5.6,
          -3.803,
          -1.53,
          -0.703,
          -4.051,
          -4.051,
          -4.051,
          -1.776,
          -3.834,
          -6.3,
          -5.6,
          -3.65,
          -1.12,
          -1.12,
          -1.124,
          -4.78,
          -5.065,
          -2.188,
          -2.262,
          -3.7,
          -1.102,
          -1.102,
          -1.102,
          -1.097,
          -1.079,
          -3.351,
          -3.351,
          -6.231,
          -7.27,
          -5.6,
          -4.26,
          -1.484,
          -1.281,
          -3.571,
          -1.143,
          -1.752,
          -0.711,
          -5.6,
          -1.324,
          -3.642,
          -3.643,
          -5.6,
          -0.98,
          -0.98,
          -0.862,
          -5.144,
          -5.718,
          -5.718,
          -6.149,
          -4.153,
          -7.48,
          -5.93,
          -5.93,
          -2.674,
          -2.388,
          -2.44,
          -4.859,
          -1.143,
          -7.25,
          -4.49,
          -3.596,
          -0.697,
          -1.135,
          -2.34,
          -3.518,
          -2.789,
          -5.945,
          -5.929,
          -5.027,
          -3.75,
          -2.688,
          -4.702,
          -4.933,
          -5.893,
          -3.744,
          -3.744,
          -2.268,
          -7.96,
          -3.562,
          -1.86,
          -1.584,
          -1.519,
          -0.662,
          -0.693,
          -0.41,
          -1.219,
          -1.219,
          -0.605,
          -7.55,
          -5.6,
          -2.349,
          -3.413,
          -4.973,
          -3.844,
          -5.6,
          -2.688,
          -5.776,
          -3.669,
          -5.962,
          -5.962,
          -1.948,
          -1.746,
          -1.746,
          -5.962,
          -3.575,
          -3.572,
          -7.75,
          -2.087,
          -2.171,
          -5.872,
          -4.263,
          -4.861,
          -2.571,
          -1.353,
          -3.55,
          -1.653,
          -4.108,
          -5.702,
          -5.963,
          -5.88,
          -2.781,
          -0.96,
          -5.663,
          -7.377,
          -3.7,
          -5.284,
          -5.023,
          -2.85,
          -1.392,
          -5.6,
          -4.15,
          -1.414,
          -4.065,
          -1.058,
          -6.91,
          -6.91,
          -6.3,
          -2.1,
          -2.27,
          -1.422,
          -2.31,
          -4.485,
          -7.246,
          -2.381,
          -2.35,
          -2.35,
          -4.052,
          -4.052,
          -1.44,
          -1.387,
          -8.89,
          -8.893,
          -3.631,
          -0.34,
          -2.2,
          -2.2,
          -2.196,
          -7.64,
          -3.77,
          -0.901,
          -8.267,
          -5.432,
          -1.745,
          -0.72,
          -4.918,
          -6.092,
          -2.295,
          -9.068,
          -2.001,
          -1.53,
          -1.53,
          -3.468,
          -1.75,
          -7.29,
          -0.666,
          -7.404,
          -1.03,
          -0.933,
          -0.933,
          -0.933,
          -0.881,
          -7.59,
          -5.877,
          -1.375,
          -1.375,
          -8.563,
          -7.886,
          -8.14,
          -8.902,
          -7.9,
          -4.49,
          -8.44,
          -7.341,
          -1.381,
          -7.852,
          -9.09,
          -8.395,
          -8.395,
          -9.09,
          -8.78,
          -5.6,
          -3.86,
          -7.42,
          -7.48,
          -1.273,
          -7.34,
          -1.763,
          -1.763,
          -3.43,
          -7.48,
          -8.359,
          -2.427,
          -1.58,
          -5.944,
          -1.917,
          -1.917,
          -0.282,
          -0.282,
          -1.09,
          -1.507,
          -1.471,
          -1.133,
          -0.289,
          -1.23,
          -2.252,
          -2.427,
          -2.427,
          -0.815,
          -2.34,
          -2.34,
          -7.721,
          -7.721,
          -9.241,
          -9.241,
          -2.665,
          -4.38,
          -4.35,
          -7.478,
          -6.764,
          -7.726,
          -7.468,
          -8.121,
          -9.03,
          -7.614,
          -2.578,
          -4.5,
          -2.31,
          -7.96,
          -3.65,
          -7.642,
          -8.95,
          -6.841,
          -6.841,
          -8.66,
          -3.687,
          -5.15,
          -3.58,
          -3.501,
          -3.56,
          -3.787,
          -4.254,
          -0.402,
          -2.469,
          -3.626,
          -2.947,
          -4.097,
          -5.736,
          -8.505,
          -9.06,
          -9.09,
          -0.52,
          -7.67,
          -9.056,
          -9.056,
          -5.6,
          -5.6,
          -5.6,
          -3.6,
          -3.65,
          -7.82,
          -1.631,
          -1.644,
          -1.644,
          -7.38,
          -7.38,
          -7.883,
          -6.001,
          -6.217,
          -4.262,
          -9.2,
          -9.016,
          -8.58,
          -7.67,
          -1.852,
          -1.852,
          -7.67,
          -4.262,
          -6.064,
          -5.93,
          -7.669,
          -7.67,
          -4.943,
          -4.983,
          -0.895,
          -0.895,
          -7.912,
          -6.826,
          -8.472,
          -5.603,
          -1.852,
          -1.497,
          -6.396,
          -3.75,
          -0.26,
          -1.12,
          -0.98,
          -0.996,
          -1.12,
          -1.104,
          -4.434,
          -8.939,
          -8.51,
          -9.12,
          -1.83,
          -2.417,
          -9.006,
          -7.25,
          -2.1,
          -1.739,
          -2.197,
          -0.739,
          -7.41,
          -4.682,
          -4.831,
          -0.956,
          -5.603,
          -1.451,
          -7.29,
          -3.089,
          -1.18,
          -1.483,
          -3.672,
          -3.683,
          -3.705,
          -0.837,
          -2.471,
          -2.471,
          -5.945,
          -2.01,
          -7.48,
          -0.221,
          -7.881,
          -1.404,
          -1.143,
          -5.6,
          -0.679,
          -7.551,
          -6.137,
          -0.533,
          -4.461,
          -5.831,
          -1.925,
          -1.308,
          -0.764,
          -4.49,
          -6.9,
          -0.992,
          -1.711,
          -1.744,
          -1.726,
          -1.696,
          -1.668,
          -1.903,
          -1.547,
          -1.547,
          -1.47,
          -0.85,
          -5.04,
          -5.04,
          -5.026,
          -4.982,
          -1.56,
          -6.46,
          -0.7,
          -7.85,
          -1.315,
          -0.615,
          -1.989,
          -0.601,
          -1.366,
          -3.937,
          -7.372,
          -7.372,
          -0.59,
          -1.284,
          -2.508,
          -2.508,
          -7.922,
          -7.946,
          -7.806,
          -7.248,
          -1.619,
          -1.619,
          -1.054,
          -1.035,
          -1.168,
          -7.41,
          -7.38,
          -8.37,
          -7.72,
          -7.497,
          -1.305,
          -1.533,
          -1.528,
          -0.925,
          -0.868,
          -4.78,
          -4.704,
          -4.453,
          -6.302,
          -5.82,
          -6.814,
          -1.029,
          -1.006,
          -1.644,
          -1.401,
          -6.093,
          -6.694,
          -1.382,
          -1.602,
          -6.416,
          -1.241,
          -2.19,
          -2.19,
          -1.98,
          -2,
          -3.39,
          -3.39,
          -3.741,
          -1.174,
          -1.555,
          -2.433,
          -1.039,
          -1.926,
          -1.104,
          -6.05,
          -2.995,
          -7.61,
          -7.73,
          -7.726,
          -7.72,
          -8.844,
          -6.96,
          -7.46,
          -7.46,
          -2.383,
          -3.73,
          -3.089,
          -7.882,
          -7.906,
          -1.262,
          -1.18,
          -7.88,
          -2.74,
          -5.6,
          -7.27,
          -2.37,
          -1.66,
          -0.605,
          -0.605,
          -5.603,
          -8.25,
          -5.967,
          -7.48,
          -5.663,
          -7.108,
          -1.044,
          -2.439,
          -0.228,
          -0.09,
          -0.1,
          -0.52,
          -2.344,
          -8.05,
          -4.495,
          -2.72,
          -0.89,
          -1.437,
          -1.523,
          -2.35,
          -3.802,
          -1.515,
          -4.19,
          -4.19,
          -3.352,
          -3.682,
          -4.942,
          -0.873,
          -1.12,
          -7.27,
          -4.428,
          -6.105,
          -6.278,
          -6.278,
          -5.967,
          -4.534,
          -5.03,
          -3.769,
          -6.052,
          -4.411,
          -0.672,
          -5.878,
          -4.42,
          -9.12,
          -1.446,
          -1.828,
          -3.47,
          -7.72,
          -2.511,
          -2.511,
          -7.672,
          -7.989,
          -5.762,
          -7.611,
          -7.68,
          -0.409,
          -4.48,
          -5.39,
          -2.838,
          -3.44,
          -1.799,
          -1.96,
          -1.96,
          -1.96,
          -1.143,
          -1.143,
          -3.43,
          -9.2,
          -1.318,
          -1.332,
          -1.295,
          -0.666,
          -1.422,
          -1.422,
          -8.99,
          -1.433,
          -7.559,
          -8.684,
          -8.696,
          -8.696,
          -7.142,
          -1.964,
          -1.956,
          -5.6,
          -8.87,
          -2.63,
          -5.815
         ],
         "marker": {
          "color": [
           2,
           2,
           2,
           2,
           4,
           4,
           3,
           3,
           3,
           2,
           2,
           2,
           2,
           3,
           2,
           2,
           3,
           3,
           3,
           1,
           3,
           3,
           1,
           1,
           3,
           4,
           0,
           0,
           3,
           3,
           0,
           4,
           4,
           0,
           3,
           0,
           4,
           4,
           2,
           2,
           1,
           1,
           2,
           2,
           4,
           4,
           4,
           1,
           2,
           2,
           1,
           3,
           2,
           2,
           3,
           1,
           2,
           3,
           2,
           4,
           4,
           4,
           3,
           3,
           1,
           0,
           1,
           1,
           4,
           1,
           1,
           2,
           2,
           3,
           2,
           2,
           3,
           4,
           4,
           4,
           1,
           3,
           2,
           4,
           4,
           2,
           4,
           0,
           4,
           3,
           3,
           3,
           3,
           3,
           3,
           3,
           3,
           3,
           3,
           4,
           1,
           0,
           2,
           3,
           1,
           2,
           2,
           4,
           1,
           4,
           3,
           3,
           3,
           3,
           2,
           2,
           2,
           3,
           2,
           3,
           4,
           3,
           4,
           1,
           1,
           2,
           3,
           3,
           1,
           1,
           1,
           3,
           0,
           1,
           1,
           1,
           3,
           4,
           4,
           3,
           2,
           2,
           4,
           2,
           2,
           2,
           3,
           4,
           1,
           1,
           2,
           4,
           4,
           2,
           3,
           3,
           4,
           2,
           1,
           1,
           1,
           2,
           4,
           1,
           4,
           0,
           3,
           0,
           4,
           4,
           4,
           4,
           4,
           0,
           0,
           4,
           4,
           4,
           4,
           4,
           4,
           3,
           1,
           1,
           2,
           2,
           2,
           4,
           0,
           0,
           4,
           3,
           2,
           3,
           4,
           1,
           1,
           3,
           3,
           3,
           1,
           3,
           3,
           3,
           3,
           2,
           2,
           2,
           1,
           0,
           0,
           0,
           0,
           2,
           2,
           2,
           2,
           2,
           2,
           2,
           2,
           2,
           2,
           4,
           1,
           1,
           1,
           4,
           4,
           2,
           4,
           1,
           0,
           4,
           2,
           2,
           2,
           1,
           3,
           4,
           1,
           2,
           2,
           4,
           4,
           4,
           0,
           1,
           1,
           1,
           3,
           3,
           0,
           2,
           3,
           3,
           0,
           3,
           0,
           3,
           0,
           0,
           3,
           2,
           1,
           4,
           4,
           1,
           1,
           1,
           3,
           0,
           1,
           1,
           3,
           4,
           0,
           3,
           1,
           1,
           1,
           3,
           4,
           4,
           3,
           0,
           1,
           4,
           0,
           1,
           1,
           2,
           0,
           4,
           4,
           4,
           3,
           4,
           1,
           1,
           1,
           1,
           0,
           0,
           1,
           2,
           4,
           3,
           1,
           1,
           3,
           0,
           1,
           3,
           3,
           0,
           1,
           1,
           2,
           2,
           4,
           1,
           4,
           0,
           0,
           3,
           0,
           2,
           3,
           3,
           1,
           0,
           3,
           3,
           0,
           4,
           4,
           3,
           3,
           3,
           1,
           4,
           3,
           2,
           1,
           3,
           3,
           3,
           1,
           1,
           3,
           3,
           2,
           2,
           3,
           2,
           3,
           4,
           2,
           3,
           3,
           2,
           2,
           2,
           2,
           2,
           3,
           3,
           3,
           4,
           1,
           1,
           2,
           3,
           3,
           4,
           2,
           0,
           3,
           1,
           2,
           1,
           3,
           3,
           3,
           2,
           2,
           4,
           1,
           0,
           0,
           3,
           3,
           3,
           1,
           4,
           4,
           3,
           3,
           0,
           2,
           4,
           3,
           4,
           3,
           0,
           3,
           3,
           3,
           2,
           1,
           4,
           4,
           4,
           4,
           1,
           3,
           1,
           0,
           3,
           3,
           0,
           3,
           2,
           4,
           4,
           3,
           1,
           1,
           4,
           0,
           1,
           4,
           1,
           1,
           0,
           1,
           3,
           0,
           3,
           4,
           2,
           0,
           0,
           1,
           3,
           3,
           1,
           1,
           1,
           4,
           1,
           2,
           0,
           1,
           3,
           3,
           3,
           1,
           0,
           4,
           4,
           1,
           3,
           3,
           3,
           3,
           3,
           4,
           4,
           0,
           0,
           0,
           1,
           4,
           3,
           1,
           4,
           3,
           3,
           0,
           4,
           1,
           1,
           0,
           3,
           3,
           4,
           0,
           1,
           1,
           0,
           1,
           2,
           1,
           1,
           4,
           3,
           3,
           0,
           4,
           0,
           1,
           1,
           3,
           4,
           3,
           0,
           4,
           0,
           0,
           1,
           1,
           4,
           1,
           1,
           0,
           1,
           1,
           3,
           2,
           0,
           3,
           3,
           3,
           3,
           3,
           3,
           3,
           3,
           3,
           2,
           0,
           4,
           1,
           0,
           1,
           0,
           4,
           0,
           0,
           0,
           0,
           3,
           4,
           4,
           0,
           0,
           0,
           2,
           3,
           4,
           0,
           1,
           0,
           3,
           3,
           1,
           3,
           1,
           1,
           0,
           0,
           4,
           3,
           0,
           0,
           1,
           0,
           0,
           4,
           4,
           0,
           0,
           3,
           1,
           4,
           2,
           2,
           2,
           3,
           3,
           3,
           3,
           1,
           0,
           4,
           4,
           4,
           4,
           4,
           4,
           3,
           2,
           2,
           0,
           3,
           3,
           3,
           3,
           2,
           1,
           3,
           2,
           1,
           4,
           4,
           0,
           1,
           4,
           2,
           4,
           3,
           3,
           1,
           3,
           2,
           3,
           2,
           3,
           3,
           3,
           3,
           3,
           2,
           1,
           3,
           3,
           2,
           2,
           2,
           2,
           2,
           1,
           2,
           0,
           4,
           2,
           2,
           2,
           2,
           2,
           2,
           0,
           1,
           2,
           2,
           3,
           2,
           3,
           3,
           1,
           2,
           2,
           3,
           4,
           0,
           4,
           4,
           3,
           3,
           3,
           4,
           4,
           4,
           3,
           4,
           4,
           4,
           4,
           3,
           3,
           3,
           2,
           2,
           2,
           2,
           4,
           1,
           1,
           2,
           2,
           2,
           2,
           2,
           2,
           2,
           3,
           1,
           3,
           2,
           1,
           2,
           2,
           2,
           2,
           2,
           0,
           0,
           1,
           1,
           1,
           1,
           1,
           3,
           3,
           0,
           4,
           1,
           0,
           2,
           2,
           2,
           3,
           2,
           2,
           2,
           0,
           0,
           0,
           1,
           1,
           2,
           3,
           3,
           3,
           2,
           2,
           2,
           2,
           2,
           1,
           2,
           2,
           2,
           2,
           3,
           3,
           2,
           1,
           1,
           1,
           2,
           2,
           1,
           1,
           4,
           4,
           2,
           2,
           2,
           0,
           3,
           4,
           2,
           1,
           3,
           3,
           3,
           3,
           3,
           3,
           1,
           2,
           2,
           2,
           4,
           3,
           2,
           2,
           3,
           4,
           3,
           3,
           2,
           1,
           0,
           3,
           0,
           3,
           2,
           1,
           3,
           3,
           1,
           1,
           1,
           3,
           3,
           3,
           0,
           3,
           2,
           3,
           2,
           4,
           4,
           0,
           3,
           2,
           0,
           3,
           1,
           1,
           4,
           3,
           4,
           1,
           2,
           3,
           3,
           3,
           3,
           3,
           3,
           3,
           3,
           3,
           3,
           3,
           1,
           1,
           1,
           1,
           3,
           2,
           3,
           2,
           3,
           3,
           4,
           3,
           3,
           1,
           2,
           2,
           3,
           3,
           4,
           4,
           2,
           2,
           2,
           2,
           3,
           3,
           3,
           3,
           3,
           2,
           2,
           2,
           2,
           2,
           3,
           3,
           3,
           3,
           3,
           0,
           0,
           0,
           2,
           1,
           2,
           4,
           4,
           3,
           4,
           1,
           2,
           4,
           4,
           2,
           4,
           3,
           3,
           3,
           3,
           4,
           4,
           0,
           4,
           3,
           3,
           3,
           4,
           3,
           1,
           1,
           2,
           2,
           2,
           2,
           2,
           2,
           2,
           2,
           3,
           1,
           1,
           2,
           2,
           3,
           3,
           2,
           4,
           0,
           0,
           3,
           3,
           3,
           3,
           0,
           2,
           0,
           2,
           1,
           0,
           3,
           4,
           3,
           3,
           3,
           3,
           4,
           2,
           1,
           4,
           3,
           3,
           3,
           3,
           1,
           3,
           1,
           1,
           1,
           0,
           1,
           3,
           3,
           0,
           1,
           2,
           2,
           2,
           1,
           1,
           1,
           1,
           2,
           1,
           3,
           1,
           1,
           2,
           3,
           3,
           1,
           2,
           3,
           3,
           2,
           2,
           0,
           2,
           2,
           3,
           1,
           1,
           4,
           1,
           3,
           4,
           4,
           4,
           4,
           4,
           1,
           2,
           4,
           4,
           4,
           3,
           4,
           4,
           2,
           3,
           2,
           2,
           2,
           2,
           2,
           3,
           3,
           0,
           2,
           3,
           0
          ],
          "coloraxis": "coloraxis",
          "opacity": 0.4,
          "size": [
           50,
           45,
           10,
           41,
           25,
           8,
           15,
           24,
           3,
           36,
           1,
           1,
           1,
           12,
           18,
           28,
           52,
           18,
           54,
           3,
           8,
           53,
           3,
           22,
           31,
           17,
           16,
           11,
           7,
           14,
           11,
           12,
           14,
           13,
           15,
           25,
           15,
           15,
           2,
           4,
           25,
           2,
           15,
           3,
           13,
           23,
           16,
           32,
           75,
           58,
           3,
           16,
           2,
           11,
           33,
           31,
           1,
           1,
           3,
           9,
           2,
           24,
           30,
           30,
           15,
           4,
           18,
           30,
           21,
           20,
           18,
           36,
           11,
           12,
           60,
           27,
           12,
           14,
           1,
           13,
           3,
           30,
           41,
           25,
           11,
           29,
           23,
           12,
           11,
           33,
           22,
           20,
           40,
           27,
           30,
           29,
           1,
           1,
           1,
           24,
           20,
           26,
           31,
           19,
           6,
           10,
           76,
           4,
           15,
           25,
           31,
           1,
           15,
           75,
           3,
           20,
           2,
           19,
           6,
           21,
           33,
           33,
           58,
           19,
           37,
           1,
           3,
           18,
           22,
           21,
           17,
           14,
           7,
           17,
           7,
           10,
           44,
           25,
           21,
           22,
           30,
           37,
           62,
           30,
           25,
           3,
           10,
           19,
           58,
           4,
           13,
           28,
           34,
           25,
           20,
           33,
           17,
           37,
           10,
           17,
           13,
           9,
           32,
           21,
           33,
           3,
           1,
           22,
           21,
           5,
           37,
           18,
           33,
           23,
           21,
           3,
           8,
           31,
           4,
           46,
           35,
           16,
           25,
           14,
           28,
           30,
           14,
           9,
           11,
           15,
           25,
           18,
           8,
           16,
           13,
           22,
           3,
           13,
           20,
           3,
           17,
           6,
           15,
           16,
           22,
           6,
           40,
           68,
           20,
           15,
           17,
           17,
           14,
           31,
           48,
           20,
           25,
           35,
           38,
           4,
           9,
           12,
           12,
           21,
           24,
           22,
           4,
           47,
           31,
           25,
           33,
           33,
           23,
           19,
           50,
           8,
           6,
           1,
           25,
           15,
           1,
           66,
           13,
           25,
           21,
           4,
           16,
           2,
           10,
           4,
           36,
           37,
           16,
           27,
           15,
           9,
           18,
           9,
           10,
           60,
           102,
           1,
           6,
           19,
           29,
           14,
           25,
           9,
           5,
           16,
           33,
           20,
           30,
           12,
           8,
           10,
           36,
           14,
           9,
           3,
           11,
           16,
           15,
           3,
           3,
           30,
           26,
           44,
           17,
           14,
           25,
           45,
           7,
           20,
           3,
           6,
           2,
           19,
           35,
           5,
           9,
           12,
           17,
           10,
           16,
           27,
           13,
           40,
           31,
           30,
           25,
           11,
           14,
           38,
           23,
           13,
           3,
           3,
           17,
           19,
           20,
           4,
           17,
           20,
           30,
           3,
           18,
           18,
           8,
           30,
           51,
           12,
           30,
           11,
           4,
           16,
           13,
           37,
           3,
           38,
           15,
           40,
           18,
           14,
           4,
           15,
           29,
           33,
           9,
           25,
           5,
           3,
           37,
           18,
           12,
           10,
           21,
           25,
           15,
           33,
           10,
           69,
           16,
           22,
           12,
           37,
           7,
           23,
           56,
           15,
           29,
           16,
           25,
           33,
           11,
           33,
           43,
           9,
           81,
           32,
           11,
           6,
           4,
           19,
           13,
           37,
           7,
           57,
           20,
           7,
           4,
           20,
           43,
           34,
           13,
           33,
           25,
           40,
           14,
           4,
           11,
           64,
           50,
           2,
           1,
           22,
           33,
           43,
           1,
           58,
           35,
           49,
           4,
           4,
           16,
           15,
           3,
           16,
           4,
           3,
           66,
           21,
           3,
           32,
           25,
           11,
           1,
           9,
           1,
           48,
           14,
           4,
           19,
           25,
           25,
           3,
           15,
           8,
           3,
           3,
           33,
           65,
           28,
           12,
           7,
           1,
           12,
           1,
           31,
           31,
           14,
           28,
           28,
           15,
           15,
           40,
           25,
           35,
           27,
           14,
           20,
           13,
           22,
           3,
           1,
           1,
           25,
           35,
           25,
           8,
           13,
           19,
           6,
           1,
           1,
           75,
           27,
           52,
           4,
           12,
           10,
           25,
           14,
           3,
           8,
           19,
           26,
           8,
           19,
           2,
           2,
           12,
           22,
           25,
           28,
           15,
           16,
           16,
           59,
           18,
           43,
           11,
           4,
           9,
           3,
           40,
           117,
           10,
           6,
           14,
           4,
           13,
           33,
           1,
           11,
           6,
           10,
           11,
           8,
           25,
           32,
           6,
           32,
           41,
           41,
           17,
           54,
           2,
           15,
           6,
           22,
           19,
           6,
           15,
           21,
           19,
           33,
           6,
           10,
           8,
           17,
           1,
           1,
           25,
           1,
           1,
           3,
           1,
           2,
           30,
           3,
           33,
           5,
           14,
           10,
           17,
           12,
           24,
           3,
           7,
           7,
           12,
           16,
           8,
           32,
           17,
           24,
           29,
           46,
           17,
           15,
           30,
           10,
           23,
           25,
           26,
           16,
           18,
           7,
           11,
           33,
           19,
           12,
           33,
           15,
           25,
           33,
           19,
           14,
           18,
           25,
           75,
           15,
           72,
           2,
           1,
           17,
           9,
           24,
           6,
           20,
           33,
           2,
           75,
           8,
           33,
           33,
           19,
           15,
           13,
           6,
           75,
           1,
           1,
           8,
           32,
           12,
           15,
           31,
           5,
           4,
           13,
           13,
           7,
           46,
           14,
           15,
           7,
           3,
           23,
           37,
           2,
           1,
           3,
           3,
           24,
           35,
           11,
           66,
           37,
           16,
           11,
           40,
           3,
           16,
           28,
           17,
           30,
           5,
           41,
           44,
           28,
           31,
           53,
           25,
           20,
           9,
           21,
           17,
           25,
           7,
           27,
           69,
           25,
           17,
           27,
           56,
           33,
           22,
           17,
           14,
           5,
           18,
           37,
           37,
           23,
           11,
           12,
           16,
           26,
           10,
           53,
           2,
           27,
           25,
           2,
           4,
           40,
           22,
           33,
           17,
           10,
           22,
           21,
           37,
           9,
           2,
           11,
           15,
           66,
           1,
           67,
           9,
           13,
           25,
           11,
           1,
           1,
           1,
           6,
           14,
           34,
           32,
           27,
           33,
           36,
           7,
           9,
           9,
           9,
           41,
           4,
           23,
           1,
           22,
           54,
           15,
           12,
           37,
           8,
           25,
           1,
           26,
           2,
           1,
           26,
           8,
           9,
           33,
           3,
           10,
           22,
           28,
           4,
           30,
           30,
           26,
           19,
           9,
           7,
           2,
           21,
           7,
           15,
           37,
           40,
           25,
           66,
           32,
           32,
           32,
           54,
           1,
           1,
           1,
           31,
           53,
           6,
           1,
           12,
           1,
           37,
           35,
           12,
           3,
           27,
           7,
           13,
           6,
           21,
           46,
           5,
           18,
           14,
           10,
           1,
           6,
           19,
           12,
           16,
           8,
           26,
           28,
           33,
           7,
           17,
           20,
           16,
           43,
           16,
           19,
           13,
           3,
           17,
           24,
           29,
           25,
           2,
           21,
           25,
           37,
           4,
           13,
           8,
           10,
           18,
           25,
           25,
           56,
           14,
           26,
           21,
           15,
           18,
           41,
           10,
           12,
           48,
           5,
           20,
           25,
           40,
           20,
           12,
           5,
           3,
           49,
           9,
           25,
           5,
           18,
           7,
           28,
           58,
           33,
           17,
           27,
           3,
           33,
           19,
           13,
           44,
           49,
           10,
           10,
           25,
           1,
           15,
           48,
           16,
           2,
           10,
           12,
           37,
           12,
           71,
           20,
           36,
           11,
           20,
           59,
           45,
           27,
           22,
           23,
           14,
           9,
           45,
           21,
           28,
           9,
           23,
           23,
           20,
           20,
           4,
           23,
           50,
           10,
           23,
           70,
           14,
           6,
           20,
           13,
           10,
           26,
           29,
           6,
           14,
           16,
           80,
           1,
           22,
           20,
           24,
           13,
           101,
           20,
           15,
           12,
           75,
           52,
           4,
           37,
           16,
           36,
           25,
           5,
           43,
           16,
           20,
           33,
           33,
           23,
           16,
           29,
           3,
           25,
           91,
           15,
           25,
           38,
           25,
           29,
           5,
           4,
           19,
           8,
           17,
           38,
           3,
           14,
           4,
           6,
           9,
           3,
           5,
           15,
           23,
           37,
           12,
           19,
           10,
           40,
           25,
           25,
           18,
           36,
           17,
           30,
           9,
           13,
           41,
           19,
           21,
           4,
           38,
           31,
           22,
           6,
           17,
           21,
           30,
           3,
           2,
           2,
           21,
           8,
           19,
           1,
           35,
           5,
           37,
           15,
           40,
           35,
           32,
           1,
           43,
           2,
           11,
           3,
           3,
           37,
           36,
           8,
           90,
           6,
           29
          ],
          "sizemode": "area",
          "sizeref": 0.2925,
          "symbol": "circle"
         },
         "mode": "markers",
         "name": "",
         "showlegend": false,
         "type": "scattergeo"
        }
       ],
       "layout": {
        "autosize": true,
        "coloraxis": {
         "colorbar": {
          "title": {
           "text": "kmeans_labels"
          }
         },
         "colorscale": [
          [
           0,
           "#0d0887"
          ],
          [
           0.1111111111111111,
           "#46039f"
          ],
          [
           0.2222222222222222,
           "#7201a8"
          ],
          [
           0.3333333333333333,
           "#9c179e"
          ],
          [
           0.4444444444444444,
           "#bd3786"
          ],
          [
           0.5555555555555556,
           "#d8576b"
          ],
          [
           0.6666666666666666,
           "#ed7953"
          ],
          [
           0.7777777777777778,
           "#fb9f3a"
          ],
          [
           0.8888888888888888,
           "#fdca26"
          ],
          [
           1,
           "#f0f921"
          ]
         ]
        },
        "geo": {
         "center": {
          "lat": 39.8115,
          "lon": -1.9076
         },
         "domain": {
          "x": [
           0,
           1
          ],
          "y": [
           0,
           1
          ]
         },
         "projection": {
          "scale": 6,
          "type": "natural earth"
         },
         "scope": "europe"
        },
        "height": 600,
        "legend": {
         "itemsizing": "constant",
         "tracegroupgap": 0
        },
        "template": {
         "data": {
          "bar": [
           {
            "error_x": {
             "color": "#2a3f5f"
            },
            "error_y": {
             "color": "#2a3f5f"
            },
            "marker": {
             "line": {
              "color": "#E5ECF6",
              "width": 0.5
             },
             "pattern": {
              "fillmode": "overlay",
              "size": 10,
              "solidity": 0.2
             }
            },
            "type": "bar"
           }
          ],
          "barpolar": [
           {
            "marker": {
             "line": {
              "color": "#E5ECF6",
              "width": 0.5
             },
             "pattern": {
              "fillmode": "overlay",
              "size": 10,
              "solidity": 0.2
             }
            },
            "type": "barpolar"
           }
          ],
          "carpet": [
           {
            "aaxis": {
             "endlinecolor": "#2a3f5f",
             "gridcolor": "white",
             "linecolor": "white",
             "minorgridcolor": "white",
             "startlinecolor": "#2a3f5f"
            },
            "baxis": {
             "endlinecolor": "#2a3f5f",
             "gridcolor": "white",
             "linecolor": "white",
             "minorgridcolor": "white",
             "startlinecolor": "#2a3f5f"
            },
            "type": "carpet"
           }
          ],
          "choropleth": [
           {
            "colorbar": {
             "outlinewidth": 0,
             "ticks": ""
            },
            "type": "choropleth"
           }
          ],
          "contour": [
           {
            "colorbar": {
             "outlinewidth": 0,
             "ticks": ""
            },
            "colorscale": [
             [
              0,
              "#0d0887"
             ],
             [
              0.1111111111111111,
              "#46039f"
             ],
             [
              0.2222222222222222,
              "#7201a8"
             ],
             [
              0.3333333333333333,
              "#9c179e"
             ],
             [
              0.4444444444444444,
              "#bd3786"
             ],
             [
              0.5555555555555556,
              "#d8576b"
             ],
             [
              0.6666666666666666,
              "#ed7953"
             ],
             [
              0.7777777777777778,
              "#fb9f3a"
             ],
             [
              0.8888888888888888,
              "#fdca26"
             ],
             [
              1,
              "#f0f921"
             ]
            ],
            "type": "contour"
           }
          ],
          "contourcarpet": [
           {
            "colorbar": {
             "outlinewidth": 0,
             "ticks": ""
            },
            "type": "contourcarpet"
           }
          ],
          "heatmap": [
           {
            "colorbar": {
             "outlinewidth": 0,
             "ticks": ""
            },
            "colorscale": [
             [
              0,
              "#0d0887"
             ],
             [
              0.1111111111111111,
              "#46039f"
             ],
             [
              0.2222222222222222,
              "#7201a8"
             ],
             [
              0.3333333333333333,
              "#9c179e"
             ],
             [
              0.4444444444444444,
              "#bd3786"
             ],
             [
              0.5555555555555556,
              "#d8576b"
             ],
             [
              0.6666666666666666,
              "#ed7953"
             ],
             [
              0.7777777777777778,
              "#fb9f3a"
             ],
             [
              0.8888888888888888,
              "#fdca26"
             ],
             [
              1,
              "#f0f921"
             ]
            ],
            "type": "heatmap"
           }
          ],
          "heatmapgl": [
           {
            "colorbar": {
             "outlinewidth": 0,
             "ticks": ""
            },
            "colorscale": [
             [
              0,
              "#0d0887"
             ],
             [
              0.1111111111111111,
              "#46039f"
             ],
             [
              0.2222222222222222,
              "#7201a8"
             ],
             [
              0.3333333333333333,
              "#9c179e"
             ],
             [
              0.4444444444444444,
              "#bd3786"
             ],
             [
              0.5555555555555556,
              "#d8576b"
             ],
             [
              0.6666666666666666,
              "#ed7953"
             ],
             [
              0.7777777777777778,
              "#fb9f3a"
             ],
             [
              0.8888888888888888,
              "#fdca26"
             ],
             [
              1,
              "#f0f921"
             ]
            ],
            "type": "heatmapgl"
           }
          ],
          "histogram": [
           {
            "marker": {
             "pattern": {
              "fillmode": "overlay",
              "size": 10,
              "solidity": 0.2
             }
            },
            "type": "histogram"
           }
          ],
          "histogram2d": [
           {
            "colorbar": {
             "outlinewidth": 0,
             "ticks": ""
            },
            "colorscale": [
             [
              0,
              "#0d0887"
             ],
             [
              0.1111111111111111,
              "#46039f"
             ],
             [
              0.2222222222222222,
              "#7201a8"
             ],
             [
              0.3333333333333333,
              "#9c179e"
             ],
             [
              0.4444444444444444,
              "#bd3786"
             ],
             [
              0.5555555555555556,
              "#d8576b"
             ],
             [
              0.6666666666666666,
              "#ed7953"
             ],
             [
              0.7777777777777778,
              "#fb9f3a"
             ],
             [
              0.8888888888888888,
              "#fdca26"
             ],
             [
              1,
              "#f0f921"
             ]
            ],
            "type": "histogram2d"
           }
          ],
          "histogram2dcontour": [
           {
            "colorbar": {
             "outlinewidth": 0,
             "ticks": ""
            },
            "colorscale": [
             [
              0,
              "#0d0887"
             ],
             [
              0.1111111111111111,
              "#46039f"
             ],
             [
              0.2222222222222222,
              "#7201a8"
             ],
             [
              0.3333333333333333,
              "#9c179e"
             ],
             [
              0.4444444444444444,
              "#bd3786"
             ],
             [
              0.5555555555555556,
              "#d8576b"
             ],
             [
              0.6666666666666666,
              "#ed7953"
             ],
             [
              0.7777777777777778,
              "#fb9f3a"
             ],
             [
              0.8888888888888888,
              "#fdca26"
             ],
             [
              1,
              "#f0f921"
             ]
            ],
            "type": "histogram2dcontour"
           }
          ],
          "mesh3d": [
           {
            "colorbar": {
             "outlinewidth": 0,
             "ticks": ""
            },
            "type": "mesh3d"
           }
          ],
          "parcoords": [
           {
            "line": {
             "colorbar": {
              "outlinewidth": 0,
              "ticks": ""
             }
            },
            "type": "parcoords"
           }
          ],
          "pie": [
           {
            "automargin": true,
            "type": "pie"
           }
          ],
          "scatter": [
           {
            "fillpattern": {
             "fillmode": "overlay",
             "size": 10,
             "solidity": 0.2
            },
            "type": "scatter"
           }
          ],
          "scatter3d": [
           {
            "line": {
             "colorbar": {
              "outlinewidth": 0,
              "ticks": ""
             }
            },
            "marker": {
             "colorbar": {
              "outlinewidth": 0,
              "ticks": ""
             }
            },
            "type": "scatter3d"
           }
          ],
          "scattercarpet": [
           {
            "marker": {
             "colorbar": {
              "outlinewidth": 0,
              "ticks": ""
             }
            },
            "type": "scattercarpet"
           }
          ],
          "scattergeo": [
           {
            "marker": {
             "colorbar": {
              "outlinewidth": 0,
              "ticks": ""
             }
            },
            "type": "scattergeo"
           }
          ],
          "scattergl": [
           {
            "marker": {
             "colorbar": {
              "outlinewidth": 0,
              "ticks": ""
             }
            },
            "type": "scattergl"
           }
          ],
          "scattermapbox": [
           {
            "marker": {
             "colorbar": {
              "outlinewidth": 0,
              "ticks": ""
             }
            },
            "type": "scattermapbox"
           }
          ],
          "scatterpolar": [
           {
            "marker": {
             "colorbar": {
              "outlinewidth": 0,
              "ticks": ""
             }
            },
            "type": "scatterpolar"
           }
          ],
          "scatterpolargl": [
           {
            "marker": {
             "colorbar": {
              "outlinewidth": 0,
              "ticks": ""
             }
            },
            "type": "scatterpolargl"
           }
          ],
          "scatterternary": [
           {
            "marker": {
             "colorbar": {
              "outlinewidth": 0,
              "ticks": ""
             }
            },
            "type": "scatterternary"
           }
          ],
          "surface": [
           {
            "colorbar": {
             "outlinewidth": 0,
             "ticks": ""
            },
            "colorscale": [
             [
              0,
              "#0d0887"
             ],
             [
              0.1111111111111111,
              "#46039f"
             ],
             [
              0.2222222222222222,
              "#7201a8"
             ],
             [
              0.3333333333333333,
              "#9c179e"
             ],
             [
              0.4444444444444444,
              "#bd3786"
             ],
             [
              0.5555555555555556,
              "#d8576b"
             ],
             [
              0.6666666666666666,
              "#ed7953"
             ],
             [
              0.7777777777777778,
              "#fb9f3a"
             ],
             [
              0.8888888888888888,
              "#fdca26"
             ],
             [
              1,
              "#f0f921"
             ]
            ],
            "type": "surface"
           }
          ],
          "table": [
           {
            "cells": {
             "fill": {
              "color": "#EBF0F8"
             },
             "line": {
              "color": "white"
             }
            },
            "header": {
             "fill": {
              "color": "#C8D4E3"
             },
             "line": {
              "color": "white"
             }
            },
            "type": "table"
           }
          ]
         },
         "layout": {
          "annotationdefaults": {
           "arrowcolor": "#2a3f5f",
           "arrowhead": 0,
           "arrowwidth": 1
          },
          "autotypenumbers": "strict",
          "coloraxis": {
           "colorbar": {
            "outlinewidth": 0,
            "ticks": ""
           }
          },
          "colorscale": {
           "diverging": [
            [
             0,
             "#8e0152"
            ],
            [
             0.1,
             "#c51b7d"
            ],
            [
             0.2,
             "#de77ae"
            ],
            [
             0.3,
             "#f1b6da"
            ],
            [
             0.4,
             "#fde0ef"
            ],
            [
             0.5,
             "#f7f7f7"
            ],
            [
             0.6,
             "#e6f5d0"
            ],
            [
             0.7,
             "#b8e186"
            ],
            [
             0.8,
             "#7fbc41"
            ],
            [
             0.9,
             "#4d9221"
            ],
            [
             1,
             "#276419"
            ]
           ],
           "sequential": [
            [
             0,
             "#0d0887"
            ],
            [
             0.1111111111111111,
             "#46039f"
            ],
            [
             0.2222222222222222,
             "#7201a8"
            ],
            [
             0.3333333333333333,
             "#9c179e"
            ],
            [
             0.4444444444444444,
             "#bd3786"
            ],
            [
             0.5555555555555556,
             "#d8576b"
            ],
            [
             0.6666666666666666,
             "#ed7953"
            ],
            [
             0.7777777777777778,
             "#fb9f3a"
            ],
            [
             0.8888888888888888,
             "#fdca26"
            ],
            [
             1,
             "#f0f921"
            ]
           ],
           "sequentialminus": [
            [
             0,
             "#0d0887"
            ],
            [
             0.1111111111111111,
             "#46039f"
            ],
            [
             0.2222222222222222,
             "#7201a8"
            ],
            [
             0.3333333333333333,
             "#9c179e"
            ],
            [
             0.4444444444444444,
             "#bd3786"
            ],
            [
             0.5555555555555556,
             "#d8576b"
            ],
            [
             0.6666666666666666,
             "#ed7953"
            ],
            [
             0.7777777777777778,
             "#fb9f3a"
            ],
            [
             0.8888888888888888,
             "#fdca26"
            ],
            [
             1,
             "#f0f921"
            ]
           ]
          },
          "colorway": [
           "#636efa",
           "#EF553B",
           "#00cc96",
           "#ab63fa",
           "#FFA15A",
           "#19d3f3",
           "#FF6692",
           "#B6E880",
           "#FF97FF",
           "#FECB52"
          ],
          "font": {
           "color": "#2a3f5f"
          },
          "geo": {
           "bgcolor": "white",
           "lakecolor": "white",
           "landcolor": "#E5ECF6",
           "showlakes": true,
           "showland": true,
           "subunitcolor": "white"
          },
          "hoverlabel": {
           "align": "left"
          },
          "hovermode": "closest",
          "mapbox": {
           "style": "light"
          },
          "paper_bgcolor": "white",
          "plot_bgcolor": "#E5ECF6",
          "polar": {
           "angularaxis": {
            "gridcolor": "white",
            "linecolor": "white",
            "ticks": ""
           },
           "bgcolor": "#E5ECF6",
           "radialaxis": {
            "gridcolor": "white",
            "linecolor": "white",
            "ticks": ""
           }
          },
          "scene": {
           "xaxis": {
            "backgroundcolor": "#E5ECF6",
            "gridcolor": "white",
            "gridwidth": 2,
            "linecolor": "white",
            "showbackground": true,
            "ticks": "",
            "zerolinecolor": "white"
           },
           "yaxis": {
            "backgroundcolor": "#E5ECF6",
            "gridcolor": "white",
            "gridwidth": 2,
            "linecolor": "white",
            "showbackground": true,
            "ticks": "",
            "zerolinecolor": "white"
           },
           "zaxis": {
            "backgroundcolor": "#E5ECF6",
            "gridcolor": "white",
            "gridwidth": 2,
            "linecolor": "white",
            "showbackground": true,
            "ticks": "",
            "zerolinecolor": "white"
           }
          },
          "shapedefaults": {
           "line": {
            "color": "#2a3f5f"
           }
          },
          "ternary": {
           "aaxis": {
            "gridcolor": "white",
            "linecolor": "white",
            "ticks": ""
           },
           "baxis": {
            "gridcolor": "white",
            "linecolor": "white",
            "ticks": ""
           },
           "bgcolor": "#E5ECF6",
           "caxis": {
            "gridcolor": "white",
            "linecolor": "white",
            "ticks": ""
           }
          },
          "title": {
           "x": 0.05
          },
          "xaxis": {
           "automargin": true,
           "gridcolor": "white",
           "linecolor": "white",
           "ticks": "",
           "title": {
            "standoff": 15
           },
           "zerolinecolor": "white",
           "zerolinewidth": 2
          },
          "yaxis": {
           "automargin": true,
           "gridcolor": "white",
           "linecolor": "white",
           "ticks": "",
           "title": {
            "standoff": 15
           },
           "zerolinecolor": "white",
           "zerolinewidth": 2
          }
         }
        },
        "title": {
         "text": "Estaciones con aerogeneradores en España"
        }
       }
      }
     },
     "metadata": {},
     "output_type": "display_data"
    }
   ],
   "source": [
    "fig = px.scatter_geo(wind_farms, lat=\"latitude\",lon=\"longitude\",\n",
    "                     hover_name=\"farm_name\",\n",
    "                     size=\"turbines\",\n",
    "                    #size_max=50,\n",
    "                     hover_data=[\"zone\",\"city\"],\n",
    "                     projection=\"natural earth\",\n",
    "                     #scope=\"europe\",\n",
    "                     #center=dict(lat=40.4115, lon=3.7076),\n",
    "                     opacity = 0.4,\n",
    "                     color=\"kmeans_labels\",\n",
    "                     #color_continuous_scale = \"turbo\",#[\"#34eb89\",\"#dcff33\",\"#ff2655\",\"#9e0022\"],\n",
    "                     title = \"Estaciones con aerogeneradores en España\",\n",
    "                     )\n",
    "fig.update_layout(\n",
    "    autosize=True,\n",
    "    height=600,\n",
    "    geo=dict(\n",
    "        center=dict(\n",
    "            lat=39.8115,\n",
    "            lon=-1.9076\n",
    "        ),\n",
    "        scope='europe',\n",
    "        projection_scale=6\n",
    "    )\n",
    ")\n",
    "                     \n",
    "fig.show()"
   ]
  },
  {
   "cell_type": "code",
   "execution_count": 70,
   "metadata": {},
   "outputs": [],
   "source": [
    "wind_farms.to_csv(\"../data/wind_farms_with_clusters.csv\")"
   ]
  },
  {
   "cell_type": "code",
   "execution_count": 71,
   "metadata": {},
   "outputs": [
    {
     "data": {
      "text/html": [
       "<div>\n",
       "<style scoped>\n",
       "    .dataframe tbody tr th:only-of-type {\n",
       "        vertical-align: middle;\n",
       "    }\n",
       "\n",
       "    .dataframe tbody tr th {\n",
       "        vertical-align: top;\n",
       "    }\n",
       "\n",
       "    .dataframe thead th {\n",
       "        text-align: right;\n",
       "    }\n",
       "</style>\n",
       "<table border=\"1\" class=\"dataframe\">\n",
       "  <thead>\n",
       "    <tr style=\"text-align: right;\">\n",
       "      <th></th>\n",
       "      <th>farm_name</th>\n",
       "      <th>zone</th>\n",
       "      <th>city</th>\n",
       "      <th>turbines</th>\n",
       "      <th>latitude</th>\n",
       "      <th>longitude</th>\n",
       "      <th>kmeans_labels</th>\n",
       "    </tr>\n",
       "  </thead>\n",
       "  <tbody>\n",
       "    <tr>\n",
       "      <th>0</th>\n",
       "      <td>A Capelada I</td>\n",
       "      <td>La Coruna (Galicia)</td>\n",
       "      <td>Cariño, Cedeira, Ortigueira</td>\n",
       "      <td>50</td>\n",
       "      <td>43.717</td>\n",
       "      <td>-7.937</td>\n",
       "      <td>2</td>\n",
       "    </tr>\n",
       "    <tr>\n",
       "      <th>1</th>\n",
       "      <td>A Capelada II</td>\n",
       "      <td>La Coruna (Galicia)</td>\n",
       "      <td>Cariño, Cedeira, Ortigueira</td>\n",
       "      <td>45</td>\n",
       "      <td>43.687</td>\n",
       "      <td>-7.960</td>\n",
       "      <td>2</td>\n",
       "    </tr>\n",
       "    <tr>\n",
       "      <th>2</th>\n",
       "      <td>A Pastoriza</td>\n",
       "      <td>Lugo (Galicia)</td>\n",
       "      <td>A Pastoriza, Mondoñedo, Riotorto</td>\n",
       "      <td>10</td>\n",
       "      <td>43.374</td>\n",
       "      <td>-7.327</td>\n",
       "      <td>2</td>\n",
       "    </tr>\n",
       "    <tr>\n",
       "      <th>3</th>\n",
       "      <td>A Ruña</td>\n",
       "      <td>La Coruna (Galicia)</td>\n",
       "      <td>Muros, Mazaricos</td>\n",
       "      <td>41</td>\n",
       "      <td>42.940</td>\n",
       "      <td>-8.990</td>\n",
       "      <td>2</td>\n",
       "    </tr>\n",
       "    <tr>\n",
       "      <th>6</th>\n",
       "      <td>Abuela Santa Ana</td>\n",
       "      <td>Albacete (Castilla-La Mancha)</td>\n",
       "      <td>Pozo Llorente</td>\n",
       "      <td>25</td>\n",
       "      <td>39.053</td>\n",
       "      <td>-1.502</td>\n",
       "      <td>4</td>\n",
       "    </tr>\n",
       "    <tr>\n",
       "      <th>...</th>\n",
       "      <td>...</td>\n",
       "      <td>...</td>\n",
       "      <td>...</td>\n",
       "      <td>...</td>\n",
       "      <td>...</td>\n",
       "      <td>...</td>\n",
       "      <td>...</td>\n",
       "    </tr>\n",
       "    <tr>\n",
       "      <th>1195</th>\n",
       "      <td>Yerga II</td>\n",
       "      <td>Logroño (La Rioja)</td>\n",
       "      <td>Alfaro, Autol</td>\n",
       "      <td>36</td>\n",
       "      <td>42.144</td>\n",
       "      <td>-1.956</td>\n",
       "      <td>3</td>\n",
       "    </tr>\n",
       "    <tr>\n",
       "      <th>1196</th>\n",
       "      <td>Zarzuela II</td>\n",
       "      <td>Cadiz (Andalucía)</td>\n",
       "      <td>Tarifa</td>\n",
       "      <td>8</td>\n",
       "      <td>36.010</td>\n",
       "      <td>-5.600</td>\n",
       "      <td>0</td>\n",
       "    </tr>\n",
       "    <tr>\n",
       "      <th>1197</th>\n",
       "      <td>Zas</td>\n",
       "      <td>La Coruna (Galicia)</td>\n",
       "      <td>Zas, Santa Comba</td>\n",
       "      <td>90</td>\n",
       "      <td>43.100</td>\n",
       "      <td>-8.870</td>\n",
       "      <td>2</td>\n",
       "    </tr>\n",
       "    <tr>\n",
       "      <th>1198</th>\n",
       "      <td>Zorraquín</td>\n",
       "      <td>Soria (Castilla y Leon)</td>\n",
       "      <td>Gomyo, Villaciervos</td>\n",
       "      <td>6</td>\n",
       "      <td>41.760</td>\n",
       "      <td>-2.630</td>\n",
       "      <td>3</td>\n",
       "    </tr>\n",
       "    <tr>\n",
       "      <th>1199</th>\n",
       "      <td>Zorreras</td>\n",
       "      <td>Cadiz (Andalucía)</td>\n",
       "      <td>Medina, Sidonia</td>\n",
       "      <td>29</td>\n",
       "      <td>36.135</td>\n",
       "      <td>-5.815</td>\n",
       "      <td>0</td>\n",
       "    </tr>\n",
       "  </tbody>\n",
       "</table>\n",
       "<p>1000 rows × 7 columns</p>\n",
       "</div>"
      ],
      "text/plain": [
       "             farm_name                           zone  \\\n",
       "0         A Capelada I            La Coruna (Galicia)   \n",
       "1        A Capelada II            La Coruna (Galicia)   \n",
       "2          A Pastoriza                 Lugo (Galicia)   \n",
       "3               A Ruña            La Coruna (Galicia)   \n",
       "6     Abuela Santa Ana  Albacete (Castilla-La Mancha)   \n",
       "...                ...                            ...   \n",
       "1195          Yerga II             Logroño (La Rioja)   \n",
       "1196       Zarzuela II              Cadiz (Andalucía)   \n",
       "1197               Zas            La Coruna (Galicia)   \n",
       "1198         Zorraquín        Soria (Castilla y Leon)   \n",
       "1199          Zorreras              Cadiz (Andalucía)   \n",
       "\n",
       "                                  city  turbines  latitude  longitude  \\\n",
       "0          Cariño, Cedeira, Ortigueira        50    43.717     -7.937   \n",
       "1          Cariño, Cedeira, Ortigueira        45    43.687     -7.960   \n",
       "2     A Pastoriza, Mondoñedo, Riotorto        10    43.374     -7.327   \n",
       "3                     Muros, Mazaricos        41    42.940     -8.990   \n",
       "6                       Pozo Llorente         25    39.053     -1.502   \n",
       "...                                ...       ...       ...        ...   \n",
       "1195                     Alfaro, Autol        36    42.144     -1.956   \n",
       "1196                            Tarifa         8    36.010     -5.600   \n",
       "1197                  Zas, Santa Comba        90    43.100     -8.870   \n",
       "1198               Gomyo, Villaciervos         6    41.760     -2.630   \n",
       "1199                   Medina, Sidonia        29    36.135     -5.815   \n",
       "\n",
       "      kmeans_labels  \n",
       "0                 2  \n",
       "1                 2  \n",
       "2                 2  \n",
       "3                 2  \n",
       "6                 4  \n",
       "...             ...  \n",
       "1195              3  \n",
       "1196              0  \n",
       "1197              2  \n",
       "1198              3  \n",
       "1199              0  \n",
       "\n",
       "[1000 rows x 7 columns]"
      ]
     },
     "execution_count": 71,
     "metadata": {},
     "output_type": "execute_result"
    }
   ],
   "source": [
    "wind_farms"
   ]
  },
  {
   "cell_type": "code",
   "execution_count": null,
   "metadata": {},
   "outputs": [],
   "source": []
  }
 ],
 "metadata": {
  "kernelspec": {
   "display_name": "Python 3.9.2 64-bit",
   "language": "python",
   "name": "python3"
  },
  "language_info": {
   "codemirror_mode": {
    "name": "ipython",
    "version": 3
   },
   "file_extension": ".py",
   "mimetype": "text/x-python",
   "name": "python",
   "nbconvert_exporter": "python",
   "pygments_lexer": "ipython3",
   "version": "3.9.2"
  },
  "orig_nbformat": 4,
  "vscode": {
   "interpreter": {
    "hash": "e4500ee4982ee15e4cad7de4a865184ba756a7d65e0a109028c59b4f60670636"
   }
  }
 },
 "nbformat": 4,
 "nbformat_minor": 2
}
